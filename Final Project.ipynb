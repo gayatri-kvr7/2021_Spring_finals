{
 "cells": [
  {
   "cell_type": "code",
   "execution_count": 60,
   "metadata": {},
   "outputs": [],
   "source": [
    "import numpy as np\n",
    "import pandas as pd\n",
    "from Functions import *\n",
    "import datetime\n",
    "import seaborn as sns"
   ]
  },
  {
   "cell_type": "code",
   "execution_count": 123,
   "metadata": {},
   "outputs": [],
   "source": [
    "import plotly.express as px\n",
    "import matplotlib.pyplot as plt"
   ]
  },
  {
   "cell_type": "code",
   "execution_count": 59,
   "metadata": {},
   "outputs": [],
   "source": [
    "url = \"https://data.ct.gov/api/views/rybz-nyjw/rows.csv?accessType=DOWNLOAD\"\n",
    "Drug_Deaths = pd.read_csv(url)\n",
    "url2 = \"https://data.ct.gov/api/views/erbt-mpgb/rows.csv?accessType=DOWNLOAD\"\n",
    "Addiction_Treatment = pd.read_csv(url2)"
   ]
  },
  {
   "cell_type": "markdown",
   "metadata": {},
   "source": [
    "## Exploratory Data Analysis"
   ]
  },
  {
   "cell_type": "code",
   "execution_count": 4,
   "metadata": {},
   "outputs": [
    {
     "data": {
      "text/html": [
       "<div>\n",
       "<style scoped>\n",
       "    .dataframe tbody tr th:only-of-type {\n",
       "        vertical-align: middle;\n",
       "    }\n",
       "\n",
       "    .dataframe tbody tr th {\n",
       "        vertical-align: top;\n",
       "    }\n",
       "\n",
       "    .dataframe thead th {\n",
       "        text-align: right;\n",
       "    }\n",
       "</style>\n",
       "<table border=\"1\" class=\"dataframe\">\n",
       "  <thead>\n",
       "    <tr style=\"text-align: right;\">\n",
       "      <th></th>\n",
       "      <th>ID</th>\n",
       "      <th>Date</th>\n",
       "      <th>DateType</th>\n",
       "      <th>Age</th>\n",
       "      <th>Sex</th>\n",
       "      <th>Race</th>\n",
       "      <th>ResidenceCity</th>\n",
       "      <th>ResidenceCounty</th>\n",
       "      <th>ResidenceState</th>\n",
       "      <th>DeathCity</th>\n",
       "      <th>...</th>\n",
       "      <th>Tramad</th>\n",
       "      <th>Morphine_NotHeroin</th>\n",
       "      <th>Hydromorphone</th>\n",
       "      <th>Other</th>\n",
       "      <th>OpiateNOS</th>\n",
       "      <th>AnyOpioid</th>\n",
       "      <th>MannerofDeath</th>\n",
       "      <th>DeathCityGeo</th>\n",
       "      <th>ResidenceCityGeo</th>\n",
       "      <th>InjuryCityGeo</th>\n",
       "    </tr>\n",
       "  </thead>\n",
       "  <tbody>\n",
       "    <tr>\n",
       "      <th>0</th>\n",
       "      <td>14-0273</td>\n",
       "      <td>06/28/2014 12:00:00 AM</td>\n",
       "      <td>DateReported</td>\n",
       "      <td>NaN</td>\n",
       "      <td>NaN</td>\n",
       "      <td>NaN</td>\n",
       "      <td>NaN</td>\n",
       "      <td>NaN</td>\n",
       "      <td>NaN</td>\n",
       "      <td>NaN</td>\n",
       "      <td>...</td>\n",
       "      <td>NaN</td>\n",
       "      <td>NaN</td>\n",
       "      <td>NaN</td>\n",
       "      <td>NaN</td>\n",
       "      <td>NaN</td>\n",
       "      <td>NaN</td>\n",
       "      <td>Accident</td>\n",
       "      <td>CT\\n(41.575155, -72.738288)</td>\n",
       "      <td>CT\\n(41.575155, -72.738288)</td>\n",
       "      <td>CT\\n(41.575155, -72.738288)</td>\n",
       "    </tr>\n",
       "    <tr>\n",
       "      <th>1</th>\n",
       "      <td>13-0102</td>\n",
       "      <td>03/21/2013 12:00:00 AM</td>\n",
       "      <td>DateofDeath</td>\n",
       "      <td>48.0</td>\n",
       "      <td>Male</td>\n",
       "      <td>Black</td>\n",
       "      <td>NORWALK</td>\n",
       "      <td>NaN</td>\n",
       "      <td>NaN</td>\n",
       "      <td>NORWALK</td>\n",
       "      <td>...</td>\n",
       "      <td>NaN</td>\n",
       "      <td>NaN</td>\n",
       "      <td>NaN</td>\n",
       "      <td>NaN</td>\n",
       "      <td>NaN</td>\n",
       "      <td>NaN</td>\n",
       "      <td>Accident</td>\n",
       "      <td>Norwalk, CT\\n(41.11805, -73.412906)</td>\n",
       "      <td>NORWALK, CT\\n(41.11805, -73.412906)</td>\n",
       "      <td>CT\\n(41.575155, -72.738288)</td>\n",
       "    </tr>\n",
       "    <tr>\n",
       "      <th>2</th>\n",
       "      <td>16-0165</td>\n",
       "      <td>03/13/2016 12:00:00 AM</td>\n",
       "      <td>DateofDeath</td>\n",
       "      <td>30.0</td>\n",
       "      <td>Female</td>\n",
       "      <td>White</td>\n",
       "      <td>SANDY HOOK</td>\n",
       "      <td>FAIRFIELD</td>\n",
       "      <td>CT</td>\n",
       "      <td>DANBURY</td>\n",
       "      <td>...</td>\n",
       "      <td>NaN</td>\n",
       "      <td>NaN</td>\n",
       "      <td>NaN</td>\n",
       "      <td>NaN</td>\n",
       "      <td>NaN</td>\n",
       "      <td>Y</td>\n",
       "      <td>Accident</td>\n",
       "      <td>Danbury, CT\\n(41.393666, -73.451539)</td>\n",
       "      <td>SANDY HOOK, CT\\n(41.419998, -73.282501)</td>\n",
       "      <td>NaN</td>\n",
       "    </tr>\n",
       "    <tr>\n",
       "      <th>3</th>\n",
       "      <td>16-0208</td>\n",
       "      <td>03/31/2016 12:00:00 AM</td>\n",
       "      <td>DateofDeath</td>\n",
       "      <td>23.0</td>\n",
       "      <td>Male</td>\n",
       "      <td>White</td>\n",
       "      <td>RYE</td>\n",
       "      <td>WESTCHESTER</td>\n",
       "      <td>NY</td>\n",
       "      <td>GREENWICH</td>\n",
       "      <td>...</td>\n",
       "      <td>NaN</td>\n",
       "      <td>NaN</td>\n",
       "      <td>NaN</td>\n",
       "      <td>NaN</td>\n",
       "      <td>NaN</td>\n",
       "      <td>Y</td>\n",
       "      <td>Accident</td>\n",
       "      <td>Greenwich, CT\\n(41.026526, -73.628549)</td>\n",
       "      <td>NaN</td>\n",
       "      <td>NaN</td>\n",
       "    </tr>\n",
       "    <tr>\n",
       "      <th>4</th>\n",
       "      <td>13-0052</td>\n",
       "      <td>02/13/2013 12:00:00 AM</td>\n",
       "      <td>DateofDeath</td>\n",
       "      <td>22.0</td>\n",
       "      <td>Male</td>\n",
       "      <td>Asian, Other</td>\n",
       "      <td>FLUSHING</td>\n",
       "      <td>QUEENS</td>\n",
       "      <td>NaN</td>\n",
       "      <td>GREENWICH</td>\n",
       "      <td>...</td>\n",
       "      <td>NaN</td>\n",
       "      <td>NaN</td>\n",
       "      <td>NaN</td>\n",
       "      <td>NaN</td>\n",
       "      <td>NaN</td>\n",
       "      <td>NaN</td>\n",
       "      <td>Accident</td>\n",
       "      <td>Greenwich, CT\\n(41.026526, -73.628549)</td>\n",
       "      <td>NaN</td>\n",
       "      <td>CT\\n(41.575155, -72.738288)</td>\n",
       "    </tr>\n",
       "  </tbody>\n",
       "</table>\n",
       "<p>5 rows × 41 columns</p>\n",
       "</div>"
      ],
      "text/plain": [
       "        ID                    Date      DateType   Age     Sex          Race  \\\n",
       "0  14-0273  06/28/2014 12:00:00 AM  DateReported   NaN     NaN           NaN   \n",
       "1  13-0102  03/21/2013 12:00:00 AM   DateofDeath  48.0    Male         Black   \n",
       "2  16-0165  03/13/2016 12:00:00 AM   DateofDeath  30.0  Female         White   \n",
       "3  16-0208  03/31/2016 12:00:00 AM   DateofDeath  23.0    Male         White   \n",
       "4  13-0052  02/13/2013 12:00:00 AM   DateofDeath  22.0    Male  Asian, Other   \n",
       "\n",
       "  ResidenceCity ResidenceCounty ResidenceState  DeathCity  ... Tramad  \\\n",
       "0           NaN             NaN            NaN        NaN  ...    NaN   \n",
       "1       NORWALK             NaN            NaN    NORWALK  ...    NaN   \n",
       "2    SANDY HOOK       FAIRFIELD             CT    DANBURY  ...    NaN   \n",
       "3           RYE     WESTCHESTER             NY  GREENWICH  ...    NaN   \n",
       "4      FLUSHING          QUEENS            NaN  GREENWICH  ...    NaN   \n",
       "\n",
       "  Morphine_NotHeroin Hydromorphone Other OpiateNOS AnyOpioid MannerofDeath  \\\n",
       "0                NaN           NaN   NaN       NaN       NaN      Accident   \n",
       "1                NaN           NaN   NaN       NaN       NaN      Accident   \n",
       "2                NaN           NaN   NaN       NaN         Y      Accident   \n",
       "3                NaN           NaN   NaN       NaN         Y      Accident   \n",
       "4                NaN           NaN   NaN       NaN       NaN      Accident   \n",
       "\n",
       "                             DeathCityGeo  \\\n",
       "0             CT\\n(41.575155, -72.738288)   \n",
       "1     Norwalk, CT\\n(41.11805, -73.412906)   \n",
       "2    Danbury, CT\\n(41.393666, -73.451539)   \n",
       "3  Greenwich, CT\\n(41.026526, -73.628549)   \n",
       "4  Greenwich, CT\\n(41.026526, -73.628549)   \n",
       "\n",
       "                          ResidenceCityGeo                InjuryCityGeo  \n",
       "0              CT\\n(41.575155, -72.738288)  CT\\n(41.575155, -72.738288)  \n",
       "1      NORWALK, CT\\n(41.11805, -73.412906)  CT\\n(41.575155, -72.738288)  \n",
       "2  SANDY HOOK, CT\\n(41.419998, -73.282501)                          NaN  \n",
       "3                                      NaN                          NaN  \n",
       "4                                      NaN  CT\\n(41.575155, -72.738288)  \n",
       "\n",
       "[5 rows x 41 columns]"
      ]
     },
     "execution_count": 4,
     "metadata": {},
     "output_type": "execute_result"
    }
   ],
   "source": [
    "Drug_Deaths.head()"
   ]
  },
  {
   "cell_type": "code",
   "execution_count": 5,
   "metadata": {},
   "outputs": [
    {
     "data": {
      "text/html": [
       "<div>\n",
       "<style scoped>\n",
       "    .dataframe tbody tr th:only-of-type {\n",
       "        vertical-align: middle;\n",
       "    }\n",
       "\n",
       "    .dataframe tbody tr th {\n",
       "        vertical-align: top;\n",
       "    }\n",
       "\n",
       "    .dataframe thead th {\n",
       "        text-align: right;\n",
       "    }\n",
       "</style>\n",
       "<table border=\"1\" class=\"dataframe\">\n",
       "  <thead>\n",
       "    <tr style=\"text-align: right;\">\n",
       "      <th></th>\n",
       "      <th>FiscalYear</th>\n",
       "      <th>MonthYear</th>\n",
       "      <th>Town</th>\n",
       "      <th>AdmMonth</th>\n",
       "      <th>FYMonthOrder</th>\n",
       "      <th>AdmYear</th>\n",
       "      <th>PrimaryDrug</th>\n",
       "      <th>AdmCount</th>\n",
       "    </tr>\n",
       "  </thead>\n",
       "  <tbody>\n",
       "    <tr>\n",
       "      <th>0</th>\n",
       "      <td>2014</td>\n",
       "      <td>Jan-14</td>\n",
       "      <td>Ansonia</td>\n",
       "      <td>1</td>\n",
       "      <td>7</td>\n",
       "      <td>2014</td>\n",
       "      <td>Alcohol</td>\n",
       "      <td>14.0</td>\n",
       "    </tr>\n",
       "    <tr>\n",
       "      <th>1</th>\n",
       "      <td>2014</td>\n",
       "      <td>Jan-14</td>\n",
       "      <td>Ansonia</td>\n",
       "      <td>1</td>\n",
       "      <td>7</td>\n",
       "      <td>2014</td>\n",
       "      <td>Crack</td>\n",
       "      <td>NaN</td>\n",
       "    </tr>\n",
       "    <tr>\n",
       "      <th>2</th>\n",
       "      <td>2014</td>\n",
       "      <td>Jan-14</td>\n",
       "      <td>Ansonia</td>\n",
       "      <td>1</td>\n",
       "      <td>7</td>\n",
       "      <td>2014</td>\n",
       "      <td>Heroin</td>\n",
       "      <td>8.0</td>\n",
       "    </tr>\n",
       "    <tr>\n",
       "      <th>3</th>\n",
       "      <td>2014</td>\n",
       "      <td>Jan-14</td>\n",
       "      <td>Ansonia</td>\n",
       "      <td>1</td>\n",
       "      <td>7</td>\n",
       "      <td>2014</td>\n",
       "      <td>Marijuana, Hashish, THC</td>\n",
       "      <td>NaN</td>\n",
       "    </tr>\n",
       "    <tr>\n",
       "      <th>4</th>\n",
       "      <td>2014</td>\n",
       "      <td>Jan-14</td>\n",
       "      <td>Ansonia</td>\n",
       "      <td>1</td>\n",
       "      <td>7</td>\n",
       "      <td>2014</td>\n",
       "      <td>Other Opiates and Synthetics</td>\n",
       "      <td>NaN</td>\n",
       "    </tr>\n",
       "  </tbody>\n",
       "</table>\n",
       "</div>"
      ],
      "text/plain": [
       "   FiscalYear MonthYear     Town  AdmMonth  FYMonthOrder  AdmYear  \\\n",
       "0        2014    Jan-14  Ansonia         1             7     2014   \n",
       "1        2014    Jan-14  Ansonia         1             7     2014   \n",
       "2        2014    Jan-14  Ansonia         1             7     2014   \n",
       "3        2014    Jan-14  Ansonia         1             7     2014   \n",
       "4        2014    Jan-14  Ansonia         1             7     2014   \n",
       "\n",
       "                    PrimaryDrug  AdmCount  \n",
       "0                       Alcohol      14.0  \n",
       "1                         Crack       NaN  \n",
       "2                        Heroin       8.0  \n",
       "3       Marijuana, Hashish, THC       NaN  \n",
       "4  Other Opiates and Synthetics       NaN  "
      ]
     },
     "execution_count": 5,
     "metadata": {},
     "output_type": "execute_result"
    }
   ],
   "source": [
    "Addiction_Treatment.head()"
   ]
  },
  {
   "cell_type": "markdown",
   "metadata": {},
   "source": [
    "### EDA for Drugs_Death & Addiction_Treatment"
   ]
  },
  {
   "cell_type": "code",
   "execution_count": 222,
   "metadata": {},
   "outputs": [],
   "source": [
    "def EDA_dataframe(df):\n",
    "    print(\"Top 5 rows: {}\".format(df.head()))\n",
    "    print(\"The number of rows are:{}. the number of columns are: {}\".format(df.shape[0], df.shape[1]))\n",
    "    print(\"The number of null values in each column: {}\".format(df.isnull().sum()))\n",
    "    print(\"The datatype of each column is {}\".format(df.dtypes))"
   ]
  },
  {
   "cell_type": "code",
   "execution_count": 223,
   "metadata": {},
   "outputs": [
    {
     "name": "stdout",
     "output_type": "stream",
     "text": [
      "Top 5 rows:         ID                    Date      DateType   Age     Sex          Race  \\\n",
      "0  14-0273  06/28/2014 12:00:00 AM  DateReported   NaN     NaN           NaN   \n",
      "1  13-0102  03/21/2013 12:00:00 AM   DateofDeath  48.0    Male         Black   \n",
      "2  16-0165  03/13/2016 12:00:00 AM   DateofDeath  30.0  Female         White   \n",
      "3  16-0208  03/31/2016 12:00:00 AM   DateofDeath  23.0    Male         White   \n",
      "4  13-0052  02/13/2013 12:00:00 AM   DateofDeath  22.0    Male  Asian, Other   \n",
      "\n",
      "  ResidenceCity ResidenceCounty ResidenceState  DeathCity  ...  \\\n",
      "0           NaN             NaN            NaN        NaN  ...   \n",
      "1       NORWALK             NaN            NaN    NORWALK  ...   \n",
      "2    SANDY HOOK       FAIRFIELD             CT    DANBURY  ...   \n",
      "3           RYE     WESTCHESTER             NY  GREENWICH  ...   \n",
      "4      FLUSHING          QUEENS            NaN  GREENWICH  ...   \n",
      "\n",
      "  Morphine_NotHeroin Hydromorphone Other OpiateNOS AnyOpioid MannerofDeath  \\\n",
      "0                NaN           NaN   NaN       NaN       NaN      Accident   \n",
      "1                NaN           NaN   NaN       NaN       NaN      Accident   \n",
      "2                NaN           NaN   NaN       NaN         Y      Accident   \n",
      "3                NaN           NaN   NaN       NaN         Y      Accident   \n",
      "4                NaN           NaN   NaN       NaN       NaN      Accident   \n",
      "\n",
      "                             DeathCityGeo  \\\n",
      "0             CT\\n(41.575155, -72.738288)   \n",
      "1     Norwalk, CT\\n(41.11805, -73.412906)   \n",
      "2    Danbury, CT\\n(41.393666, -73.451539)   \n",
      "3  Greenwich, CT\\n(41.026526, -73.628549)   \n",
      "4  Greenwich, CT\\n(41.026526, -73.628549)   \n",
      "\n",
      "                          ResidenceCityGeo                InjuryCityGeo  \\\n",
      "0              CT\\n(41.575155, -72.738288)  CT\\n(41.575155, -72.738288)   \n",
      "1      NORWALK, CT\\n(41.11805, -73.412906)  CT\\n(41.575155, -72.738288)   \n",
      "2  SANDY HOOK, CT\\n(41.419998, -73.282501)                          NaN   \n",
      "3                                      NaN                          NaN   \n",
      "4                                      NaN  CT\\n(41.575155, -72.738288)   \n",
      "\n",
      "  FiscalYear  \n",
      "0       2014  \n",
      "1       2013  \n",
      "2       2016  \n",
      "3       2016  \n",
      "4       2013  \n",
      "\n",
      "[5 rows x 42 columns]\n",
      "The number of rows are:5105. the number of columns are: 42\n",
      "The number of null values in each column: ID                        0\n",
      "Date                      2\n",
      "DateType                  2\n",
      "Age                       3\n",
      "Sex                       6\n",
      "Race                     13\n",
      "ResidenceCity           173\n",
      "ResidenceCounty         797\n",
      "ResidenceState         1549\n",
      "DeathCity                 5\n",
      "DeathCounty            1100\n",
      "Location                 24\n",
      "LocationifOther        4515\n",
      "DescriptionofInjury     780\n",
      "InjuryPlace              66\n",
      "InjuryCity             1756\n",
      "InjuryCounty           2741\n",
      "InjuryState            3681\n",
      "COD                       0\n",
      "OtherSignifican        4936\n",
      "Heroin                 2576\n",
      "Cocaine                3584\n",
      "Fentanyl               2873\n",
      "FentanylAnalogue       4716\n",
      "Oxycodone              4498\n",
      "Oxymorphone            4997\n",
      "Ethanol                3858\n",
      "Hydrocodone            4987\n",
      "Benzodiazepine         3762\n",
      "Methadone              4631\n",
      "Amphet                 4946\n",
      "Tramad                 4975\n",
      "Morphine_NotHeroin     5063\n",
      "Hydromorphone          5080\n",
      "Other                  4670\n",
      "OpiateNOS              5017\n",
      "AnyOpioid              2639\n",
      "MannerofDeath            10\n",
      "DeathCityGeo              0\n",
      "ResidenceCityGeo         93\n",
      "InjuryCityGeo            78\n",
      "FiscalYear                0\n",
      "dtype: int64\n",
      "The datatype of each column is ID                      object\n",
      "Date                    object\n",
      "DateType                object\n",
      "Age                    float64\n",
      "Sex                     object\n",
      "Race                    object\n",
      "ResidenceCity           object\n",
      "ResidenceCounty         object\n",
      "ResidenceState          object\n",
      "DeathCity               object\n",
      "DeathCounty             object\n",
      "Location                object\n",
      "LocationifOther         object\n",
      "DescriptionofInjury     object\n",
      "InjuryPlace             object\n",
      "InjuryCity              object\n",
      "InjuryCounty            object\n",
      "InjuryState             object\n",
      "COD                     object\n",
      "OtherSignifican         object\n",
      "Heroin                  object\n",
      "Cocaine                 object\n",
      "Fentanyl                object\n",
      "FentanylAnalogue        object\n",
      "Oxycodone               object\n",
      "Oxymorphone             object\n",
      "Ethanol                 object\n",
      "Hydrocodone             object\n",
      "Benzodiazepine          object\n",
      "Methadone               object\n",
      "Amphet                  object\n",
      "Tramad                  object\n",
      "Morphine_NotHeroin      object\n",
      "Hydromorphone           object\n",
      "Other                   object\n",
      "OpiateNOS               object\n",
      "AnyOpioid               object\n",
      "MannerofDeath           object\n",
      "DeathCityGeo            object\n",
      "ResidenceCityGeo        object\n",
      "InjuryCityGeo           object\n",
      "FiscalYear               int64\n",
      "dtype: object\n",
      "Top 5 rows:    FiscalYear MonthYear     Town  AdmMonth  FYMonthOrder  AdmYear  \\\n",
      "0        2014    Jan-14  Ansonia         1             7     2014   \n",
      "1        2014    Jan-14  Ansonia         1             7     2014   \n",
      "2        2014    Jan-14  Ansonia         1             7     2014   \n",
      "3        2014    Jan-14  Ansonia         1             7     2014   \n",
      "4        2014    Jan-14  Ansonia         1             7     2014   \n",
      "\n",
      "                    PrimaryDrug  AdmCount  \n",
      "0                       Alcohol      14.0  \n",
      "1                         Crack       NaN  \n",
      "2                        Heroin       8.0  \n",
      "3       Marijuana, Hashish, THC       NaN  \n",
      "4  Other Opiates and Synthetics       NaN  \n",
      "The number of rows are:21069. the number of columns are: 8\n",
      "The number of null values in each column: FiscalYear          0\n",
      "MonthYear           0\n",
      "Town                0\n",
      "AdmMonth            0\n",
      "FYMonthOrder        0\n",
      "AdmYear             0\n",
      "PrimaryDrug         0\n",
      "AdmCount        13725\n",
      "dtype: int64\n",
      "The datatype of each column is FiscalYear        int64\n",
      "MonthYear        object\n",
      "Town             object\n",
      "AdmMonth          int64\n",
      "FYMonthOrder      int64\n",
      "AdmYear           int64\n",
      "PrimaryDrug      object\n",
      "AdmCount        float64\n",
      "dtype: object\n"
     ]
    }
   ],
   "source": [
    "#Obtaining the information about the dataframes\n",
    "EDA_dataframe(Drug_Deaths)\n",
    "EDA_dataframe(Addiction_Treatment)"
   ]
  },
  {
   "cell_type": "markdown",
   "metadata": {},
   "source": [
    "###EDA for Drug_Deaths"
   ]
  },
  {
   "cell_type": "code",
   "execution_count": 8,
   "metadata": {},
   "outputs": [
    {
     "name": "stdout",
     "output_type": "stream",
     "text": [
      "Number of deaths due to: Heroin is 2529\n",
      "Number of deaths due to: Cocaine is 1521\n",
      "Number of deaths due to: Fentanyl is 2232\n",
      "Number of deaths due to: FentanylAnalogue is 389\n",
      "Number of deaths due to: Oxycodone is 607\n",
      "Number of deaths due to: Oxymorphone is 108\n",
      "Number of deaths due to: Ethanol is 1247\n",
      "Number of deaths due to: Hydrocodone is 118\n",
      "Number of deaths due to: Benzodiazepine is 1343\n",
      "Number of deaths due to: Methadone is 474\n",
      "Number of deaths due to: Amphet is 159\n",
      "Number of deaths due to: Tramad is 130\n",
      "Number of deaths due to: Morphine_NotHeroin is 42\n",
      "Number of deaths due to: Hydromorphone is 25\n",
      "Number of deaths due to: Other is 435\n"
     ]
    }
   ],
   "source": [
    "#Get the number of deaths due to each drug\n",
    "Drug_names=[\"Heroin\",\"Cocaine\",\"Fentanyl\",\"FentanylAnalogue\",\"Oxycodone\",\"Oxymorphone\",\"Ethanol\",\"Hydrocodone\",\"Benzodiazepine\",\"Methadone\",\"Amphet\",\"Tramad\",\"Morphine_NotHeroin\",\"Hydromorphone\",\"Other\"]\n",
    "\n",
    "for drug in Drug_names:\n",
    "    print(\"Number of deaths due to: {} is {}\".format(drug,Drug_Deaths[drug].notnull().sum()))"
   ]
  },
  {
   "cell_type": "code",
   "execution_count": 36,
   "metadata": {},
   "outputs": [
    {
     "data": {
      "image/png": "[encoded data removed]",
      "text/plain": [
       "<Figure size 432x288 with 1 Axes>"
      ]
     },
     "metadata": {},
     "output_type": "display_data"
    }
   ],
   "source": [
    "#Get the number of males and females\n",
    "df1=Drug_Deaths.dropna(subset=[3], axis=1)\n",
    "sns.set_theme(style=\"darkgrid\")\n",
    "ax = sns.countplot(x=\"Sex\", data=df1)"
   ]
  },
  {
   "cell_type": "code",
   "execution_count": 224,
   "metadata": {},
   "outputs": [
    {
     "data": {
      "application/vnd.plotly.v1+json": {
       "config": {
        "plotlyServerURL": "https://plot.ly"
       },
       "data": [
        {
         "alignmentgroup": "True",
         "bingroup": "x",
         "hovertemplate": "Age=%{x}<br>count=%{y}<extra></extra>",
         "legendgroup": "",
         "marker": {
          "color": "indianred"
         },
         "name": "",
         "nbinsx": 40,
         "offsetgroup": "",
         "orientation": "v",
         "showlegend": false,
         "type": "histogram",
         "x": [
          null,
          48,
          30,
          23,
          22,
          23,
          21,
          40,
          40,
          50,
          26,
          49,
          null,
          50,
          29,
          45,
          29,
          42,
          54,
          32,
          47,
          39,
          27,
          34,
          27,
          25,
          51,
          23,
          35,
          25,
          43,
          48,
          40,
          49,
          40,
          51,
          25,
          55,
          56,
          39,
          28,
          35,
          34,
          23,
          39,
          49,
          49,
          50,
          49,
          30,
          67,
          36,
          54,
          43,
          25,
          54,
          54,
          23,
          52,
          54,
          61,
          53,
          42,
          41,
          34,
          32,
          31,
          29,
          57,
          24,
          26,
          25,
          55,
          40,
          37,
          43,
          38,
          42,
          58,
          42,
          51,
          59,
          36,
          50,
          59,
          41,
          25,
          46,
          26,
          47,
          37,
          41,
          30,
          54,
          34,
          32,
          37,
          53,
          30,
          38,
          26,
          36,
          40,
          48,
          23,
          64,
          26,
          38,
          43,
          37,
          57,
          52,
          51,
          60,
          43,
          47,
          52,
          44,
          36,
          26,
          42,
          30,
          30,
          33,
          67,
          30,
          33,
          23,
          31,
          44,
          54,
          48,
          44,
          40,
          37,
          24,
          49,
          43,
          50,
          36,
          20,
          46,
          50,
          33,
          58,
          49,
          36,
          35,
          52,
          41,
          28,
          37,
          56,
          48,
          46,
          53,
          45,
          52,
          64,
          42,
          23,
          43,
          19,
          38,
          47,
          59,
          22,
          29,
          45,
          34,
          30,
          24,
          39,
          66,
          26,
          40,
          44,
          40,
          42,
          32,
          54,
          22,
          49,
          31,
          25,
          44,
          38,
          31,
          38,
          63,
          40,
          61,
          38,
          50,
          35,
          62,
          59,
          24,
          64,
          39,
          56,
          29,
          28,
          31,
          48,
          49,
          25,
          51,
          28,
          59,
          26,
          48,
          52,
          47,
          63,
          39,
          47,
          27,
          45,
          44,
          65,
          30,
          52,
          46,
          52,
          33,
          56,
          36,
          61,
          29,
          41,
          63,
          54,
          47,
          32,
          45,
          54,
          31,
          30,
          24,
          45,
          51,
          51,
          44,
          27,
          26,
          56,
          47,
          37,
          44,
          47,
          29,
          60,
          55,
          35,
          62,
          49,
          43,
          51,
          37,
          60,
          37,
          59,
          71,
          30,
          51,
          47,
          51,
          22,
          43,
          30,
          50,
          44,
          26,
          47,
          27,
          28,
          57,
          35,
          52,
          50,
          59,
          29,
          29,
          62,
          38,
          36,
          34,
          49,
          45,
          21,
          23,
          55,
          33,
          28,
          21,
          46,
          38,
          47,
          46,
          45,
          71,
          48,
          53,
          47,
          24,
          63,
          47,
          34,
          56,
          29,
          50,
          35,
          56,
          24,
          63,
          35,
          58,
          45,
          36,
          28,
          40,
          27,
          54,
          49,
          50,
          59,
          36,
          62,
          28,
          20,
          34,
          36,
          33,
          29,
          51,
          44,
          31,
          40,
          54,
          60,
          44,
          27,
          39,
          57,
          59,
          33,
          53,
          30,
          37,
          22,
          31,
          24,
          56,
          20,
          29,
          26,
          39,
          35,
          45,
          34,
          33,
          71,
          30,
          63,
          39,
          29,
          31,
          59,
          58,
          38,
          60,
          28,
          39,
          46,
          60,
          36,
          60,
          24,
          53,
          42,
          34,
          49,
          22,
          60,
          50,
          59,
          73,
          54,
          58,
          28,
          40,
          49,
          43,
          52,
          49,
          52,
          39,
          41,
          34,
          42,
          68,
          43,
          40,
          32,
          38,
          33,
          42,
          53,
          36,
          54,
          42,
          48,
          50,
          28,
          41,
          24,
          42,
          43,
          48,
          45,
          47,
          39,
          39,
          46,
          57,
          41,
          23,
          51,
          46,
          52,
          31,
          35,
          69,
          38,
          42,
          65,
          53,
          45,
          30,
          23,
          54,
          23,
          51,
          46,
          28,
          57,
          67,
          28,
          38,
          53,
          54,
          40,
          56,
          49,
          75,
          57,
          32,
          51,
          33,
          37,
          28,
          48,
          55,
          31,
          48,
          31,
          41,
          27,
          25,
          36,
          34,
          23,
          58,
          52,
          55,
          49,
          40,
          30,
          34,
          46,
          60,
          31,
          45,
          46,
          48,
          36,
          25,
          33,
          56,
          35,
          54,
          36,
          63,
          36,
          30,
          67,
          23,
          24,
          50,
          59,
          28,
          47,
          53,
          61,
          39,
          45,
          49,
          33,
          45,
          44,
          45,
          35,
          56,
          50,
          63,
          25,
          38,
          29,
          31,
          42,
          44,
          26,
          60,
          55,
          33,
          69,
          61,
          32,
          50,
          34,
          62,
          48,
          25,
          23,
          35,
          50,
          54,
          27,
          67,
          36,
          33,
          55,
          28,
          43,
          61,
          54,
          62,
          36,
          29,
          62,
          19,
          28,
          29,
          28,
          51,
          48,
          33,
          37,
          43,
          44,
          58,
          51,
          36,
          29,
          31,
          32,
          33,
          50,
          24,
          38,
          42,
          43,
          54,
          30,
          43,
          50,
          51,
          65,
          65,
          46,
          29,
          57,
          28,
          52,
          26,
          23,
          58,
          42,
          42,
          55,
          46,
          55,
          25,
          57,
          46,
          38,
          45,
          49,
          40,
          36,
          54,
          25,
          55,
          57,
          25,
          47,
          33,
          58,
          43,
          41,
          47,
          34,
          56,
          56,
          29,
          47,
          24,
          36,
          53,
          45,
          58,
          40,
          60,
          35,
          46,
          25,
          31,
          36,
          28,
          54,
          36,
          46,
          72,
          42,
          38,
          54,
          19,
          45,
          38,
          36,
          45,
          30,
          43,
          28,
          42,
          26,
          50,
          61,
          51,
          36,
          44,
          60,
          25,
          32,
          34,
          53,
          37,
          40,
          37,
          34,
          26,
          27,
          31,
          40,
          47,
          55,
          59,
          44,
          54,
          59,
          55,
          21,
          47,
          44,
          47,
          57,
          48,
          35,
          24,
          34,
          42,
          41,
          34,
          44,
          40,
          34,
          31,
          31,
          25,
          41,
          36,
          27,
          46,
          30,
          60,
          35,
          42,
          29,
          43,
          43,
          39,
          22,
          38,
          23,
          46,
          40,
          50,
          31,
          55,
          51,
          45,
          35,
          46,
          23,
          28,
          52,
          59,
          46,
          43,
          55,
          47,
          39,
          32,
          36,
          62,
          33,
          41,
          30,
          50,
          30,
          39,
          66,
          21,
          35,
          57,
          52,
          32,
          28,
          33,
          55,
          21,
          36,
          52,
          53,
          54,
          31,
          23,
          29,
          27,
          31,
          26,
          66,
          48,
          54,
          35,
          28,
          27,
          28,
          56,
          47,
          56,
          55,
          47,
          29,
          36,
          30,
          50,
          27,
          37,
          59,
          25,
          36,
          62,
          48,
          55,
          34,
          41,
          24,
          55,
          23,
          35,
          35,
          59,
          47,
          50,
          42,
          50,
          48,
          35,
          25,
          26,
          32,
          50,
          26,
          61,
          19,
          40,
          44,
          37,
          34,
          37,
          55,
          46,
          34,
          22,
          21,
          55,
          33,
          46,
          53,
          48,
          52,
          33,
          26,
          56,
          34,
          28,
          58,
          30,
          29,
          48,
          25,
          30,
          25,
          28,
          29,
          36,
          27,
          36,
          57,
          43,
          29,
          34,
          33,
          31,
          44,
          33,
          33,
          19,
          40,
          29,
          30,
          28,
          40,
          20,
          57,
          39,
          65,
          67,
          44,
          55,
          24,
          41,
          36,
          23,
          37,
          43,
          37,
          20,
          62,
          55,
          49,
          22,
          47,
          57,
          26,
          37,
          41,
          28,
          52,
          51,
          21,
          30,
          32,
          29,
          52,
          33,
          27,
          32,
          33,
          26,
          26,
          18,
          53,
          39,
          24,
          25,
          35,
          55,
          41,
          41,
          63,
          40,
          28,
          45,
          55,
          38,
          59,
          54,
          38,
          36,
          20,
          64,
          48,
          55,
          45,
          43,
          30,
          55,
          31,
          39,
          44,
          50,
          27,
          52,
          44,
          31,
          57,
          44,
          45,
          47,
          39,
          49,
          33,
          31,
          29,
          27,
          48,
          32,
          15,
          51,
          58,
          27,
          64,
          52,
          41,
          48,
          36,
          43,
          33,
          36,
          35,
          51,
          50,
          54,
          47,
          62,
          70,
          48,
          44,
          29,
          51,
          57,
          58,
          29,
          50,
          62,
          58,
          55,
          27,
          24,
          46,
          22,
          36,
          54,
          27,
          22,
          37,
          24,
          36,
          24,
          51,
          52,
          26,
          29,
          54,
          43,
          20,
          28,
          29,
          49,
          65,
          35,
          26,
          25,
          63,
          64,
          53,
          54,
          54,
          64,
          37,
          41,
          48,
          35,
          28,
          37,
          21,
          36,
          65,
          39,
          24,
          52,
          22,
          39,
          69,
          25,
          29,
          56,
          36,
          65,
          55,
          50,
          60,
          36,
          34,
          56,
          41,
          56,
          29,
          40,
          61,
          40,
          23,
          46,
          40,
          24,
          24,
          36,
          71,
          58,
          31,
          59,
          54,
          44,
          48,
          38,
          31,
          32,
          46,
          42,
          36,
          36,
          60,
          56,
          52,
          35,
          55,
          26,
          42,
          34,
          65,
          39,
          28,
          41,
          45,
          54,
          35,
          31,
          44,
          60,
          47,
          26,
          28,
          51,
          55,
          29,
          40,
          35,
          38,
          30,
          63,
          45,
          22,
          46,
          61,
          38,
          49,
          45,
          41,
          41,
          24,
          26,
          53,
          24,
          37,
          25,
          53,
          47,
          50,
          33,
          37,
          22,
          43,
          55,
          50,
          47,
          32,
          43,
          53,
          56,
          47,
          57,
          17,
          51,
          41,
          51,
          37,
          44,
          53,
          55,
          43,
          56,
          54,
          44,
          25,
          49,
          18,
          51,
          37,
          60,
          23,
          23,
          49,
          29,
          23,
          23,
          44,
          44,
          48,
          34,
          60,
          31,
          52,
          37,
          33,
          70,
          39,
          33,
          24,
          28,
          30,
          35,
          30,
          45,
          34,
          53,
          20,
          66,
          55,
          55,
          36,
          50,
          47,
          23,
          38,
          39,
          42,
          40,
          26,
          31,
          64,
          62,
          41,
          47,
          62,
          30,
          38,
          33,
          51,
          33,
          27,
          29,
          40,
          54,
          26,
          38,
          34,
          32,
          60,
          36,
          25,
          44,
          44,
          28,
          25,
          56,
          42,
          49,
          46,
          22,
          56,
          55,
          24,
          18,
          58,
          26,
          27,
          24,
          29,
          28,
          38,
          52,
          62,
          51,
          43,
          52,
          50,
          48,
          43,
          29,
          25,
          43,
          38,
          26,
          51,
          24,
          35,
          50,
          55,
          42,
          41,
          27,
          43,
          29,
          33,
          50,
          42,
          41,
          32,
          32,
          23,
          37,
          47,
          34,
          53,
          35,
          41,
          55,
          35,
          37,
          43,
          40,
          23,
          55,
          37,
          35,
          38,
          55,
          45,
          50,
          37,
          46,
          37,
          49,
          28,
          57,
          48,
          22,
          37,
          50,
          52,
          35,
          43,
          61,
          51,
          50,
          21,
          52,
          28,
          38,
          51,
          24,
          48,
          54,
          56,
          40,
          45,
          40,
          41,
          65,
          48,
          59,
          50,
          44,
          17,
          50,
          22,
          65,
          51,
          67,
          36,
          53,
          45,
          50,
          41,
          59,
          28,
          44,
          37,
          37,
          58,
          23,
          46,
          45,
          49,
          28,
          57,
          57,
          33,
          47,
          37,
          61,
          65,
          57,
          25,
          47,
          62,
          26,
          44,
          40,
          58,
          23,
          42,
          24,
          38,
          38,
          60,
          61,
          45,
          36,
          42,
          45,
          38,
          46,
          47,
          32,
          42,
          43,
          64,
          60,
          49,
          33,
          59,
          61,
          29,
          24,
          41,
          46,
          27,
          51,
          61,
          22,
          57,
          47,
          31,
          57,
          24,
          60,
          34,
          27,
          46,
          61,
          25,
          44,
          30,
          42,
          44,
          56,
          31,
          48,
          50,
          56,
          54,
          34,
          38,
          32,
          33,
          46,
          53,
          49,
          48,
          49,
          49,
          28,
          31,
          32,
          49,
          36,
          33,
          40,
          53,
          30,
          62,
          51,
          40,
          42,
          28,
          26,
          46,
          30,
          44,
          47,
          57,
          26,
          29,
          29,
          28,
          27,
          30,
          44,
          29,
          36,
          57,
          54,
          60,
          66,
          32,
          49,
          36,
          35,
          55,
          58,
          31,
          35,
          24,
          50,
          42,
          50,
          56,
          56,
          49,
          23,
          46,
          41,
          21,
          46,
          44,
          48,
          34,
          57,
          51,
          31,
          58,
          26,
          27,
          48,
          26,
          43,
          53,
          37,
          44,
          34,
          28,
          34,
          40,
          28,
          36,
          53,
          44,
          41,
          21,
          47,
          40,
          35,
          41,
          37,
          22,
          38,
          31,
          37,
          41,
          42,
          45,
          35,
          49,
          47,
          41,
          46,
          53,
          45,
          60,
          55,
          34,
          43,
          47,
          29,
          26,
          48,
          39,
          58,
          56,
          29,
          37,
          37,
          58,
          39,
          52,
          35,
          54,
          54,
          48,
          39,
          44,
          57,
          23,
          33,
          27,
          58,
          52,
          28,
          38,
          58,
          27,
          34,
          56,
          29,
          36,
          36,
          28,
          47,
          37,
          55,
          23,
          44,
          26,
          62,
          50,
          57,
          59,
          34,
          34,
          58,
          65,
          50,
          36,
          45,
          34,
          48,
          49,
          36,
          58,
          50,
          47,
          34,
          51,
          42,
          53,
          50,
          32,
          34,
          30,
          58,
          41,
          52,
          30,
          49,
          30,
          54,
          29,
          38,
          27,
          72,
          45,
          50,
          48,
          52,
          35,
          22,
          49,
          47,
          21,
          52,
          35,
          58,
          30,
          41,
          29,
          46,
          48,
          42,
          33,
          55,
          49,
          25,
          54,
          44,
          60,
          22,
          55,
          48,
          32,
          54,
          39,
          30,
          29,
          30,
          31,
          44,
          61,
          45,
          25,
          29,
          41,
          53,
          41,
          49,
          24,
          47,
          46,
          52,
          49,
          40,
          40,
          28,
          64,
          34,
          55,
          49,
          52,
          32,
          49,
          51,
          37,
          35,
          25,
          44,
          29,
          30,
          58,
          30,
          43,
          32,
          34,
          47,
          44,
          49,
          41,
          45,
          29,
          57,
          68,
          29,
          38,
          28,
          45,
          39,
          41,
          31,
          26,
          57,
          39,
          24,
          56,
          42,
          62,
          17,
          27,
          59,
          59,
          54,
          53,
          43,
          22,
          58,
          48,
          53,
          49,
          33,
          51,
          29,
          55,
          30,
          23,
          33,
          25,
          19,
          43,
          38,
          23,
          32,
          22,
          58,
          34,
          37,
          45,
          41,
          37,
          74,
          60,
          51,
          27,
          52,
          37,
          25,
          29,
          24,
          71,
          32,
          54,
          54,
          32,
          53,
          28,
          41,
          40,
          50,
          48,
          61,
          52,
          39,
          48,
          56,
          28,
          58,
          41,
          36,
          20,
          44,
          27,
          22,
          46,
          28,
          29,
          51,
          20,
          30,
          57,
          54,
          52,
          57,
          26,
          47,
          41,
          52,
          35,
          54,
          36,
          26,
          19,
          54,
          64,
          30,
          45,
          47,
          36,
          38,
          53,
          55,
          44,
          44,
          61,
          32,
          26,
          29,
          33,
          24,
          22,
          25,
          47,
          37,
          28,
          31,
          31,
          44,
          51,
          47,
          53,
          39,
          49,
          29,
          35,
          42,
          37,
          54,
          46,
          23,
          39,
          24,
          52,
          36,
          43,
          26,
          49,
          51,
          58,
          33,
          61,
          53,
          34,
          45,
          25,
          52,
          29,
          25,
          40,
          41,
          55,
          43,
          34,
          66,
          34,
          60,
          34,
          53,
          44,
          51,
          57,
          58,
          24,
          41,
          57,
          41,
          40,
          55,
          32,
          50,
          60,
          31,
          48,
          25,
          62,
          40,
          56,
          26,
          30,
          47,
          52,
          33,
          37,
          51,
          32,
          35,
          23,
          47,
          35,
          25,
          50,
          40,
          51,
          42,
          62,
          57,
          62,
          43,
          51,
          49,
          40,
          29,
          44,
          37,
          27,
          34,
          60,
          37,
          62,
          20,
          47,
          19,
          28,
          43,
          58,
          64,
          51,
          64,
          51,
          25,
          49,
          60,
          19,
          25,
          29,
          54,
          64,
          40,
          35,
          54,
          30,
          21,
          61,
          60,
          41,
          53,
          46,
          56,
          49,
          53,
          50,
          41,
          62,
          56,
          33,
          72,
          53,
          33,
          49,
          48,
          41,
          56,
          27,
          30,
          49,
          72,
          35,
          35,
          26,
          58,
          66,
          38,
          46,
          28,
          41,
          25,
          48,
          30,
          48,
          54,
          32,
          34,
          51,
          45,
          37,
          24,
          52,
          35,
          38,
          37,
          53,
          35,
          22,
          23,
          60,
          30,
          47,
          56,
          39,
          44,
          28,
          25,
          64,
          25,
          44,
          44,
          51,
          52,
          31,
          49,
          38,
          42,
          51,
          32,
          48,
          31,
          22,
          54,
          28,
          37,
          52,
          49,
          34,
          51,
          43,
          49,
          24,
          61,
          22,
          26,
          63,
          24,
          39,
          25,
          29,
          41,
          51,
          59,
          68,
          49,
          59,
          37,
          84,
          60,
          33,
          58,
          62,
          52,
          26,
          44,
          35,
          47,
          55,
          54,
          53,
          30,
          50,
          54,
          33,
          51,
          48,
          26,
          33,
          50,
          53,
          70,
          36,
          22,
          33,
          30,
          37,
          21,
          47,
          57,
          53,
          40,
          54,
          39,
          53,
          31,
          30,
          58,
          30,
          65,
          25,
          32,
          52,
          41,
          23,
          52,
          23,
          58,
          45,
          54,
          24,
          46,
          45,
          40,
          45,
          54,
          53,
          59,
          62,
          27,
          30,
          38,
          61,
          43,
          34,
          34,
          44,
          38,
          48,
          33,
          18,
          38,
          47,
          43,
          43,
          39,
          52,
          48,
          18,
          57,
          52,
          51,
          64,
          32,
          34,
          56,
          61,
          41,
          25,
          24,
          26,
          36,
          32,
          28,
          58,
          26,
          53,
          33,
          29,
          49,
          35,
          51,
          24,
          20,
          26,
          29,
          37,
          63,
          42,
          38,
          26,
          23,
          43,
          60,
          27,
          49,
          18,
          21,
          48,
          44,
          39,
          28,
          39,
          44,
          49,
          37,
          35,
          43,
          33,
          42,
          60,
          38,
          58,
          46,
          32,
          35,
          51,
          33,
          29,
          38,
          54,
          73,
          52,
          48,
          55,
          70,
          57,
          39,
          60,
          45,
          47,
          38,
          41,
          58,
          45,
          44,
          24,
          41,
          25,
          54,
          50,
          28,
          36,
          52,
          52,
          70,
          33,
          44,
          33,
          41,
          44,
          43,
          52,
          28,
          38,
          32,
          39,
          54,
          34,
          52,
          20,
          52,
          57,
          33,
          37,
          39,
          17,
          52,
          43,
          36,
          42,
          35,
          33,
          53,
          29,
          39,
          35,
          63,
          54,
          43,
          35,
          65,
          49,
          29,
          35,
          35,
          50,
          46,
          59,
          44,
          51,
          31,
          50,
          66,
          28,
          46,
          29,
          24,
          30,
          36,
          58,
          28,
          38,
          29,
          61,
          42,
          55,
          40,
          51,
          54,
          52,
          44,
          66,
          48,
          22,
          54,
          31,
          47,
          30,
          61,
          30,
          19,
          25,
          47,
          21,
          59,
          47,
          22,
          40,
          28,
          58,
          35,
          27,
          35,
          18,
          46,
          23,
          23,
          32,
          33,
          38,
          48,
          44,
          58,
          31,
          55,
          42,
          55,
          66,
          50,
          30,
          34,
          51,
          50,
          50,
          37,
          30,
          31,
          40,
          51,
          25,
          37,
          33,
          41,
          36,
          30,
          25,
          46,
          49,
          43,
          56,
          54,
          60,
          50,
          27,
          54,
          45,
          20,
          28,
          33,
          48,
          38,
          37,
          26,
          29,
          22,
          60,
          56,
          44,
          26,
          37,
          24,
          63,
          23,
          44,
          31,
          21,
          63,
          40,
          53,
          57,
          30,
          34,
          57,
          75,
          54,
          61,
          46,
          26,
          36,
          58,
          14,
          31,
          39,
          53,
          30,
          45,
          35,
          34,
          43,
          40,
          21,
          54,
          44,
          56,
          32,
          49,
          48,
          48,
          59,
          57,
          20,
          48,
          39,
          24,
          42,
          27,
          26,
          21,
          34,
          35,
          58,
          59,
          48,
          52,
          63,
          52,
          33,
          59,
          38,
          58,
          27,
          64,
          44,
          26,
          48,
          43,
          44,
          56,
          27,
          22,
          28,
          26,
          31,
          33,
          41,
          51,
          29,
          37,
          25,
          48,
          36,
          59,
          62,
          20,
          26,
          52,
          39,
          27,
          45,
          40,
          39,
          27,
          43,
          54,
          57,
          51,
          48,
          33,
          27,
          40,
          43,
          65,
          51,
          39,
          32,
          52,
          39,
          49,
          36,
          47,
          25,
          35,
          37,
          26,
          42,
          24,
          50,
          35,
          56,
          28,
          56,
          31,
          61,
          63,
          29,
          38,
          26,
          31,
          45,
          25,
          53,
          36,
          19,
          38,
          53,
          43,
          30,
          52,
          30,
          55,
          26,
          62,
          26,
          50,
          56,
          42,
          33,
          37,
          24,
          36,
          22,
          23,
          46,
          67,
          39,
          64,
          30,
          31,
          47,
          61,
          27,
          51,
          36,
          29,
          45,
          45,
          46,
          53,
          72,
          35,
          56,
          32,
          56,
          52,
          60,
          57,
          58,
          70,
          21,
          28,
          29,
          36,
          34,
          40,
          55,
          25,
          37,
          50,
          40,
          42,
          56,
          54,
          48,
          25,
          31,
          35,
          64,
          41,
          46,
          39,
          59,
          33,
          28,
          52,
          24,
          50,
          32,
          22,
          31,
          60,
          24,
          29,
          47,
          40,
          55,
          28,
          51,
          47,
          24,
          20,
          58,
          47,
          52,
          53,
          51,
          50,
          59,
          29,
          41,
          44,
          59,
          54,
          48,
          29,
          56,
          30,
          46,
          49,
          34,
          57,
          55,
          87,
          29,
          47,
          24,
          37,
          34,
          38,
          58,
          42,
          28,
          42,
          41,
          36,
          34,
          23,
          34,
          43,
          39,
          19,
          54,
          50,
          29,
          39,
          57,
          37,
          47,
          32,
          47,
          65,
          30,
          30,
          29,
          48,
          48,
          33,
          42,
          27,
          41,
          35,
          44,
          29,
          39,
          37,
          69,
          38,
          56,
          57,
          33,
          43,
          59,
          31,
          42,
          48,
          33,
          51,
          20,
          39,
          35,
          73,
          33,
          47,
          38,
          44,
          48,
          58,
          48,
          70,
          44,
          31,
          43,
          57,
          34,
          20,
          34,
          41,
          27,
          30,
          62,
          36,
          51,
          32,
          49,
          28,
          51,
          35,
          24,
          66,
          36,
          57,
          23,
          48,
          46,
          36,
          28,
          29,
          31,
          41,
          45,
          51,
          18,
          40,
          39,
          42,
          48,
          34,
          44,
          30,
          46,
          23,
          44,
          60,
          36,
          29,
          24,
          50,
          30,
          41,
          37,
          31,
          44,
          63,
          48,
          39,
          40,
          22,
          28,
          57,
          38,
          53,
          27,
          26,
          36,
          28,
          34,
          61,
          28,
          26,
          53,
          27,
          44,
          44,
          61,
          55,
          44,
          28,
          44,
          37,
          58,
          28,
          38,
          51,
          39,
          47,
          36,
          28,
          53,
          55,
          62,
          34,
          48,
          30,
          23,
          57,
          53,
          50,
          37,
          29,
          59,
          29,
          47,
          39,
          49,
          48,
          36,
          63,
          25,
          49,
          39,
          29,
          51,
          36,
          41,
          52,
          50,
          45,
          39,
          30,
          26,
          38,
          42,
          44,
          24,
          56,
          29,
          41,
          35,
          27,
          45,
          28,
          44,
          33,
          36,
          56,
          46,
          72,
          30,
          37,
          40,
          26,
          20,
          51,
          29,
          32,
          54,
          27,
          41,
          61,
          58,
          47,
          43,
          30,
          52,
          47,
          63,
          43,
          53,
          48,
          44,
          38,
          29,
          48,
          54,
          45,
          56,
          36,
          37,
          33,
          23,
          34,
          53,
          39,
          29,
          27,
          63,
          40,
          56,
          57,
          49,
          33,
          24,
          24,
          66,
          46,
          52,
          54,
          21,
          51,
          34,
          52,
          32,
          41,
          33,
          42,
          25,
          22,
          47,
          53,
          43,
          47,
          27,
          57,
          72,
          44,
          41,
          67,
          50,
          41,
          59,
          20,
          37,
          44,
          39,
          30,
          32,
          64,
          54,
          55,
          42,
          30,
          66,
          24,
          49,
          29,
          54,
          44,
          34,
          32,
          50,
          31,
          48,
          54,
          21,
          22,
          39,
          47,
          42,
          29,
          53,
          26,
          40,
          21,
          60,
          59,
          58,
          53,
          46,
          33,
          39,
          34,
          57,
          52,
          55,
          25,
          28,
          28,
          33,
          49,
          44,
          46,
          59,
          19,
          38,
          54,
          37,
          59,
          27,
          48,
          49,
          52,
          25,
          49,
          24,
          69,
          28,
          19,
          38,
          43,
          21,
          33,
          24,
          44,
          33,
          23,
          29,
          43,
          29,
          29,
          44,
          40,
          33,
          55,
          51,
          44,
          30,
          50,
          42,
          23,
          19,
          44,
          45,
          63,
          41,
          20,
          30,
          45,
          38,
          51,
          36,
          52,
          35,
          47,
          45,
          35,
          64,
          62,
          31,
          35,
          24,
          41,
          54,
          60,
          40,
          59,
          27,
          51,
          31,
          32,
          68,
          22,
          53,
          55,
          57,
          71,
          31,
          20,
          58,
          47,
          37,
          53,
          56,
          27,
          42,
          19,
          31,
          40,
          45,
          40,
          20,
          38,
          49,
          61,
          65,
          59,
          42,
          52,
          36,
          43,
          37,
          47,
          20,
          32,
          69,
          50,
          24,
          38,
          58,
          61,
          23,
          50,
          63,
          44,
          38,
          53,
          21,
          28,
          32,
          50,
          37,
          68,
          59,
          55,
          50,
          26,
          37,
          40,
          38,
          46,
          55,
          55,
          33,
          27,
          26,
          23,
          55,
          52,
          45,
          59,
          49,
          56,
          22,
          54,
          26,
          48,
          62,
          34,
          24,
          53,
          39,
          24,
          20,
          49,
          65,
          28,
          44,
          33,
          22,
          31,
          27,
          38,
          32,
          19,
          59,
          59,
          36,
          36,
          37,
          40,
          17,
          62,
          27,
          38,
          72,
          51,
          45,
          34,
          60,
          27,
          28,
          52,
          31,
          65,
          25,
          55,
          53,
          57,
          40,
          47,
          34,
          49,
          23,
          39,
          45,
          50,
          27,
          45,
          44,
          36,
          37,
          30,
          58,
          28,
          30,
          35,
          34,
          49,
          56,
          35,
          52,
          34,
          45,
          54,
          48,
          61,
          21,
          60,
          61,
          52,
          26,
          47,
          54,
          30,
          58,
          56,
          32,
          22,
          45,
          45,
          48,
          48,
          53,
          25,
          37,
          58,
          33,
          40,
          25,
          49,
          34,
          59,
          26,
          29,
          58,
          58,
          43,
          29,
          40,
          30,
          57,
          22,
          30,
          53,
          26,
          36,
          45,
          37,
          26,
          45,
          49,
          35,
          46,
          57,
          22,
          52,
          49,
          43,
          48,
          30,
          63,
          38,
          37,
          62,
          17,
          35,
          54,
          50,
          32,
          57,
          51,
          43,
          56,
          21,
          56,
          44,
          46,
          24,
          21,
          63,
          31,
          56,
          29,
          42,
          26,
          44,
          48,
          29,
          23,
          23,
          23,
          55,
          26,
          35,
          32,
          29,
          39,
          33,
          52,
          35,
          49,
          61,
          39,
          21,
          51,
          50,
          31,
          42,
          22,
          44,
          36,
          34,
          41,
          56,
          57,
          47,
          37,
          53,
          64,
          46,
          50,
          39,
          57,
          52,
          49,
          45,
          48,
          33,
          31,
          55,
          47,
          41,
          65,
          60,
          42,
          26,
          56,
          36,
          28,
          21,
          71,
          33,
          49,
          57,
          31,
          27,
          52,
          41,
          30,
          51,
          45,
          32,
          42,
          33,
          50,
          46,
          33,
          32,
          24,
          51,
          58,
          50,
          51,
          38,
          49,
          33,
          56,
          36,
          43,
          54,
          28,
          26,
          42,
          50,
          51,
          21,
          24,
          46,
          66,
          45,
          58,
          38,
          44,
          50,
          21,
          28,
          46,
          55,
          47,
          31,
          52,
          38,
          38,
          37,
          59,
          29,
          35,
          30,
          46,
          60,
          32,
          19,
          29,
          34,
          55,
          52,
          38,
          36,
          30,
          31,
          48,
          53,
          59,
          24,
          25,
          41,
          48,
          46,
          53,
          30,
          51,
          45,
          59,
          41,
          33,
          66,
          42,
          55,
          29,
          26,
          64,
          47,
          22,
          46,
          63,
          30,
          50,
          58,
          51,
          32,
          49,
          39,
          34,
          50,
          57,
          43,
          63,
          58,
          22,
          41,
          59,
          29,
          31,
          27,
          37,
          55,
          24,
          33,
          22,
          56,
          43,
          33,
          41,
          54,
          26,
          21,
          44,
          24,
          47,
          61,
          50,
          26,
          39,
          46,
          56,
          54,
          59,
          52,
          18,
          57,
          60,
          23,
          20,
          61,
          39,
          34,
          49,
          33,
          42,
          38,
          25,
          54,
          41,
          47,
          36,
          27,
          44,
          29,
          40,
          47,
          57,
          47,
          29,
          43,
          34,
          53,
          41,
          27,
          35,
          52,
          33,
          38,
          49,
          34,
          64,
          35,
          59,
          27,
          28,
          30,
          27,
          59,
          33,
          38,
          34,
          22,
          56,
          33,
          49,
          59,
          29,
          57,
          26,
          50,
          44,
          37,
          51,
          24,
          57,
          32,
          37,
          65,
          28,
          56,
          25,
          37,
          31,
          28,
          45,
          59,
          32,
          50,
          34,
          41,
          48,
          58,
          45,
          58,
          57,
          46,
          36,
          30,
          52,
          29,
          35,
          51,
          34,
          51,
          47,
          24,
          46,
          43,
          54,
          30,
          45,
          40,
          31,
          71,
          59,
          47,
          35,
          51,
          44,
          49,
          56,
          35,
          35,
          28,
          42,
          46,
          24,
          42,
          45,
          51,
          51,
          45,
          46,
          40,
          43,
          44,
          46,
          28,
          25,
          57,
          40,
          41,
          55,
          25,
          43,
          47,
          29,
          30,
          41,
          63,
          49,
          31,
          35,
          24,
          44,
          24,
          51,
          52,
          27,
          39,
          24,
          57,
          60,
          21,
          59,
          47,
          47,
          27,
          46,
          59,
          52,
          51,
          36,
          21,
          42,
          25,
          33,
          66,
          40,
          25,
          29,
          35,
          50,
          35,
          46,
          23,
          36,
          52,
          44,
          40,
          31,
          35,
          28,
          45,
          25,
          35,
          38,
          27,
          48,
          38,
          36,
          57,
          22,
          35,
          38,
          28,
          53,
          43,
          22,
          63,
          46,
          36,
          54,
          31,
          33,
          41,
          57,
          33,
          32,
          48,
          48,
          56,
          38,
          30,
          64,
          49,
          38,
          50,
          21,
          29,
          35,
          42,
          32,
          47,
          48,
          57,
          59,
          51,
          53,
          40,
          31,
          28,
          45,
          56,
          27,
          38,
          18,
          33,
          40,
          55,
          41,
          54,
          22,
          58,
          60,
          30,
          34,
          46,
          28,
          54,
          61,
          29,
          66,
          52,
          35,
          57,
          36,
          34,
          55,
          59,
          55,
          24,
          39,
          51,
          45,
          24,
          33,
          41,
          34,
          58,
          33,
          51,
          45,
          57,
          34,
          55,
          53,
          24,
          52,
          26,
          32,
          32,
          52,
          55,
          31,
          31,
          50,
          54,
          25,
          34,
          50,
          43,
          53,
          54,
          58,
          28,
          49,
          44,
          56,
          52,
          60,
          41,
          39,
          29,
          25,
          52,
          35,
          62,
          54,
          56,
          36,
          28,
          51,
          45,
          49,
          54,
          22,
          62,
          55,
          42,
          27,
          50,
          35,
          59,
          56,
          32,
          45,
          59,
          33,
          46,
          49,
          28,
          53,
          33,
          40,
          32,
          55,
          63,
          31,
          29,
          59,
          44,
          60,
          44,
          34,
          53,
          48,
          32,
          26,
          75,
          45,
          41,
          52,
          23,
          44,
          41,
          43,
          33,
          25,
          31,
          20,
          28,
          21,
          40,
          41,
          32,
          22,
          35,
          39,
          37,
          53,
          31,
          28,
          47,
          51,
          34,
          54,
          18,
          49,
          27,
          53,
          29,
          38,
          46,
          36,
          39,
          59,
          49,
          51,
          27,
          28,
          54,
          58,
          27,
          49,
          43,
          58,
          29,
          58,
          50,
          53,
          39,
          54,
          30,
          28,
          38,
          28,
          65,
          53,
          25,
          55,
          48,
          47,
          52,
          20,
          37,
          32,
          43,
          40,
          20,
          34,
          55,
          60,
          52,
          39,
          45,
          54,
          29,
          57,
          38,
          60,
          20,
          61,
          44,
          35,
          56,
          56,
          59,
          44,
          56,
          54,
          55,
          38,
          39,
          55,
          41,
          32,
          48,
          48,
          54,
          48,
          59,
          37,
          56,
          63,
          32,
          56,
          31,
          50,
          53,
          20,
          54,
          32,
          24,
          21,
          41,
          32,
          44,
          30,
          21,
          41,
          31,
          43,
          59,
          47,
          37,
          38,
          38,
          54,
          60,
          37,
          26,
          19,
          21,
          33,
          39,
          50,
          50,
          59,
          35,
          51,
          50,
          47,
          25,
          25,
          48,
          63,
          51,
          39,
          31,
          61,
          32,
          50,
          59,
          36,
          60,
          50,
          47,
          37,
          25,
          41,
          55,
          36,
          40,
          49,
          25,
          60,
          48,
          17,
          43,
          45,
          38,
          27,
          33,
          43,
          36,
          42,
          44,
          33,
          27,
          39,
          56,
          53,
          35,
          33,
          28,
          30,
          30,
          54,
          57,
          29,
          33,
          45,
          28,
          62,
          26,
          60,
          52,
          55,
          57,
          25,
          43,
          61,
          50,
          52,
          20,
          48,
          43,
          46,
          46,
          48,
          50,
          43,
          43,
          35,
          34,
          52,
          25,
          59,
          45,
          34,
          42,
          39,
          47,
          32,
          41,
          29,
          41,
          50,
          53,
          39,
          50,
          64,
          36,
          50,
          48,
          27,
          67,
          34,
          54,
          48,
          55,
          36,
          24,
          40,
          49,
          27,
          54,
          48,
          61,
          48,
          52,
          52,
          27,
          26,
          21,
          55,
          50,
          43,
          42,
          28,
          46,
          24,
          49,
          55,
          27,
          32,
          53,
          34,
          29,
          35,
          24,
          54,
          35,
          44,
          56,
          56,
          45,
          32,
          23,
          48,
          29,
          39,
          32,
          52,
          64,
          35,
          46,
          51,
          45,
          51,
          50,
          25,
          50,
          51,
          32,
          32,
          32,
          54,
          31,
          40,
          24,
          62,
          48,
          24,
          17,
          54,
          36,
          53,
          28,
          69,
          39,
          47,
          58,
          44,
          66,
          41,
          62,
          29,
          60,
          51,
          37,
          49,
          46,
          41,
          27,
          56,
          47,
          54,
          33,
          47,
          51,
          35,
          57,
          24,
          36,
          31,
          60,
          39,
          50,
          53,
          60,
          21,
          54,
          49,
          47,
          28,
          53,
          34,
          47,
          45,
          55,
          49,
          30,
          29,
          46,
          30,
          50,
          63,
          47,
          31,
          48,
          38,
          24,
          23,
          60,
          48,
          57,
          46,
          57,
          56,
          32,
          35,
          48,
          46,
          55,
          28,
          51,
          48,
          33,
          52,
          35,
          20,
          51,
          41,
          25,
          37,
          46,
          51,
          31,
          44,
          44,
          48,
          55,
          53,
          54,
          43,
          57,
          23,
          51,
          59,
          43,
          40,
          50,
          28,
          38,
          36,
          46,
          23,
          50,
          62,
          49,
          60,
          28,
          33,
          63,
          26,
          43,
          28,
          58,
          49,
          47,
          45,
          40,
          37,
          50,
          22,
          32,
          43,
          25,
          53,
          68,
          56,
          27,
          34,
          22,
          66,
          63,
          54,
          50,
          36,
          55,
          54,
          44,
          58,
          28,
          39,
          22,
          31,
          28,
          39,
          56,
          53,
          40,
          57,
          50,
          48,
          57,
          48,
          31,
          54,
          51,
          48,
          40,
          30,
          29,
          47,
          38,
          43,
          37,
          58,
          50,
          58,
          45,
          57,
          39,
          31,
          53,
          31,
          49,
          34,
          33,
          37,
          51,
          46,
          49,
          28,
          59,
          57,
          62,
          45,
          26,
          59,
          39,
          26,
          49,
          45,
          25,
          51,
          56,
          36,
          39,
          50,
          62,
          62,
          44,
          21,
          36,
          53,
          58,
          68,
          29,
          30,
          39,
          33,
          22,
          39,
          35,
          27,
          42,
          34,
          44,
          33,
          68,
          47,
          58,
          35,
          31,
          53,
          61,
          37,
          61,
          65,
          33,
          31,
          51,
          46,
          37,
          28,
          55,
          51,
          52,
          53,
          29,
          61,
          63,
          49,
          41,
          52,
          50,
          51,
          58,
          23,
          23,
          50,
          35,
          57,
          56,
          46,
          35,
          54,
          54,
          19,
          48,
          44,
          36,
          26,
          29,
          37,
          41,
          44,
          54,
          29,
          44,
          53,
          31,
          40,
          26,
          29,
          52,
          36,
          66,
          34,
          61,
          59,
          52,
          25,
          48,
          49,
          27,
          27,
          23,
          22,
          33,
          24,
          56,
          57,
          45,
          51,
          59,
          56,
          53,
          39,
          32,
          45,
          45,
          32,
          46,
          49,
          48,
          33,
          53,
          40,
          45,
          56,
          48,
          64,
          51,
          30,
          39,
          57,
          54,
          49,
          28,
          25,
          60,
          50,
          35,
          58,
          49,
          48,
          50,
          38,
          44,
          36,
          29,
          30,
          57,
          27,
          36,
          34,
          29,
          26,
          60,
          45,
          48,
          46,
          21,
          34,
          54,
          39,
          50,
          58,
          31,
          55,
          33,
          46,
          22,
          52,
          32,
          46,
          41,
          40,
          31,
          49,
          51,
          44,
          43,
          52,
          59,
          56,
          56,
          32,
          43,
          47,
          52,
          41,
          42,
          46,
          36,
          24,
          48,
          54,
          32,
          24,
          25,
          35,
          53,
          43,
          50,
          35,
          63,
          54,
          58,
          33,
          51,
          31,
          48,
          44,
          57,
          52,
          62,
          45,
          58,
          56,
          61,
          36,
          59,
          49,
          23,
          36,
          22,
          30,
          50,
          19,
          59,
          28,
          19,
          26,
          34,
          41,
          57,
          53,
          23,
          29,
          52,
          35,
          37,
          45,
          26,
          27,
          51,
          26,
          21,
          29,
          67,
          25,
          65,
          63,
          44,
          32,
          43,
          33,
          31,
          46,
          61,
          63,
          24,
          38,
          27,
          60,
          66,
          26,
          33,
          50,
          35,
          34,
          64,
          28,
          48,
          58,
          27,
          81,
          24,
          38,
          44,
          46,
          43,
          59,
          52,
          48,
          46,
          41,
          57,
          44,
          34,
          47,
          38,
          26,
          62,
          40,
          31,
          53,
          28,
          28,
          62,
          19,
          29,
          31,
          49,
          58,
          26,
          58,
          58,
          57,
          38,
          39,
          41,
          33,
          53,
          37,
          32,
          35,
          40,
          18,
          31,
          55,
          39,
          27,
          22,
          60,
          34,
          48,
          44,
          49,
          38,
          56,
          53,
          39,
          55,
          57,
          45,
          27,
          30,
          42,
          22,
          57,
          38,
          29,
          71,
          34,
          43,
          45,
          26,
          35,
          42,
          36,
          55,
          44,
          54,
          66,
          53,
          52,
          55,
          34,
          41,
          22,
          24,
          35,
          32,
          72,
          53,
          40,
          40,
          34,
          41,
          40,
          60,
          60,
          46,
          33,
          57,
          29,
          32,
          27,
          37,
          66,
          57,
          39,
          51,
          30,
          35,
          53,
          40,
          46,
          51,
          35,
          19,
          29,
          64,
          37,
          30,
          54,
          45,
          63,
          46,
          22,
          51,
          27,
          58,
          41,
          34,
          40,
          46,
          29,
          30,
          32,
          34,
          33,
          57,
          41,
          55,
          55,
          35,
          44,
          26,
          29,
          22,
          27,
          26,
          24,
          47,
          49,
          24,
          28,
          47,
          50,
          49,
          62,
          60,
          57,
          48,
          62,
          57,
          27,
          47,
          31,
          42,
          49,
          72,
          60,
          36,
          56,
          53,
          33,
          66,
          23,
          49,
          33,
          34,
          26,
          58,
          43,
          23,
          57,
          29,
          33,
          39,
          35,
          55,
          38,
          55,
          17,
          61,
          50,
          45,
          52,
          26,
          29,
          36,
          33,
          64,
          31,
          27,
          37,
          68,
          61,
          55,
          52,
          69,
          68,
          52,
          20,
          66,
          54,
          44,
          51,
          56,
          25,
          52,
          66,
          46,
          35,
          46,
          51,
          52,
          50,
          22,
          54,
          30,
          18,
          36,
          54,
          52,
          17,
          50,
          24,
          51,
          60,
          49,
          53,
          53,
          40,
          47,
          36,
          32,
          55,
          42,
          58,
          61,
          23,
          40,
          34,
          47,
          23,
          54,
          61,
          42,
          34,
          55,
          38,
          37,
          58,
          41,
          52,
          41,
          34,
          45,
          51,
          46,
          48,
          33,
          49,
          63,
          45,
          24,
          44,
          23,
          30,
          25,
          49,
          42,
          40,
          56,
          49,
          35,
          49,
          26,
          19,
          43,
          39,
          38,
          58,
          44,
          26,
          45,
          36,
          38,
          56,
          41,
          23,
          35,
          32,
          32,
          33,
          46,
          26,
          46,
          32,
          30,
          43,
          33,
          49,
          39,
          47,
          30,
          58,
          60,
          42,
          53,
          63,
          30,
          33,
          49,
          67,
          34,
          33,
          49,
          50,
          24,
          68,
          48,
          38,
          36,
          44,
          50,
          48,
          29,
          55,
          51,
          29,
          22,
          44,
          34,
          38,
          28,
          62,
          43,
          63,
          54,
          63,
          24,
          43,
          26,
          56,
          49,
          45,
          50,
          34,
          51,
          27,
          27,
          53,
          43,
          21,
          34,
          37,
          24,
          59,
          40,
          26,
          64,
          38,
          20,
          28,
          46,
          20,
          49,
          57,
          45,
          46,
          62,
          39,
          55,
          33,
          31,
          67,
          31,
          55,
          53,
          55,
          29,
          47,
          51,
          48,
          24,
          54,
          54,
          44,
          30,
          31,
          33,
          30,
          33,
          54,
          56,
          44,
          56,
          43,
          27,
          58,
          55,
          55,
          53,
          45,
          38,
          44,
          54,
          61,
          41,
          52,
          25,
          37,
          50,
          26,
          29,
          40,
          34,
          34,
          25,
          32,
          34,
          null,
          51,
          56,
          26,
          54,
          26,
          29,
          22,
          73,
          39,
          35,
          51,
          45,
          24,
          58,
          52,
          36,
          38,
          39,
          31,
          51,
          60,
          43,
          39,
          40,
          45,
          69,
          42,
          32,
          55,
          34,
          32,
          54,
          34,
          21,
          64,
          60,
          36,
          34,
          40,
          30,
          50,
          50,
          65,
          42,
          26,
          39,
          39,
          51,
          57,
          23,
          57,
          21,
          49,
          59,
          58,
          57,
          46,
          30,
          54,
          40,
          30,
          40,
          42,
          20,
          50,
          48,
          27,
          34,
          49,
          56,
          39,
          37,
          40,
          30,
          26,
          24,
          37,
          44,
          40,
          48,
          32,
          56,
          56,
          51,
          61,
          59,
          57,
          20,
          30,
          61,
          35,
          50,
          46,
          31,
          50,
          49,
          64,
          33,
          63,
          39,
          49,
          49,
          58,
          58,
          52,
          30,
          34,
          62,
          33,
          24,
          37,
          23,
          65,
          22,
          54,
          44,
          33,
          58,
          34,
          40,
          41,
          33,
          55,
          21,
          45,
          49,
          38,
          51,
          37,
          50,
          35,
          29,
          54,
          60,
          29,
          32,
          47,
          30,
          54,
          60,
          36,
          44,
          33,
          41,
          42,
          30,
          29,
          36,
          31,
          39,
          24,
          33,
          37,
          42,
          48,
          49,
          39,
          52,
          34,
          31,
          31,
          27,
          53,
          49,
          26,
          57,
          55,
          53,
          26,
          52,
          22,
          43,
          42,
          23,
          26,
          49,
          53,
          50,
          47,
          51,
          21,
          50,
          23,
          46,
          54,
          37,
          37,
          22,
          19,
          61,
          29,
          45,
          47,
          26,
          47,
          58,
          31,
          51,
          71,
          21,
          35,
          35,
          33,
          23,
          32,
          29,
          16,
          37,
          54,
          28,
          56,
          45,
          43,
          21,
          30,
          33,
          33
         ],
         "xaxis": "x",
         "yaxis": "y"
        }
       ],
       "layout": {
        "barmode": "relative",
        "legend": {
         "tracegroupgap": 0
        },
        "margin": {
         "t": 60
        },
        "template": {
         "data": {
          "bar": [
           {
            "error_x": {
             "color": "#2a3f5f"
            },
            "error_y": {
             "color": "#2a3f5f"
            },
            "marker": {
             "line": {
              "color": "#E5ECF6",
              "width": 0.5
             }
            },
            "type": "bar"
           }
          ],
          "barpolar": [
           {
            "marker": {
             "line": {
              "color": "#E5ECF6",
              "width": 0.5
             }
            },
            "type": "barpolar"
           }
          ],
          "carpet": [
           {
            "aaxis": {
             "endlinecolor": "#2a3f5f",
             "gridcolor": "white",
             "linecolor": "white",
             "minorgridcolor": "white",
             "startlinecolor": "#2a3f5f"
            },
            "baxis": {
             "endlinecolor": "#2a3f5f",
             "gridcolor": "white",
             "linecolor": "white",
             "minorgridcolor": "white",
             "startlinecolor": "#2a3f5f"
            },
            "type": "carpet"
           }
          ],
          "choropleth": [
           {
            "colorbar": {
             "outlinewidth": 0,
             "ticks": ""
            },
            "type": "choropleth"
           }
          ],
          "contour": [
           {
            "colorbar": {
             "outlinewidth": 0,
             "ticks": ""
            },
            "colorscale": [
             [
              0,
              "#0d0887"
             ],
             [
              0.1111111111111111,
              "#46039f"
             ],
             [
              0.2222222222222222,
              "#7201a8"
             ],
             [
              0.3333333333333333,
              "#9c179e"
             ],
             [
              0.4444444444444444,
              "#bd3786"
             ],
             [
              0.5555555555555556,
              "#d8576b"
             ],
             [
              0.6666666666666666,
              "#ed7953"
             ],
             [
              0.7777777777777778,
              "#fb9f3a"
             ],
             [
              0.8888888888888888,
              "#fdca26"
             ],
             [
              1,
              "#f0f921"
             ]
            ],
            "type": "contour"
           }
          ],
          "contourcarpet": [
           {
            "colorbar": {
             "outlinewidth": 0,
             "ticks": ""
            },
            "type": "contourcarpet"
           }
          ],
          "heatmap": [
           {
            "colorbar": {
             "outlinewidth": 0,
             "ticks": ""
            },
            "colorscale": [
             [
              0,
              "#0d0887"
             ],
             [
              0.1111111111111111,
              "#46039f"
             ],
             [
              0.2222222222222222,
              "#7201a8"
             ],
             [
              0.3333333333333333,
              "#9c179e"
             ],
             [
              0.4444444444444444,
              "#bd3786"
             ],
             [
              0.5555555555555556,
              "#d8576b"
             ],
             [
              0.6666666666666666,
              "#ed7953"
             ],
             [
              0.7777777777777778,
              "#fb9f3a"
             ],
             [
              0.8888888888888888,
              "#fdca26"
             ],
             [
              1,
              "#f0f921"
             ]
            ],
            "type": "heatmap"
           }
          ],
          "heatmapgl": [
           {
            "colorbar": {
             "outlinewidth": 0,
             "ticks": ""
            },
            "colorscale": [
             [
              0,
              "#0d0887"
             ],
             [
              0.1111111111111111,
              "#46039f"
             ],
             [
              0.2222222222222222,
              "#7201a8"
             ],
             [
              0.3333333333333333,
              "#9c179e"
             ],
             [
              0.4444444444444444,
              "#bd3786"
             ],
             [
              0.5555555555555556,
              "#d8576b"
             ],
             [
              0.6666666666666666,
              "#ed7953"
             ],
             [
              0.7777777777777778,
              "#fb9f3a"
             ],
             [
              0.8888888888888888,
              "#fdca26"
             ],
             [
              1,
              "#f0f921"
             ]
            ],
            "type": "heatmapgl"
           }
          ],
          "histogram": [
           {
            "marker": {
             "colorbar": {
              "outlinewidth": 0,
              "ticks": ""
             }
            },
            "type": "histogram"
           }
          ],
          "histogram2d": [
           {
            "colorbar": {
             "outlinewidth": 0,
             "ticks": ""
            },
            "colorscale": [
             [
              0,
              "#0d0887"
             ],
             [
              0.1111111111111111,
              "#46039f"
             ],
             [
              0.2222222222222222,
              "#7201a8"
             ],
             [
              0.3333333333333333,
              "#9c179e"
             ],
             [
              0.4444444444444444,
              "#bd3786"
             ],
             [
              0.5555555555555556,
              "#d8576b"
             ],
             [
              0.6666666666666666,
              "#ed7953"
             ],
             [
              0.7777777777777778,
              "#fb9f3a"
             ],
             [
              0.8888888888888888,
              "#fdca26"
             ],
             [
              1,
              "#f0f921"
             ]
            ],
            "type": "histogram2d"
           }
          ],
          "histogram2dcontour": [
           {
            "colorbar": {
             "outlinewidth": 0,
             "ticks": ""
            },
            "colorscale": [
             [
              0,
              "#0d0887"
             ],
             [
              0.1111111111111111,
              "#46039f"
             ],
             [
              0.2222222222222222,
              "#7201a8"
             ],
             [
              0.3333333333333333,
              "#9c179e"
             ],
             [
              0.4444444444444444,
              "#bd3786"
             ],
             [
              0.5555555555555556,
              "#d8576b"
             ],
             [
              0.6666666666666666,
              "#ed7953"
             ],
             [
              0.7777777777777778,
              "#fb9f3a"
             ],
             [
              0.8888888888888888,
              "#fdca26"
             ],
             [
              1,
              "#f0f921"
             ]
            ],
            "type": "histogram2dcontour"
           }
          ],
          "mesh3d": [
           {
            "colorbar": {
             "outlinewidth": 0,
             "ticks": ""
            },
            "type": "mesh3d"
           }
          ],
          "parcoords": [
           {
            "line": {
             "colorbar": {
              "outlinewidth": 0,
              "ticks": ""
             }
            },
            "type": "parcoords"
           }
          ],
          "pie": [
           {
            "automargin": true,
            "type": "pie"
           }
          ],
          "scatter": [
           {
            "marker": {
             "colorbar": {
              "outlinewidth": 0,
              "ticks": ""
             }
            },
            "type": "scatter"
           }
          ],
          "scatter3d": [
           {
            "line": {
             "colorbar": {
              "outlinewidth": 0,
              "ticks": ""
             }
            },
            "marker": {
             "colorbar": {
              "outlinewidth": 0,
              "ticks": ""
             }
            },
            "type": "scatter3d"
           }
          ],
          "scattercarpet": [
           {
            "marker": {
             "colorbar": {
              "outlinewidth": 0,
              "ticks": ""
             }
            },
            "type": "scattercarpet"
           }
          ],
          "scattergeo": [
           {
            "marker": {
             "colorbar": {
              "outlinewidth": 0,
              "ticks": ""
             }
            },
            "type": "scattergeo"
           }
          ],
          "scattergl": [
           {
            "marker": {
             "colorbar": {
              "outlinewidth": 0,
              "ticks": ""
             }
            },
            "type": "scattergl"
           }
          ],
          "scattermapbox": [
           {
            "marker": {
             "colorbar": {
              "outlinewidth": 0,
              "ticks": ""
             }
            },
            "type": "scattermapbox"
           }
          ],
          "scatterpolar": [
           {
            "marker": {
             "colorbar": {
              "outlinewidth": 0,
              "ticks": ""
             }
            },
            "type": "scatterpolar"
           }
          ],
          "scatterpolargl": [
           {
            "marker": {
             "colorbar": {
              "outlinewidth": 0,
              "ticks": ""
             }
            },
            "type": "scatterpolargl"
           }
          ],
          "scatterternary": [
           {
            "marker": {
             "colorbar": {
              "outlinewidth": 0,
              "ticks": ""
             }
            },
            "type": "scatterternary"
           }
          ],
          "surface": [
           {
            "colorbar": {
             "outlinewidth": 0,
             "ticks": ""
            },
            "colorscale": [
             [
              0,
              "#0d0887"
             ],
             [
              0.1111111111111111,
              "#46039f"
             ],
             [
              0.2222222222222222,
              "#7201a8"
             ],
             [
              0.3333333333333333,
              "#9c179e"
             ],
             [
              0.4444444444444444,
              "#bd3786"
             ],
             [
              0.5555555555555556,
              "#d8576b"
             ],
             [
              0.6666666666666666,
              "#ed7953"
             ],
             [
              0.7777777777777778,
              "#fb9f3a"
             ],
             [
              0.8888888888888888,
              "#fdca26"
             ],
             [
              1,
              "#f0f921"
             ]
            ],
            "type": "surface"
           }
          ],
          "table": [
           {
            "cells": {
             "fill": {
              "color": "#EBF0F8"
             },
             "line": {
              "color": "white"
             }
            },
            "header": {
             "fill": {
              "color": "#C8D4E3"
             },
             "line": {
              "color": "white"
             }
            },
            "type": "table"
           }
          ]
         },
         "layout": {
          "annotationdefaults": {
           "arrowcolor": "#2a3f5f",
           "arrowhead": 0,
           "arrowwidth": 1
          },
          "autotypenumbers": "strict",
          "coloraxis": {
           "colorbar": {
            "outlinewidth": 0,
            "ticks": ""
           }
          },
          "colorscale": {
           "diverging": [
            [
             0,
             "#8e0152"
            ],
            [
             0.1,
             "#c51b7d"
            ],
            [
             0.2,
             "#de77ae"
            ],
            [
             0.3,
             "#f1b6da"
            ],
            [
             0.4,
             "#fde0ef"
            ],
            [
             0.5,
             "#f7f7f7"
            ],
            [
             0.6,
             "#e6f5d0"
            ],
            [
             0.7,
             "#b8e186"
            ],
            [
             0.8,
             "#7fbc41"
            ],
            [
             0.9,
             "#4d9221"
            ],
            [
             1,
             "#276419"
            ]
           ],
           "sequential": [
            [
             0,
             "#0d0887"
            ],
            [
             0.1111111111111111,
             "#46039f"
            ],
            [
             0.2222222222222222,
             "#7201a8"
            ],
            [
             0.3333333333333333,
             "#9c179e"
            ],
            [
             0.4444444444444444,
             "#bd3786"
            ],
            [
             0.5555555555555556,
             "#d8576b"
            ],
            [
             0.6666666666666666,
             "#ed7953"
            ],
            [
             0.7777777777777778,
             "#fb9f3a"
            ],
            [
             0.8888888888888888,
             "#fdca26"
            ],
            [
             1,
             "#f0f921"
            ]
           ],
           "sequentialminus": [
            [
             0,
             "#0d0887"
            ],
            [
             0.1111111111111111,
             "#46039f"
            ],
            [
             0.2222222222222222,
             "#7201a8"
            ],
            [
             0.3333333333333333,
             "#9c179e"
            ],
            [
             0.4444444444444444,
             "#bd3786"
            ],
            [
             0.5555555555555556,
             "#d8576b"
            ],
            [
             0.6666666666666666,
             "#ed7953"
            ],
            [
             0.7777777777777778,
             "#fb9f3a"
            ],
            [
             0.8888888888888888,
             "#fdca26"
            ],
            [
             1,
             "#f0f921"
            ]
           ]
          },
          "colorway": [
           "#636efa",
           "#EF553B",
           "#00cc96",
           "#ab63fa",
           "#FFA15A",
           "#19d3f3",
           "#FF6692",
           "#B6E880",
           "#FF97FF",
           "#FECB52"
          ],
          "font": {
           "color": "#2a3f5f"
          },
          "geo": {
           "bgcolor": "white",
           "lakecolor": "white",
           "landcolor": "#E5ECF6",
           "showlakes": true,
           "showland": true,
           "subunitcolor": "white"
          },
          "hoverlabel": {
           "align": "left"
          },
          "hovermode": "closest",
          "mapbox": {
           "style": "light"
          },
          "paper_bgcolor": "white",
          "plot_bgcolor": "#E5ECF6",
          "polar": {
           "angularaxis": {
            "gridcolor": "white",
            "linecolor": "white",
            "ticks": ""
           },
           "bgcolor": "#E5ECF6",
           "radialaxis": {
            "gridcolor": "white",
            "linecolor": "white",
            "ticks": ""
           }
          },
          "scene": {
           "xaxis": {
            "backgroundcolor": "#E5ECF6",
            "gridcolor": "white",
            "gridwidth": 2,
            "linecolor": "white",
            "showbackground": true,
            "ticks": "",
            "zerolinecolor": "white"
           },
           "yaxis": {
            "backgroundcolor": "#E5ECF6",
            "gridcolor": "white",
            "gridwidth": 2,
            "linecolor": "white",
            "showbackground": true,
            "ticks": "",
            "zerolinecolor": "white"
           },
           "zaxis": {
            "backgroundcolor": "#E5ECF6",
            "gridcolor": "white",
            "gridwidth": 2,
            "linecolor": "white",
            "showbackground": true,
            "ticks": "",
            "zerolinecolor": "white"
           }
          },
          "shapedefaults": {
           "line": {
            "color": "#2a3f5f"
           }
          },
          "ternary": {
           "aaxis": {
            "gridcolor": "white",
            "linecolor": "white",
            "ticks": ""
           },
           "baxis": {
            "gridcolor": "white",
            "linecolor": "white",
            "ticks": ""
           },
           "bgcolor": "#E5ECF6",
           "caxis": {
            "gridcolor": "white",
            "linecolor": "white",
            "ticks": ""
           }
          },
          "title": {
           "x": 0.05
          },
          "xaxis": {
           "automargin": true,
           "gridcolor": "white",
           "linecolor": "white",
           "ticks": "",
           "title": {
            "standoff": 15
           },
           "zerolinecolor": "white",
           "zerolinewidth": 2
          },
          "yaxis": {
           "automargin": true,
           "gridcolor": "white",
           "linecolor": "white",
           "ticks": "",
           "title": {
            "standoff": 15
           },
           "zerolinecolor": "white",
           "zerolinewidth": 2
          }
         }
        },
        "xaxis": {
         "anchor": "y",
         "domain": [
          0,
          1
         ],
         "title": {
          "text": "Age"
         }
        },
        "yaxis": {
         "anchor": "x",
         "domain": [
          0,
          1
         ],
         "title": {
          "text": "count"
         }
        }
       }
      },
      "text/html": [
       "<div>                            <div id=\"9e232037-054b-4b5f-90d3-ffdd5c04e901\" class=\"plotly-graph-div\" style=\"height:525px; width:100%;\"></div>            <script type=\"text/javascript\">                require([\"plotly\"], function(Plotly) {                    window.PLOTLYENV=window.PLOTLYENV || {};                                    if (document.getElementById(\"9e232037-054b-4b5f-90d3-ffdd5c04e901\")) {                    Plotly.newPlot(                        \"9e232037-054b-4b5f-90d3-ffdd5c04e901\",                        [{\"alignmentgroup\": \"True\", \"bingroup\": \"x\", \"hovertemplate\": \"Age=%{x}<br>count=%{y}<extra></extra>\", \"legendgroup\": \"\", \"marker\": {\"color\": \"indianred\"}, \"name\": \"\", \"nbinsx\": 40, \"offsetgroup\": \"\", \"orientation\": \"v\", \"showlegend\": false, \"type\": \"histogram\", \"x\": [null, 48.0, 30.0, 23.0, 22.0, 23.0, 21.0, 40.0, 40.0, 50.0, 26.0, 49.0, null, 50.0, 29.0, 45.0, 29.0, 42.0, 54.0, 32.0, 47.0, 39.0, 27.0, 34.0, 27.0, 25.0, 51.0, 23.0, 35.0, 25.0, 43.0, 48.0, 40.0, 49.0, 40.0, 51.0, 25.0, 55.0, 56.0, 39.0, 28.0, 35.0, 34.0, 23.0, 39.0, 49.0, 49.0, 50.0, 49.0, 30.0, 67.0, 36.0, 54.0, 43.0, 25.0, 54.0, 54.0, 23.0, 52.0, 54.0, 61.0, 53.0, 42.0, 41.0, 34.0, 32.0, 31.0, 29.0, 57.0, 24.0, 26.0, 25.0, 55.0, 40.0, 37.0, 43.0, 38.0, 42.0, 58.0, 42.0, 51.0, 59.0, 36.0, 50.0, 59.0, 41.0, 25.0, 46.0, 26.0, 47.0, 37.0, 41.0, 30.0, 54.0, 34.0, 32.0, 37.0, 53.0, 30.0, 38.0, 26.0, 36.0, 40.0, 48.0, 23.0, 64.0, 26.0, 38.0, 43.0, 37.0, 57.0, 52.0, 51.0, 60.0, 43.0, 47.0, 52.0, 44.0, 36.0, 26.0, 42.0, 30.0, 30.0, 33.0, 67.0, 30.0, 33.0, 23.0, 31.0, 44.0, 54.0, 48.0, 44.0, 40.0, 37.0, 24.0, 49.0, 43.0, 50.0, 36.0, 20.0, 46.0, 50.0, 33.0, 58.0, 49.0, 36.0, 35.0, 52.0, 41.0, 28.0, 37.0, 56.0, 48.0, 46.0, 53.0, 45.0, 52.0, 64.0, 42.0, 23.0, 43.0, 19.0, 38.0, 47.0, 59.0, 22.0, 29.0, 45.0, 34.0, 30.0, 24.0, 39.0, 66.0, 26.0, 40.0, 44.0, 40.0, 42.0, 32.0, 54.0, 22.0, 49.0, 31.0, 25.0, 44.0, 38.0, 31.0, 38.0, 63.0, 40.0, 61.0, 38.0, 50.0, 35.0, 62.0, 59.0, 24.0, 64.0, 39.0, 56.0, 29.0, 28.0, 31.0, 48.0, 49.0, 25.0, 51.0, 28.0, 59.0, 26.0, 48.0, 52.0, 47.0, 63.0, 39.0, 47.0, 27.0, 45.0, 44.0, 65.0, 30.0, 52.0, 46.0, 52.0, 33.0, 56.0, 36.0, 61.0, 29.0, 41.0, 63.0, 54.0, 47.0, 32.0, 45.0, 54.0, 31.0, 30.0, 24.0, 45.0, 51.0, 51.0, 44.0, 27.0, 26.0, 56.0, 47.0, 37.0, 44.0, 47.0, 29.0, 60.0, 55.0, 35.0, 62.0, 49.0, 43.0, 51.0, 37.0, 60.0, 37.0, 59.0, 71.0, 30.0, 51.0, 47.0, 51.0, 22.0, 43.0, 30.0, 50.0, 44.0, 26.0, 47.0, 27.0, 28.0, 57.0, 35.0, 52.0, 50.0, 59.0, 29.0, 29.0, 62.0, 38.0, 36.0, 34.0, 49.0, 45.0, 21.0, 23.0, 55.0, 33.0, 28.0, 21.0, 46.0, 38.0, 47.0, 46.0, 45.0, 71.0, 48.0, 53.0, 47.0, 24.0, 63.0, 47.0, 34.0, 56.0, 29.0, 50.0, 35.0, 56.0, 24.0, 63.0, 35.0, 58.0, 45.0, 36.0, 28.0, 40.0, 27.0, 54.0, 49.0, 50.0, 59.0, 36.0, 62.0, 28.0, 20.0, 34.0, 36.0, 33.0, 29.0, 51.0, 44.0, 31.0, 40.0, 54.0, 60.0, 44.0, 27.0, 39.0, 57.0, 59.0, 33.0, 53.0, 30.0, 37.0, 22.0, 31.0, 24.0, 56.0, 20.0, 29.0, 26.0, 39.0, 35.0, 45.0, 34.0, 33.0, 71.0, 30.0, 63.0, 39.0, 29.0, 31.0, 59.0, 58.0, 38.0, 60.0, 28.0, 39.0, 46.0, 60.0, 36.0, 60.0, 24.0, 53.0, 42.0, 34.0, 49.0, 22.0, 60.0, 50.0, 59.0, 73.0, 54.0, 58.0, 28.0, 40.0, 49.0, 43.0, 52.0, 49.0, 52.0, 39.0, 41.0, 34.0, 42.0, 68.0, 43.0, 40.0, 32.0, 38.0, 33.0, 42.0, 53.0, 36.0, 54.0, 42.0, 48.0, 50.0, 28.0, 41.0, 24.0, 42.0, 43.0, 48.0, 45.0, 47.0, 39.0, 39.0, 46.0, 57.0, 41.0, 23.0, 51.0, 46.0, 52.0, 31.0, 35.0, 69.0, 38.0, 42.0, 65.0, 53.0, 45.0, 30.0, 23.0, 54.0, 23.0, 51.0, 46.0, 28.0, 57.0, 67.0, 28.0, 38.0, 53.0, 54.0, 40.0, 56.0, 49.0, 75.0, 57.0, 32.0, 51.0, 33.0, 37.0, 28.0, 48.0, 55.0, 31.0, 48.0, 31.0, 41.0, 27.0, 25.0, 36.0, 34.0, 23.0, 58.0, 52.0, 55.0, 49.0, 40.0, 30.0, 34.0, 46.0, 60.0, 31.0, 45.0, 46.0, 48.0, 36.0, 25.0, 33.0, 56.0, 35.0, 54.0, 36.0, 63.0, 36.0, 30.0, 67.0, 23.0, 24.0, 50.0, 59.0, 28.0, 47.0, 53.0, 61.0, 39.0, 45.0, 49.0, 33.0, 45.0, 44.0, 45.0, 35.0, 56.0, 50.0, 63.0, 25.0, 38.0, 29.0, 31.0, 42.0, 44.0, 26.0, 60.0, 55.0, 33.0, 69.0, 61.0, 32.0, 50.0, 34.0, 62.0, 48.0, 25.0, 23.0, 35.0, 50.0, 54.0, 27.0, 67.0, 36.0, 33.0, 55.0, 28.0, 43.0, 61.0, 54.0, 62.0, 36.0, 29.0, 62.0, 19.0, 28.0, 29.0, 28.0, 51.0, 48.0, 33.0, 37.0, 43.0, 44.0, 58.0, 51.0, 36.0, 29.0, 31.0, 32.0, 33.0, 50.0, 24.0, 38.0, 42.0, 43.0, 54.0, 30.0, 43.0, 50.0, 51.0, 65.0, 65.0, 46.0, 29.0, 57.0, 28.0, 52.0, 26.0, 23.0, 58.0, 42.0, 42.0, 55.0, 46.0, 55.0, 25.0, 57.0, 46.0, 38.0, 45.0, 49.0, 40.0, 36.0, 54.0, 25.0, 55.0, 57.0, 25.0, 47.0, 33.0, 58.0, 43.0, 41.0, 47.0, 34.0, 56.0, 56.0, 29.0, 47.0, 24.0, 36.0, 53.0, 45.0, 58.0, 40.0, 60.0, 35.0, 46.0, 25.0, 31.0, 36.0, 28.0, 54.0, 36.0, 46.0, 72.0, 42.0, 38.0, 54.0, 19.0, 45.0, 38.0, 36.0, 45.0, 30.0, 43.0, 28.0, 42.0, 26.0, 50.0, 61.0, 51.0, 36.0, 44.0, 60.0, 25.0, 32.0, 34.0, 53.0, 37.0, 40.0, 37.0, 34.0, 26.0, 27.0, 31.0, 40.0, 47.0, 55.0, 59.0, 44.0, 54.0, 59.0, 55.0, 21.0, 47.0, 44.0, 47.0, 57.0, 48.0, 35.0, 24.0, 34.0, 42.0, 41.0, 34.0, 44.0, 40.0, 34.0, 31.0, 31.0, 25.0, 41.0, 36.0, 27.0, 46.0, 30.0, 60.0, 35.0, 42.0, 29.0, 43.0, 43.0, 39.0, 22.0, 38.0, 23.0, 46.0, 40.0, 50.0, 31.0, 55.0, 51.0, 45.0, 35.0, 46.0, 23.0, 28.0, 52.0, 59.0, 46.0, 43.0, 55.0, 47.0, 39.0, 32.0, 36.0, 62.0, 33.0, 41.0, 30.0, 50.0, 30.0, 39.0, 66.0, 21.0, 35.0, 57.0, 52.0, 32.0, 28.0, 33.0, 55.0, 21.0, 36.0, 52.0, 53.0, 54.0, 31.0, 23.0, 29.0, 27.0, 31.0, 26.0, 66.0, 48.0, 54.0, 35.0, 28.0, 27.0, 28.0, 56.0, 47.0, 56.0, 55.0, 47.0, 29.0, 36.0, 30.0, 50.0, 27.0, 37.0, 59.0, 25.0, 36.0, 62.0, 48.0, 55.0, 34.0, 41.0, 24.0, 55.0, 23.0, 35.0, 35.0, 59.0, 47.0, 50.0, 42.0, 50.0, 48.0, 35.0, 25.0, 26.0, 32.0, 50.0, 26.0, 61.0, 19.0, 40.0, 44.0, 37.0, 34.0, 37.0, 55.0, 46.0, 34.0, 22.0, 21.0, 55.0, 33.0, 46.0, 53.0, 48.0, 52.0, 33.0, 26.0, 56.0, 34.0, 28.0, 58.0, 30.0, 29.0, 48.0, 25.0, 30.0, 25.0, 28.0, 29.0, 36.0, 27.0, 36.0, 57.0, 43.0, 29.0, 34.0, 33.0, 31.0, 44.0, 33.0, 33.0, 19.0, 40.0, 29.0, 30.0, 28.0, 40.0, 20.0, 57.0, 39.0, 65.0, 67.0, 44.0, 55.0, 24.0, 41.0, 36.0, 23.0, 37.0, 43.0, 37.0, 20.0, 62.0, 55.0, 49.0, 22.0, 47.0, 57.0, 26.0, 37.0, 41.0, 28.0, 52.0, 51.0, 21.0, 30.0, 32.0, 29.0, 52.0, 33.0, 27.0, 32.0, 33.0, 26.0, 26.0, 18.0, 53.0, 39.0, 24.0, 25.0, 35.0, 55.0, 41.0, 41.0, 63.0, 40.0, 28.0, 45.0, 55.0, 38.0, 59.0, 54.0, 38.0, 36.0, 20.0, 64.0, 48.0, 55.0, 45.0, 43.0, 30.0, 55.0, 31.0, 39.0, 44.0, 50.0, 27.0, 52.0, 44.0, 31.0, 57.0, 44.0, 45.0, 47.0, 39.0, 49.0, 33.0, 31.0, 29.0, 27.0, 48.0, 32.0, 15.0, 51.0, 58.0, 27.0, 64.0, 52.0, 41.0, 48.0, 36.0, 43.0, 33.0, 36.0, 35.0, 51.0, 50.0, 54.0, 47.0, 62.0, 70.0, 48.0, 44.0, 29.0, 51.0, 57.0, 58.0, 29.0, 50.0, 62.0, 58.0, 55.0, 27.0, 24.0, 46.0, 22.0, 36.0, 54.0, 27.0, 22.0, 37.0, 24.0, 36.0, 24.0, 51.0, 52.0, 26.0, 29.0, 54.0, 43.0, 20.0, 28.0, 29.0, 49.0, 65.0, 35.0, 26.0, 25.0, 63.0, 64.0, 53.0, 54.0, 54.0, 64.0, 37.0, 41.0, 48.0, 35.0, 28.0, 37.0, 21.0, 36.0, 65.0, 39.0, 24.0, 52.0, 22.0, 39.0, 69.0, 25.0, 29.0, 56.0, 36.0, 65.0, 55.0, 50.0, 60.0, 36.0, 34.0, 56.0, 41.0, 56.0, 29.0, 40.0, 61.0, 40.0, 23.0, 46.0, 40.0, 24.0, 24.0, 36.0, 71.0, 58.0, 31.0, 59.0, 54.0, 44.0, 48.0, 38.0, 31.0, 32.0, 46.0, 42.0, 36.0, 36.0, 60.0, 56.0, 52.0, 35.0, 55.0, 26.0, 42.0, 34.0, 65.0, 39.0, 28.0, 41.0, 45.0, 54.0, 35.0, 31.0, 44.0, 60.0, 47.0, 26.0, 28.0, 51.0, 55.0, 29.0, 40.0, 35.0, 38.0, 30.0, 63.0, 45.0, 22.0, 46.0, 61.0, 38.0, 49.0, 45.0, 41.0, 41.0, 24.0, 26.0, 53.0, 24.0, 37.0, 25.0, 53.0, 47.0, 50.0, 33.0, 37.0, 22.0, 43.0, 55.0, 50.0, 47.0, 32.0, 43.0, 53.0, 56.0, 47.0, 57.0, 17.0, 51.0, 41.0, 51.0, 37.0, 44.0, 53.0, 55.0, 43.0, 56.0, 54.0, 44.0, 25.0, 49.0, 18.0, 51.0, 37.0, 60.0, 23.0, 23.0, 49.0, 29.0, 23.0, 23.0, 44.0, 44.0, 48.0, 34.0, 60.0, 31.0, 52.0, 37.0, 33.0, 70.0, 39.0, 33.0, 24.0, 28.0, 30.0, 35.0, 30.0, 45.0, 34.0, 53.0, 20.0, 66.0, 55.0, 55.0, 36.0, 50.0, 47.0, 23.0, 38.0, 39.0, 42.0, 40.0, 26.0, 31.0, 64.0, 62.0, 41.0, 47.0, 62.0, 30.0, 38.0, 33.0, 51.0, 33.0, 27.0, 29.0, 40.0, 54.0, 26.0, 38.0, 34.0, 32.0, 60.0, 36.0, 25.0, 44.0, 44.0, 28.0, 25.0, 56.0, 42.0, 49.0, 46.0, 22.0, 56.0, 55.0, 24.0, 18.0, 58.0, 26.0, 27.0, 24.0, 29.0, 28.0, 38.0, 52.0, 62.0, 51.0, 43.0, 52.0, 50.0, 48.0, 43.0, 29.0, 25.0, 43.0, 38.0, 26.0, 51.0, 24.0, 35.0, 50.0, 55.0, 42.0, 41.0, 27.0, 43.0, 29.0, 33.0, 50.0, 42.0, 41.0, 32.0, 32.0, 23.0, 37.0, 47.0, 34.0, 53.0, 35.0, 41.0, 55.0, 35.0, 37.0, 43.0, 40.0, 23.0, 55.0, 37.0, 35.0, 38.0, 55.0, 45.0, 50.0, 37.0, 46.0, 37.0, 49.0, 28.0, 57.0, 48.0, 22.0, 37.0, 50.0, 52.0, 35.0, 43.0, 61.0, 51.0, 50.0, 21.0, 52.0, 28.0, 38.0, 51.0, 24.0, 48.0, 54.0, 56.0, 40.0, 45.0, 40.0, 41.0, 65.0, 48.0, 59.0, 50.0, 44.0, 17.0, 50.0, 22.0, 65.0, 51.0, 67.0, 36.0, 53.0, 45.0, 50.0, 41.0, 59.0, 28.0, 44.0, 37.0, 37.0, 58.0, 23.0, 46.0, 45.0, 49.0, 28.0, 57.0, 57.0, 33.0, 47.0, 37.0, 61.0, 65.0, 57.0, 25.0, 47.0, 62.0, 26.0, 44.0, 40.0, 58.0, 23.0, 42.0, 24.0, 38.0, 38.0, 60.0, 61.0, 45.0, 36.0, 42.0, 45.0, 38.0, 46.0, 47.0, 32.0, 42.0, 43.0, 64.0, 60.0, 49.0, 33.0, 59.0, 61.0, 29.0, 24.0, 41.0, 46.0, 27.0, 51.0, 61.0, 22.0, 57.0, 47.0, 31.0, 57.0, 24.0, 60.0, 34.0, 27.0, 46.0, 61.0, 25.0, 44.0, 30.0, 42.0, 44.0, 56.0, 31.0, 48.0, 50.0, 56.0, 54.0, 34.0, 38.0, 32.0, 33.0, 46.0, 53.0, 49.0, 48.0, 49.0, 49.0, 28.0, 31.0, 32.0, 49.0, 36.0, 33.0, 40.0, 53.0, 30.0, 62.0, 51.0, 40.0, 42.0, 28.0, 26.0, 46.0, 30.0, 44.0, 47.0, 57.0, 26.0, 29.0, 29.0, 28.0, 27.0, 30.0, 44.0, 29.0, 36.0, 57.0, 54.0, 60.0, 66.0, 32.0, 49.0, 36.0, 35.0, 55.0, 58.0, 31.0, 35.0, 24.0, 50.0, 42.0, 50.0, 56.0, 56.0, 49.0, 23.0, 46.0, 41.0, 21.0, 46.0, 44.0, 48.0, 34.0, 57.0, 51.0, 31.0, 58.0, 26.0, 27.0, 48.0, 26.0, 43.0, 53.0, 37.0, 44.0, 34.0, 28.0, 34.0, 40.0, 28.0, 36.0, 53.0, 44.0, 41.0, 21.0, 47.0, 40.0, 35.0, 41.0, 37.0, 22.0, 38.0, 31.0, 37.0, 41.0, 42.0, 45.0, 35.0, 49.0, 47.0, 41.0, 46.0, 53.0, 45.0, 60.0, 55.0, 34.0, 43.0, 47.0, 29.0, 26.0, 48.0, 39.0, 58.0, 56.0, 29.0, 37.0, 37.0, 58.0, 39.0, 52.0, 35.0, 54.0, 54.0, 48.0, 39.0, 44.0, 57.0, 23.0, 33.0, 27.0, 58.0, 52.0, 28.0, 38.0, 58.0, 27.0, 34.0, 56.0, 29.0, 36.0, 36.0, 28.0, 47.0, 37.0, 55.0, 23.0, 44.0, 26.0, 62.0, 50.0, 57.0, 59.0, 34.0, 34.0, 58.0, 65.0, 50.0, 36.0, 45.0, 34.0, 48.0, 49.0, 36.0, 58.0, 50.0, 47.0, 34.0, 51.0, 42.0, 53.0, 50.0, 32.0, 34.0, 30.0, 58.0, 41.0, 52.0, 30.0, 49.0, 30.0, 54.0, 29.0, 38.0, 27.0, 72.0, 45.0, 50.0, 48.0, 52.0, 35.0, 22.0, 49.0, 47.0, 21.0, 52.0, 35.0, 58.0, 30.0, 41.0, 29.0, 46.0, 48.0, 42.0, 33.0, 55.0, 49.0, 25.0, 54.0, 44.0, 60.0, 22.0, 55.0, 48.0, 32.0, 54.0, 39.0, 30.0, 29.0, 30.0, 31.0, 44.0, 61.0, 45.0, 25.0, 29.0, 41.0, 53.0, 41.0, 49.0, 24.0, 47.0, 46.0, 52.0, 49.0, 40.0, 40.0, 28.0, 64.0, 34.0, 55.0, 49.0, 52.0, 32.0, 49.0, 51.0, 37.0, 35.0, 25.0, 44.0, 29.0, 30.0, 58.0, 30.0, 43.0, 32.0, 34.0, 47.0, 44.0, 49.0, 41.0, 45.0, 29.0, 57.0, 68.0, 29.0, 38.0, 28.0, 45.0, 39.0, 41.0, 31.0, 26.0, 57.0, 39.0, 24.0, 56.0, 42.0, 62.0, 17.0, 27.0, 59.0, 59.0, 54.0, 53.0, 43.0, 22.0, 58.0, 48.0, 53.0, 49.0, 33.0, 51.0, 29.0, 55.0, 30.0, 23.0, 33.0, 25.0, 19.0, 43.0, 38.0, 23.0, 32.0, 22.0, 58.0, 34.0, 37.0, 45.0, 41.0, 37.0, 74.0, 60.0, 51.0, 27.0, 52.0, 37.0, 25.0, 29.0, 24.0, 71.0, 32.0, 54.0, 54.0, 32.0, 53.0, 28.0, 41.0, 40.0, 50.0, 48.0, 61.0, 52.0, 39.0, 48.0, 56.0, 28.0, 58.0, 41.0, 36.0, 20.0, 44.0, 27.0, 22.0, 46.0, 28.0, 29.0, 51.0, 20.0, 30.0, 57.0, 54.0, 52.0, 57.0, 26.0, 47.0, 41.0, 52.0, 35.0, 54.0, 36.0, 26.0, 19.0, 54.0, 64.0, 30.0, 45.0, 47.0, 36.0, 38.0, 53.0, 55.0, 44.0, 44.0, 61.0, 32.0, 26.0, 29.0, 33.0, 24.0, 22.0, 25.0, 47.0, 37.0, 28.0, 31.0, 31.0, 44.0, 51.0, 47.0, 53.0, 39.0, 49.0, 29.0, 35.0, 42.0, 37.0, 54.0, 46.0, 23.0, 39.0, 24.0, 52.0, 36.0, 43.0, 26.0, 49.0, 51.0, 58.0, 33.0, 61.0, 53.0, 34.0, 45.0, 25.0, 52.0, 29.0, 25.0, 40.0, 41.0, 55.0, 43.0, 34.0, 66.0, 34.0, 60.0, 34.0, 53.0, 44.0, 51.0, 57.0, 58.0, 24.0, 41.0, 57.0, 41.0, 40.0, 55.0, 32.0, 50.0, 60.0, 31.0, 48.0, 25.0, 62.0, 40.0, 56.0, 26.0, 30.0, 47.0, 52.0, 33.0, 37.0, 51.0, 32.0, 35.0, 23.0, 47.0, 35.0, 25.0, 50.0, 40.0, 51.0, 42.0, 62.0, 57.0, 62.0, 43.0, 51.0, 49.0, 40.0, 29.0, 44.0, 37.0, 27.0, 34.0, 60.0, 37.0, 62.0, 20.0, 47.0, 19.0, 28.0, 43.0, 58.0, 64.0, 51.0, 64.0, 51.0, 25.0, 49.0, 60.0, 19.0, 25.0, 29.0, 54.0, 64.0, 40.0, 35.0, 54.0, 30.0, 21.0, 61.0, 60.0, 41.0, 53.0, 46.0, 56.0, 49.0, 53.0, 50.0, 41.0, 62.0, 56.0, 33.0, 72.0, 53.0, 33.0, 49.0, 48.0, 41.0, 56.0, 27.0, 30.0, 49.0, 72.0, 35.0, 35.0, 26.0, 58.0, 66.0, 38.0, 46.0, 28.0, 41.0, 25.0, 48.0, 30.0, 48.0, 54.0, 32.0, 34.0, 51.0, 45.0, 37.0, 24.0, 52.0, 35.0, 38.0, 37.0, 53.0, 35.0, 22.0, 23.0, 60.0, 30.0, 47.0, 56.0, 39.0, 44.0, 28.0, 25.0, 64.0, 25.0, 44.0, 44.0, 51.0, 52.0, 31.0, 49.0, 38.0, 42.0, 51.0, 32.0, 48.0, 31.0, 22.0, 54.0, 28.0, 37.0, 52.0, 49.0, 34.0, 51.0, 43.0, 49.0, 24.0, 61.0, 22.0, 26.0, 63.0, 24.0, 39.0, 25.0, 29.0, 41.0, 51.0, 59.0, 68.0, 49.0, 59.0, 37.0, 84.0, 60.0, 33.0, 58.0, 62.0, 52.0, 26.0, 44.0, 35.0, 47.0, 55.0, 54.0, 53.0, 30.0, 50.0, 54.0, 33.0, 51.0, 48.0, 26.0, 33.0, 50.0, 53.0, 70.0, 36.0, 22.0, 33.0, 30.0, 37.0, 21.0, 47.0, 57.0, 53.0, 40.0, 54.0, 39.0, 53.0, 31.0, 30.0, 58.0, 30.0, 65.0, 25.0, 32.0, 52.0, 41.0, 23.0, 52.0, 23.0, 58.0, 45.0, 54.0, 24.0, 46.0, 45.0, 40.0, 45.0, 54.0, 53.0, 59.0, 62.0, 27.0, 30.0, 38.0, 61.0, 43.0, 34.0, 34.0, 44.0, 38.0, 48.0, 33.0, 18.0, 38.0, 47.0, 43.0, 43.0, 39.0, 52.0, 48.0, 18.0, 57.0, 52.0, 51.0, 64.0, 32.0, 34.0, 56.0, 61.0, 41.0, 25.0, 24.0, 26.0, 36.0, 32.0, 28.0, 58.0, 26.0, 53.0, 33.0, 29.0, 49.0, 35.0, 51.0, 24.0, 20.0, 26.0, 29.0, 37.0, 63.0, 42.0, 38.0, 26.0, 23.0, 43.0, 60.0, 27.0, 49.0, 18.0, 21.0, 48.0, 44.0, 39.0, 28.0, 39.0, 44.0, 49.0, 37.0, 35.0, 43.0, 33.0, 42.0, 60.0, 38.0, 58.0, 46.0, 32.0, 35.0, 51.0, 33.0, 29.0, 38.0, 54.0, 73.0, 52.0, 48.0, 55.0, 70.0, 57.0, 39.0, 60.0, 45.0, 47.0, 38.0, 41.0, 58.0, 45.0, 44.0, 24.0, 41.0, 25.0, 54.0, 50.0, 28.0, 36.0, 52.0, 52.0, 70.0, 33.0, 44.0, 33.0, 41.0, 44.0, 43.0, 52.0, 28.0, 38.0, 32.0, 39.0, 54.0, 34.0, 52.0, 20.0, 52.0, 57.0, 33.0, 37.0, 39.0, 17.0, 52.0, 43.0, 36.0, 42.0, 35.0, 33.0, 53.0, 29.0, 39.0, 35.0, 63.0, 54.0, 43.0, 35.0, 65.0, 49.0, 29.0, 35.0, 35.0, 50.0, 46.0, 59.0, 44.0, 51.0, 31.0, 50.0, 66.0, 28.0, 46.0, 29.0, 24.0, 30.0, 36.0, 58.0, 28.0, 38.0, 29.0, 61.0, 42.0, 55.0, 40.0, 51.0, 54.0, 52.0, 44.0, 66.0, 48.0, 22.0, 54.0, 31.0, 47.0, 30.0, 61.0, 30.0, 19.0, 25.0, 47.0, 21.0, 59.0, 47.0, 22.0, 40.0, 28.0, 58.0, 35.0, 27.0, 35.0, 18.0, 46.0, 23.0, 23.0, 32.0, 33.0, 38.0, 48.0, 44.0, 58.0, 31.0, 55.0, 42.0, 55.0, 66.0, 50.0, 30.0, 34.0, 51.0, 50.0, 50.0, 37.0, 30.0, 31.0, 40.0, 51.0, 25.0, 37.0, 33.0, 41.0, 36.0, 30.0, 25.0, 46.0, 49.0, 43.0, 56.0, 54.0, 60.0, 50.0, 27.0, 54.0, 45.0, 20.0, 28.0, 33.0, 48.0, 38.0, 37.0, 26.0, 29.0, 22.0, 60.0, 56.0, 44.0, 26.0, 37.0, 24.0, 63.0, 23.0, 44.0, 31.0, 21.0, 63.0, 40.0, 53.0, 57.0, 30.0, 34.0, 57.0, 75.0, 54.0, 61.0, 46.0, 26.0, 36.0, 58.0, 14.0, 31.0, 39.0, 53.0, 30.0, 45.0, 35.0, 34.0, 43.0, 40.0, 21.0, 54.0, 44.0, 56.0, 32.0, 49.0, 48.0, 48.0, 59.0, 57.0, 20.0, 48.0, 39.0, 24.0, 42.0, 27.0, 26.0, 21.0, 34.0, 35.0, 58.0, 59.0, 48.0, 52.0, 63.0, 52.0, 33.0, 59.0, 38.0, 58.0, 27.0, 64.0, 44.0, 26.0, 48.0, 43.0, 44.0, 56.0, 27.0, 22.0, 28.0, 26.0, 31.0, 33.0, 41.0, 51.0, 29.0, 37.0, 25.0, 48.0, 36.0, 59.0, 62.0, 20.0, 26.0, 52.0, 39.0, 27.0, 45.0, 40.0, 39.0, 27.0, 43.0, 54.0, 57.0, 51.0, 48.0, 33.0, 27.0, 40.0, 43.0, 65.0, 51.0, 39.0, 32.0, 52.0, 39.0, 49.0, 36.0, 47.0, 25.0, 35.0, 37.0, 26.0, 42.0, 24.0, 50.0, 35.0, 56.0, 28.0, 56.0, 31.0, 61.0, 63.0, 29.0, 38.0, 26.0, 31.0, 45.0, 25.0, 53.0, 36.0, 19.0, 38.0, 53.0, 43.0, 30.0, 52.0, 30.0, 55.0, 26.0, 62.0, 26.0, 50.0, 56.0, 42.0, 33.0, 37.0, 24.0, 36.0, 22.0, 23.0, 46.0, 67.0, 39.0, 64.0, 30.0, 31.0, 47.0, 61.0, 27.0, 51.0, 36.0, 29.0, 45.0, 45.0, 46.0, 53.0, 72.0, 35.0, 56.0, 32.0, 56.0, 52.0, 60.0, 57.0, 58.0, 70.0, 21.0, 28.0, 29.0, 36.0, 34.0, 40.0, 55.0, 25.0, 37.0, 50.0, 40.0, 42.0, 56.0, 54.0, 48.0, 25.0, 31.0, 35.0, 64.0, 41.0, 46.0, 39.0, 59.0, 33.0, 28.0, 52.0, 24.0, 50.0, 32.0, 22.0, 31.0, 60.0, 24.0, 29.0, 47.0, 40.0, 55.0, 28.0, 51.0, 47.0, 24.0, 20.0, 58.0, 47.0, 52.0, 53.0, 51.0, 50.0, 59.0, 29.0, 41.0, 44.0, 59.0, 54.0, 48.0, 29.0, 56.0, 30.0, 46.0, 49.0, 34.0, 57.0, 55.0, 87.0, 29.0, 47.0, 24.0, 37.0, 34.0, 38.0, 58.0, 42.0, 28.0, 42.0, 41.0, 36.0, 34.0, 23.0, 34.0, 43.0, 39.0, 19.0, 54.0, 50.0, 29.0, 39.0, 57.0, 37.0, 47.0, 32.0, 47.0, 65.0, 30.0, 30.0, 29.0, 48.0, 48.0, 33.0, 42.0, 27.0, 41.0, 35.0, 44.0, 29.0, 39.0, 37.0, 69.0, 38.0, 56.0, 57.0, 33.0, 43.0, 59.0, 31.0, 42.0, 48.0, 33.0, 51.0, 20.0, 39.0, 35.0, 73.0, 33.0, 47.0, 38.0, 44.0, 48.0, 58.0, 48.0, 70.0, 44.0, 31.0, 43.0, 57.0, 34.0, 20.0, 34.0, 41.0, 27.0, 30.0, 62.0, 36.0, 51.0, 32.0, 49.0, 28.0, 51.0, 35.0, 24.0, 66.0, 36.0, 57.0, 23.0, 48.0, 46.0, 36.0, 28.0, 29.0, 31.0, 41.0, 45.0, 51.0, 18.0, 40.0, 39.0, 42.0, 48.0, 34.0, 44.0, 30.0, 46.0, 23.0, 44.0, 60.0, 36.0, 29.0, 24.0, 50.0, 30.0, 41.0, 37.0, 31.0, 44.0, 63.0, 48.0, 39.0, 40.0, 22.0, 28.0, 57.0, 38.0, 53.0, 27.0, 26.0, 36.0, 28.0, 34.0, 61.0, 28.0, 26.0, 53.0, 27.0, 44.0, 44.0, 61.0, 55.0, 44.0, 28.0, 44.0, 37.0, 58.0, 28.0, 38.0, 51.0, 39.0, 47.0, 36.0, 28.0, 53.0, 55.0, 62.0, 34.0, 48.0, 30.0, 23.0, 57.0, 53.0, 50.0, 37.0, 29.0, 59.0, 29.0, 47.0, 39.0, 49.0, 48.0, 36.0, 63.0, 25.0, 49.0, 39.0, 29.0, 51.0, 36.0, 41.0, 52.0, 50.0, 45.0, 39.0, 30.0, 26.0, 38.0, 42.0, 44.0, 24.0, 56.0, 29.0, 41.0, 35.0, 27.0, 45.0, 28.0, 44.0, 33.0, 36.0, 56.0, 46.0, 72.0, 30.0, 37.0, 40.0, 26.0, 20.0, 51.0, 29.0, 32.0, 54.0, 27.0, 41.0, 61.0, 58.0, 47.0, 43.0, 30.0, 52.0, 47.0, 63.0, 43.0, 53.0, 48.0, 44.0, 38.0, 29.0, 48.0, 54.0, 45.0, 56.0, 36.0, 37.0, 33.0, 23.0, 34.0, 53.0, 39.0, 29.0, 27.0, 63.0, 40.0, 56.0, 57.0, 49.0, 33.0, 24.0, 24.0, 66.0, 46.0, 52.0, 54.0, 21.0, 51.0, 34.0, 52.0, 32.0, 41.0, 33.0, 42.0, 25.0, 22.0, 47.0, 53.0, 43.0, 47.0, 27.0, 57.0, 72.0, 44.0, 41.0, 67.0, 50.0, 41.0, 59.0, 20.0, 37.0, 44.0, 39.0, 30.0, 32.0, 64.0, 54.0, 55.0, 42.0, 30.0, 66.0, 24.0, 49.0, 29.0, 54.0, 44.0, 34.0, 32.0, 50.0, 31.0, 48.0, 54.0, 21.0, 22.0, 39.0, 47.0, 42.0, 29.0, 53.0, 26.0, 40.0, 21.0, 60.0, 59.0, 58.0, 53.0, 46.0, 33.0, 39.0, 34.0, 57.0, 52.0, 55.0, 25.0, 28.0, 28.0, 33.0, 49.0, 44.0, 46.0, 59.0, 19.0, 38.0, 54.0, 37.0, 59.0, 27.0, 48.0, 49.0, 52.0, 25.0, 49.0, 24.0, 69.0, 28.0, 19.0, 38.0, 43.0, 21.0, 33.0, 24.0, 44.0, 33.0, 23.0, 29.0, 43.0, 29.0, 29.0, 44.0, 40.0, 33.0, 55.0, 51.0, 44.0, 30.0, 50.0, 42.0, 23.0, 19.0, 44.0, 45.0, 63.0, 41.0, 20.0, 30.0, 45.0, 38.0, 51.0, 36.0, 52.0, 35.0, 47.0, 45.0, 35.0, 64.0, 62.0, 31.0, 35.0, 24.0, 41.0, 54.0, 60.0, 40.0, 59.0, 27.0, 51.0, 31.0, 32.0, 68.0, 22.0, 53.0, 55.0, 57.0, 71.0, 31.0, 20.0, 58.0, 47.0, 37.0, 53.0, 56.0, 27.0, 42.0, 19.0, 31.0, 40.0, 45.0, 40.0, 20.0, 38.0, 49.0, 61.0, 65.0, 59.0, 42.0, 52.0, 36.0, 43.0, 37.0, 47.0, 20.0, 32.0, 69.0, 50.0, 24.0, 38.0, 58.0, 61.0, 23.0, 50.0, 63.0, 44.0, 38.0, 53.0, 21.0, 28.0, 32.0, 50.0, 37.0, 68.0, 59.0, 55.0, 50.0, 26.0, 37.0, 40.0, 38.0, 46.0, 55.0, 55.0, 33.0, 27.0, 26.0, 23.0, 55.0, 52.0, 45.0, 59.0, 49.0, 56.0, 22.0, 54.0, 26.0, 48.0, 62.0, 34.0, 24.0, 53.0, 39.0, 24.0, 20.0, 49.0, 65.0, 28.0, 44.0, 33.0, 22.0, 31.0, 27.0, 38.0, 32.0, 19.0, 59.0, 59.0, 36.0, 36.0, 37.0, 40.0, 17.0, 62.0, 27.0, 38.0, 72.0, 51.0, 45.0, 34.0, 60.0, 27.0, 28.0, 52.0, 31.0, 65.0, 25.0, 55.0, 53.0, 57.0, 40.0, 47.0, 34.0, 49.0, 23.0, 39.0, 45.0, 50.0, 27.0, 45.0, 44.0, 36.0, 37.0, 30.0, 58.0, 28.0, 30.0, 35.0, 34.0, 49.0, 56.0, 35.0, 52.0, 34.0, 45.0, 54.0, 48.0, 61.0, 21.0, 60.0, 61.0, 52.0, 26.0, 47.0, 54.0, 30.0, 58.0, 56.0, 32.0, 22.0, 45.0, 45.0, 48.0, 48.0, 53.0, 25.0, 37.0, 58.0, 33.0, 40.0, 25.0, 49.0, 34.0, 59.0, 26.0, 29.0, 58.0, 58.0, 43.0, 29.0, 40.0, 30.0, 57.0, 22.0, 30.0, 53.0, 26.0, 36.0, 45.0, 37.0, 26.0, 45.0, 49.0, 35.0, 46.0, 57.0, 22.0, 52.0, 49.0, 43.0, 48.0, 30.0, 63.0, 38.0, 37.0, 62.0, 17.0, 35.0, 54.0, 50.0, 32.0, 57.0, 51.0, 43.0, 56.0, 21.0, 56.0, 44.0, 46.0, 24.0, 21.0, 63.0, 31.0, 56.0, 29.0, 42.0, 26.0, 44.0, 48.0, 29.0, 23.0, 23.0, 23.0, 55.0, 26.0, 35.0, 32.0, 29.0, 39.0, 33.0, 52.0, 35.0, 49.0, 61.0, 39.0, 21.0, 51.0, 50.0, 31.0, 42.0, 22.0, 44.0, 36.0, 34.0, 41.0, 56.0, 57.0, 47.0, 37.0, 53.0, 64.0, 46.0, 50.0, 39.0, 57.0, 52.0, 49.0, 45.0, 48.0, 33.0, 31.0, 55.0, 47.0, 41.0, 65.0, 60.0, 42.0, 26.0, 56.0, 36.0, 28.0, 21.0, 71.0, 33.0, 49.0, 57.0, 31.0, 27.0, 52.0, 41.0, 30.0, 51.0, 45.0, 32.0, 42.0, 33.0, 50.0, 46.0, 33.0, 32.0, 24.0, 51.0, 58.0, 50.0, 51.0, 38.0, 49.0, 33.0, 56.0, 36.0, 43.0, 54.0, 28.0, 26.0, 42.0, 50.0, 51.0, 21.0, 24.0, 46.0, 66.0, 45.0, 58.0, 38.0, 44.0, 50.0, 21.0, 28.0, 46.0, 55.0, 47.0, 31.0, 52.0, 38.0, 38.0, 37.0, 59.0, 29.0, 35.0, 30.0, 46.0, 60.0, 32.0, 19.0, 29.0, 34.0, 55.0, 52.0, 38.0, 36.0, 30.0, 31.0, 48.0, 53.0, 59.0, 24.0, 25.0, 41.0, 48.0, 46.0, 53.0, 30.0, 51.0, 45.0, 59.0, 41.0, 33.0, 66.0, 42.0, 55.0, 29.0, 26.0, 64.0, 47.0, 22.0, 46.0, 63.0, 30.0, 50.0, 58.0, 51.0, 32.0, 49.0, 39.0, 34.0, 50.0, 57.0, 43.0, 63.0, 58.0, 22.0, 41.0, 59.0, 29.0, 31.0, 27.0, 37.0, 55.0, 24.0, 33.0, 22.0, 56.0, 43.0, 33.0, 41.0, 54.0, 26.0, 21.0, 44.0, 24.0, 47.0, 61.0, 50.0, 26.0, 39.0, 46.0, 56.0, 54.0, 59.0, 52.0, 18.0, 57.0, 60.0, 23.0, 20.0, 61.0, 39.0, 34.0, 49.0, 33.0, 42.0, 38.0, 25.0, 54.0, 41.0, 47.0, 36.0, 27.0, 44.0, 29.0, 40.0, 47.0, 57.0, 47.0, 29.0, 43.0, 34.0, 53.0, 41.0, 27.0, 35.0, 52.0, 33.0, 38.0, 49.0, 34.0, 64.0, 35.0, 59.0, 27.0, 28.0, 30.0, 27.0, 59.0, 33.0, 38.0, 34.0, 22.0, 56.0, 33.0, 49.0, 59.0, 29.0, 57.0, 26.0, 50.0, 44.0, 37.0, 51.0, 24.0, 57.0, 32.0, 37.0, 65.0, 28.0, 56.0, 25.0, 37.0, 31.0, 28.0, 45.0, 59.0, 32.0, 50.0, 34.0, 41.0, 48.0, 58.0, 45.0, 58.0, 57.0, 46.0, 36.0, 30.0, 52.0, 29.0, 35.0, 51.0, 34.0, 51.0, 47.0, 24.0, 46.0, 43.0, 54.0, 30.0, 45.0, 40.0, 31.0, 71.0, 59.0, 47.0, 35.0, 51.0, 44.0, 49.0, 56.0, 35.0, 35.0, 28.0, 42.0, 46.0, 24.0, 42.0, 45.0, 51.0, 51.0, 45.0, 46.0, 40.0, 43.0, 44.0, 46.0, 28.0, 25.0, 57.0, 40.0, 41.0, 55.0, 25.0, 43.0, 47.0, 29.0, 30.0, 41.0, 63.0, 49.0, 31.0, 35.0, 24.0, 44.0, 24.0, 51.0, 52.0, 27.0, 39.0, 24.0, 57.0, 60.0, 21.0, 59.0, 47.0, 47.0, 27.0, 46.0, 59.0, 52.0, 51.0, 36.0, 21.0, 42.0, 25.0, 33.0, 66.0, 40.0, 25.0, 29.0, 35.0, 50.0, 35.0, 46.0, 23.0, 36.0, 52.0, 44.0, 40.0, 31.0, 35.0, 28.0, 45.0, 25.0, 35.0, 38.0, 27.0, 48.0, 38.0, 36.0, 57.0, 22.0, 35.0, 38.0, 28.0, 53.0, 43.0, 22.0, 63.0, 46.0, 36.0, 54.0, 31.0, 33.0, 41.0, 57.0, 33.0, 32.0, 48.0, 48.0, 56.0, 38.0, 30.0, 64.0, 49.0, 38.0, 50.0, 21.0, 29.0, 35.0, 42.0, 32.0, 47.0, 48.0, 57.0, 59.0, 51.0, 53.0, 40.0, 31.0, 28.0, 45.0, 56.0, 27.0, 38.0, 18.0, 33.0, 40.0, 55.0, 41.0, 54.0, 22.0, 58.0, 60.0, 30.0, 34.0, 46.0, 28.0, 54.0, 61.0, 29.0, 66.0, 52.0, 35.0, 57.0, 36.0, 34.0, 55.0, 59.0, 55.0, 24.0, 39.0, 51.0, 45.0, 24.0, 33.0, 41.0, 34.0, 58.0, 33.0, 51.0, 45.0, 57.0, 34.0, 55.0, 53.0, 24.0, 52.0, 26.0, 32.0, 32.0, 52.0, 55.0, 31.0, 31.0, 50.0, 54.0, 25.0, 34.0, 50.0, 43.0, 53.0, 54.0, 58.0, 28.0, 49.0, 44.0, 56.0, 52.0, 60.0, 41.0, 39.0, 29.0, 25.0, 52.0, 35.0, 62.0, 54.0, 56.0, 36.0, 28.0, 51.0, 45.0, 49.0, 54.0, 22.0, 62.0, 55.0, 42.0, 27.0, 50.0, 35.0, 59.0, 56.0, 32.0, 45.0, 59.0, 33.0, 46.0, 49.0, 28.0, 53.0, 33.0, 40.0, 32.0, 55.0, 63.0, 31.0, 29.0, 59.0, 44.0, 60.0, 44.0, 34.0, 53.0, 48.0, 32.0, 26.0, 75.0, 45.0, 41.0, 52.0, 23.0, 44.0, 41.0, 43.0, 33.0, 25.0, 31.0, 20.0, 28.0, 21.0, 40.0, 41.0, 32.0, 22.0, 35.0, 39.0, 37.0, 53.0, 31.0, 28.0, 47.0, 51.0, 34.0, 54.0, 18.0, 49.0, 27.0, 53.0, 29.0, 38.0, 46.0, 36.0, 39.0, 59.0, 49.0, 51.0, 27.0, 28.0, 54.0, 58.0, 27.0, 49.0, 43.0, 58.0, 29.0, 58.0, 50.0, 53.0, 39.0, 54.0, 30.0, 28.0, 38.0, 28.0, 65.0, 53.0, 25.0, 55.0, 48.0, 47.0, 52.0, 20.0, 37.0, 32.0, 43.0, 40.0, 20.0, 34.0, 55.0, 60.0, 52.0, 39.0, 45.0, 54.0, 29.0, 57.0, 38.0, 60.0, 20.0, 61.0, 44.0, 35.0, 56.0, 56.0, 59.0, 44.0, 56.0, 54.0, 55.0, 38.0, 39.0, 55.0, 41.0, 32.0, 48.0, 48.0, 54.0, 48.0, 59.0, 37.0, 56.0, 63.0, 32.0, 56.0, 31.0, 50.0, 53.0, 20.0, 54.0, 32.0, 24.0, 21.0, 41.0, 32.0, 44.0, 30.0, 21.0, 41.0, 31.0, 43.0, 59.0, 47.0, 37.0, 38.0, 38.0, 54.0, 60.0, 37.0, 26.0, 19.0, 21.0, 33.0, 39.0, 50.0, 50.0, 59.0, 35.0, 51.0, 50.0, 47.0, 25.0, 25.0, 48.0, 63.0, 51.0, 39.0, 31.0, 61.0, 32.0, 50.0, 59.0, 36.0, 60.0, 50.0, 47.0, 37.0, 25.0, 41.0, 55.0, 36.0, 40.0, 49.0, 25.0, 60.0, 48.0, 17.0, 43.0, 45.0, 38.0, 27.0, 33.0, 43.0, 36.0, 42.0, 44.0, 33.0, 27.0, 39.0, 56.0, 53.0, 35.0, 33.0, 28.0, 30.0, 30.0, 54.0, 57.0, 29.0, 33.0, 45.0, 28.0, 62.0, 26.0, 60.0, 52.0, 55.0, 57.0, 25.0, 43.0, 61.0, 50.0, 52.0, 20.0, 48.0, 43.0, 46.0, 46.0, 48.0, 50.0, 43.0, 43.0, 35.0, 34.0, 52.0, 25.0, 59.0, 45.0, 34.0, 42.0, 39.0, 47.0, 32.0, 41.0, 29.0, 41.0, 50.0, 53.0, 39.0, 50.0, 64.0, 36.0, 50.0, 48.0, 27.0, 67.0, 34.0, 54.0, 48.0, 55.0, 36.0, 24.0, 40.0, 49.0, 27.0, 54.0, 48.0, 61.0, 48.0, 52.0, 52.0, 27.0, 26.0, 21.0, 55.0, 50.0, 43.0, 42.0, 28.0, 46.0, 24.0, 49.0, 55.0, 27.0, 32.0, 53.0, 34.0, 29.0, 35.0, 24.0, 54.0, 35.0, 44.0, 56.0, 56.0, 45.0, 32.0, 23.0, 48.0, 29.0, 39.0, 32.0, 52.0, 64.0, 35.0, 46.0, 51.0, 45.0, 51.0, 50.0, 25.0, 50.0, 51.0, 32.0, 32.0, 32.0, 54.0, 31.0, 40.0, 24.0, 62.0, 48.0, 24.0, 17.0, 54.0, 36.0, 53.0, 28.0, 69.0, 39.0, 47.0, 58.0, 44.0, 66.0, 41.0, 62.0, 29.0, 60.0, 51.0, 37.0, 49.0, 46.0, 41.0, 27.0, 56.0, 47.0, 54.0, 33.0, 47.0, 51.0, 35.0, 57.0, 24.0, 36.0, 31.0, 60.0, 39.0, 50.0, 53.0, 60.0, 21.0, 54.0, 49.0, 47.0, 28.0, 53.0, 34.0, 47.0, 45.0, 55.0, 49.0, 30.0, 29.0, 46.0, 30.0, 50.0, 63.0, 47.0, 31.0, 48.0, 38.0, 24.0, 23.0, 60.0, 48.0, 57.0, 46.0, 57.0, 56.0, 32.0, 35.0, 48.0, 46.0, 55.0, 28.0, 51.0, 48.0, 33.0, 52.0, 35.0, 20.0, 51.0, 41.0, 25.0, 37.0, 46.0, 51.0, 31.0, 44.0, 44.0, 48.0, 55.0, 53.0, 54.0, 43.0, 57.0, 23.0, 51.0, 59.0, 43.0, 40.0, 50.0, 28.0, 38.0, 36.0, 46.0, 23.0, 50.0, 62.0, 49.0, 60.0, 28.0, 33.0, 63.0, 26.0, 43.0, 28.0, 58.0, 49.0, 47.0, 45.0, 40.0, 37.0, 50.0, 22.0, 32.0, 43.0, 25.0, 53.0, 68.0, 56.0, 27.0, 34.0, 22.0, 66.0, 63.0, 54.0, 50.0, 36.0, 55.0, 54.0, 44.0, 58.0, 28.0, 39.0, 22.0, 31.0, 28.0, 39.0, 56.0, 53.0, 40.0, 57.0, 50.0, 48.0, 57.0, 48.0, 31.0, 54.0, 51.0, 48.0, 40.0, 30.0, 29.0, 47.0, 38.0, 43.0, 37.0, 58.0, 50.0, 58.0, 45.0, 57.0, 39.0, 31.0, 53.0, 31.0, 49.0, 34.0, 33.0, 37.0, 51.0, 46.0, 49.0, 28.0, 59.0, 57.0, 62.0, 45.0, 26.0, 59.0, 39.0, 26.0, 49.0, 45.0, 25.0, 51.0, 56.0, 36.0, 39.0, 50.0, 62.0, 62.0, 44.0, 21.0, 36.0, 53.0, 58.0, 68.0, 29.0, 30.0, 39.0, 33.0, 22.0, 39.0, 35.0, 27.0, 42.0, 34.0, 44.0, 33.0, 68.0, 47.0, 58.0, 35.0, 31.0, 53.0, 61.0, 37.0, 61.0, 65.0, 33.0, 31.0, 51.0, 46.0, 37.0, 28.0, 55.0, 51.0, 52.0, 53.0, 29.0, 61.0, 63.0, 49.0, 41.0, 52.0, 50.0, 51.0, 58.0, 23.0, 23.0, 50.0, 35.0, 57.0, 56.0, 46.0, 35.0, 54.0, 54.0, 19.0, 48.0, 44.0, 36.0, 26.0, 29.0, 37.0, 41.0, 44.0, 54.0, 29.0, 44.0, 53.0, 31.0, 40.0, 26.0, 29.0, 52.0, 36.0, 66.0, 34.0, 61.0, 59.0, 52.0, 25.0, 48.0, 49.0, 27.0, 27.0, 23.0, 22.0, 33.0, 24.0, 56.0, 57.0, 45.0, 51.0, 59.0, 56.0, 53.0, 39.0, 32.0, 45.0, 45.0, 32.0, 46.0, 49.0, 48.0, 33.0, 53.0, 40.0, 45.0, 56.0, 48.0, 64.0, 51.0, 30.0, 39.0, 57.0, 54.0, 49.0, 28.0, 25.0, 60.0, 50.0, 35.0, 58.0, 49.0, 48.0, 50.0, 38.0, 44.0, 36.0, 29.0, 30.0, 57.0, 27.0, 36.0, 34.0, 29.0, 26.0, 60.0, 45.0, 48.0, 46.0, 21.0, 34.0, 54.0, 39.0, 50.0, 58.0, 31.0, 55.0, 33.0, 46.0, 22.0, 52.0, 32.0, 46.0, 41.0, 40.0, 31.0, 49.0, 51.0, 44.0, 43.0, 52.0, 59.0, 56.0, 56.0, 32.0, 43.0, 47.0, 52.0, 41.0, 42.0, 46.0, 36.0, 24.0, 48.0, 54.0, 32.0, 24.0, 25.0, 35.0, 53.0, 43.0, 50.0, 35.0, 63.0, 54.0, 58.0, 33.0, 51.0, 31.0, 48.0, 44.0, 57.0, 52.0, 62.0, 45.0, 58.0, 56.0, 61.0, 36.0, 59.0, 49.0, 23.0, 36.0, 22.0, 30.0, 50.0, 19.0, 59.0, 28.0, 19.0, 26.0, 34.0, 41.0, 57.0, 53.0, 23.0, 29.0, 52.0, 35.0, 37.0, 45.0, 26.0, 27.0, 51.0, 26.0, 21.0, 29.0, 67.0, 25.0, 65.0, 63.0, 44.0, 32.0, 43.0, 33.0, 31.0, 46.0, 61.0, 63.0, 24.0, 38.0, 27.0, 60.0, 66.0, 26.0, 33.0, 50.0, 35.0, 34.0, 64.0, 28.0, 48.0, 58.0, 27.0, 81.0, 24.0, 38.0, 44.0, 46.0, 43.0, 59.0, 52.0, 48.0, 46.0, 41.0, 57.0, 44.0, 34.0, 47.0, 38.0, 26.0, 62.0, 40.0, 31.0, 53.0, 28.0, 28.0, 62.0, 19.0, 29.0, 31.0, 49.0, 58.0, 26.0, 58.0, 58.0, 57.0, 38.0, 39.0, 41.0, 33.0, 53.0, 37.0, 32.0, 35.0, 40.0, 18.0, 31.0, 55.0, 39.0, 27.0, 22.0, 60.0, 34.0, 48.0, 44.0, 49.0, 38.0, 56.0, 53.0, 39.0, 55.0, 57.0, 45.0, 27.0, 30.0, 42.0, 22.0, 57.0, 38.0, 29.0, 71.0, 34.0, 43.0, 45.0, 26.0, 35.0, 42.0, 36.0, 55.0, 44.0, 54.0, 66.0, 53.0, 52.0, 55.0, 34.0, 41.0, 22.0, 24.0, 35.0, 32.0, 72.0, 53.0, 40.0, 40.0, 34.0, 41.0, 40.0, 60.0, 60.0, 46.0, 33.0, 57.0, 29.0, 32.0, 27.0, 37.0, 66.0, 57.0, 39.0, 51.0, 30.0, 35.0, 53.0, 40.0, 46.0, 51.0, 35.0, 19.0, 29.0, 64.0, 37.0, 30.0, 54.0, 45.0, 63.0, 46.0, 22.0, 51.0, 27.0, 58.0, 41.0, 34.0, 40.0, 46.0, 29.0, 30.0, 32.0, 34.0, 33.0, 57.0, 41.0, 55.0, 55.0, 35.0, 44.0, 26.0, 29.0, 22.0, 27.0, 26.0, 24.0, 47.0, 49.0, 24.0, 28.0, 47.0, 50.0, 49.0, 62.0, 60.0, 57.0, 48.0, 62.0, 57.0, 27.0, 47.0, 31.0, 42.0, 49.0, 72.0, 60.0, 36.0, 56.0, 53.0, 33.0, 66.0, 23.0, 49.0, 33.0, 34.0, 26.0, 58.0, 43.0, 23.0, 57.0, 29.0, 33.0, 39.0, 35.0, 55.0, 38.0, 55.0, 17.0, 61.0, 50.0, 45.0, 52.0, 26.0, 29.0, 36.0, 33.0, 64.0, 31.0, 27.0, 37.0, 68.0, 61.0, 55.0, 52.0, 69.0, 68.0, 52.0, 20.0, 66.0, 54.0, 44.0, 51.0, 56.0, 25.0, 52.0, 66.0, 46.0, 35.0, 46.0, 51.0, 52.0, 50.0, 22.0, 54.0, 30.0, 18.0, 36.0, 54.0, 52.0, 17.0, 50.0, 24.0, 51.0, 60.0, 49.0, 53.0, 53.0, 40.0, 47.0, 36.0, 32.0, 55.0, 42.0, 58.0, 61.0, 23.0, 40.0, 34.0, 47.0, 23.0, 54.0, 61.0, 42.0, 34.0, 55.0, 38.0, 37.0, 58.0, 41.0, 52.0, 41.0, 34.0, 45.0, 51.0, 46.0, 48.0, 33.0, 49.0, 63.0, 45.0, 24.0, 44.0, 23.0, 30.0, 25.0, 49.0, 42.0, 40.0, 56.0, 49.0, 35.0, 49.0, 26.0, 19.0, 43.0, 39.0, 38.0, 58.0, 44.0, 26.0, 45.0, 36.0, 38.0, 56.0, 41.0, 23.0, 35.0, 32.0, 32.0, 33.0, 46.0, 26.0, 46.0, 32.0, 30.0, 43.0, 33.0, 49.0, 39.0, 47.0, 30.0, 58.0, 60.0, 42.0, 53.0, 63.0, 30.0, 33.0, 49.0, 67.0, 34.0, 33.0, 49.0, 50.0, 24.0, 68.0, 48.0, 38.0, 36.0, 44.0, 50.0, 48.0, 29.0, 55.0, 51.0, 29.0, 22.0, 44.0, 34.0, 38.0, 28.0, 62.0, 43.0, 63.0, 54.0, 63.0, 24.0, 43.0, 26.0, 56.0, 49.0, 45.0, 50.0, 34.0, 51.0, 27.0, 27.0, 53.0, 43.0, 21.0, 34.0, 37.0, 24.0, 59.0, 40.0, 26.0, 64.0, 38.0, 20.0, 28.0, 46.0, 20.0, 49.0, 57.0, 45.0, 46.0, 62.0, 39.0, 55.0, 33.0, 31.0, 67.0, 31.0, 55.0, 53.0, 55.0, 29.0, 47.0, 51.0, 48.0, 24.0, 54.0, 54.0, 44.0, 30.0, 31.0, 33.0, 30.0, 33.0, 54.0, 56.0, 44.0, 56.0, 43.0, 27.0, 58.0, 55.0, 55.0, 53.0, 45.0, 38.0, 44.0, 54.0, 61.0, 41.0, 52.0, 25.0, 37.0, 50.0, 26.0, 29.0, 40.0, 34.0, 34.0, 25.0, 32.0, 34.0, null, 51.0, 56.0, 26.0, 54.0, 26.0, 29.0, 22.0, 73.0, 39.0, 35.0, 51.0, 45.0, 24.0, 58.0, 52.0, 36.0, 38.0, 39.0, 31.0, 51.0, 60.0, 43.0, 39.0, 40.0, 45.0, 69.0, 42.0, 32.0, 55.0, 34.0, 32.0, 54.0, 34.0, 21.0, 64.0, 60.0, 36.0, 34.0, 40.0, 30.0, 50.0, 50.0, 65.0, 42.0, 26.0, 39.0, 39.0, 51.0, 57.0, 23.0, 57.0, 21.0, 49.0, 59.0, 58.0, 57.0, 46.0, 30.0, 54.0, 40.0, 30.0, 40.0, 42.0, 20.0, 50.0, 48.0, 27.0, 34.0, 49.0, 56.0, 39.0, 37.0, 40.0, 30.0, 26.0, 24.0, 37.0, 44.0, 40.0, 48.0, 32.0, 56.0, 56.0, 51.0, 61.0, 59.0, 57.0, 20.0, 30.0, 61.0, 35.0, 50.0, 46.0, 31.0, 50.0, 49.0, 64.0, 33.0, 63.0, 39.0, 49.0, 49.0, 58.0, 58.0, 52.0, 30.0, 34.0, 62.0, 33.0, 24.0, 37.0, 23.0, 65.0, 22.0, 54.0, 44.0, 33.0, 58.0, 34.0, 40.0, 41.0, 33.0, 55.0, 21.0, 45.0, 49.0, 38.0, 51.0, 37.0, 50.0, 35.0, 29.0, 54.0, 60.0, 29.0, 32.0, 47.0, 30.0, 54.0, 60.0, 36.0, 44.0, 33.0, 41.0, 42.0, 30.0, 29.0, 36.0, 31.0, 39.0, 24.0, 33.0, 37.0, 42.0, 48.0, 49.0, 39.0, 52.0, 34.0, 31.0, 31.0, 27.0, 53.0, 49.0, 26.0, 57.0, 55.0, 53.0, 26.0, 52.0, 22.0, 43.0, 42.0, 23.0, 26.0, 49.0, 53.0, 50.0, 47.0, 51.0, 21.0, 50.0, 23.0, 46.0, 54.0, 37.0, 37.0, 22.0, 19.0, 61.0, 29.0, 45.0, 47.0, 26.0, 47.0, 58.0, 31.0, 51.0, 71.0, 21.0, 35.0, 35.0, 33.0, 23.0, 32.0, 29.0, 16.0, 37.0, 54.0, 28.0, 56.0, 45.0, 43.0, 21.0, 30.0, 33.0, 33.0], \"xaxis\": \"x\", \"yaxis\": \"y\"}],                        {\"barmode\": \"relative\", \"legend\": {\"tracegroupgap\": 0}, \"margin\": {\"t\": 60}, \"template\": {\"data\": {\"bar\": [{\"error_x\": {\"color\": \"#2a3f5f\"}, \"error_y\": {\"color\": \"#2a3f5f\"}, \"marker\": {\"line\": {\"color\": \"#E5ECF6\", \"width\": 0.5}}, \"type\": \"bar\"}], \"barpolar\": [{\"marker\": {\"line\": {\"color\": \"#E5ECF6\", \"width\": 0.5}}, \"type\": \"barpolar\"}], \"carpet\": [{\"aaxis\": {\"endlinecolor\": \"#2a3f5f\", \"gridcolor\": \"white\", \"linecolor\": \"white\", \"minorgridcolor\": \"white\", \"startlinecolor\": \"#2a3f5f\"}, \"baxis\": {\"endlinecolor\": \"#2a3f5f\", \"gridcolor\": \"white\", \"linecolor\": \"white\", \"minorgridcolor\": \"white\", \"startlinecolor\": \"#2a3f5f\"}, \"type\": \"carpet\"}], \"choropleth\": [{\"colorbar\": {\"outlinewidth\": 0, \"ticks\": \"\"}, \"type\": \"choropleth\"}], \"contour\": [{\"colorbar\": {\"outlinewidth\": 0, \"ticks\": \"\"}, \"colorscale\": [[0.0, \"#0d0887\"], [0.1111111111111111, \"#46039f\"], [0.2222222222222222, \"#7201a8\"], [0.3333333333333333, \"#9c179e\"], [0.4444444444444444, \"#bd3786\"], [0.5555555555555556, \"#d8576b\"], [0.6666666666666666, \"#ed7953\"], [0.7777777777777778, \"#fb9f3a\"], [0.8888888888888888, \"#fdca26\"], [1.0, \"#f0f921\"]], \"type\": \"contour\"}], \"contourcarpet\": [{\"colorbar\": {\"outlinewidth\": 0, \"ticks\": \"\"}, \"type\": \"contourcarpet\"}], \"heatmap\": [{\"colorbar\": {\"outlinewidth\": 0, \"ticks\": \"\"}, \"colorscale\": [[0.0, \"#0d0887\"], [0.1111111111111111, \"#46039f\"], [0.2222222222222222, \"#7201a8\"], [0.3333333333333333, \"#9c179e\"], [0.4444444444444444, \"#bd3786\"], [0.5555555555555556, \"#d8576b\"], [0.6666666666666666, \"#ed7953\"], [0.7777777777777778, \"#fb9f3a\"], [0.8888888888888888, \"#fdca26\"], [1.0, \"#f0f921\"]], \"type\": \"heatmap\"}], \"heatmapgl\": [{\"colorbar\": {\"outlinewidth\": 0, \"ticks\": \"\"}, \"colorscale\": [[0.0, \"#0d0887\"], [0.1111111111111111, \"#46039f\"], [0.2222222222222222, \"#7201a8\"], [0.3333333333333333, \"#9c179e\"], [0.4444444444444444, \"#bd3786\"], [0.5555555555555556, \"#d8576b\"], [0.6666666666666666, \"#ed7953\"], [0.7777777777777778, \"#fb9f3a\"], [0.8888888888888888, \"#fdca26\"], [1.0, \"#f0f921\"]], \"type\": \"heatmapgl\"}], \"histogram\": [{\"marker\": {\"colorbar\": {\"outlinewidth\": 0, \"ticks\": \"\"}}, \"type\": \"histogram\"}], \"histogram2d\": [{\"colorbar\": {\"outlinewidth\": 0, \"ticks\": \"\"}, \"colorscale\": [[0.0, \"#0d0887\"], [0.1111111111111111, \"#46039f\"], [0.2222222222222222, \"#7201a8\"], [0.3333333333333333, \"#9c179e\"], [0.4444444444444444, \"#bd3786\"], [0.5555555555555556, \"#d8576b\"], [0.6666666666666666, \"#ed7953\"], [0.7777777777777778, \"#fb9f3a\"], [0.8888888888888888, \"#fdca26\"], [1.0, \"#f0f921\"]], \"type\": \"histogram2d\"}], \"histogram2dcontour\": [{\"colorbar\": {\"outlinewidth\": 0, \"ticks\": \"\"}, \"colorscale\": [[0.0, \"#0d0887\"], [0.1111111111111111, \"#46039f\"], [0.2222222222222222, \"#7201a8\"], [0.3333333333333333, \"#9c179e\"], [0.4444444444444444, \"#bd3786\"], [0.5555555555555556, \"#d8576b\"], [0.6666666666666666, \"#ed7953\"], [0.7777777777777778, \"#fb9f3a\"], [0.8888888888888888, \"#fdca26\"], [1.0, \"#f0f921\"]], \"type\": \"histogram2dcontour\"}], \"mesh3d\": [{\"colorbar\": {\"outlinewidth\": 0, \"ticks\": \"\"}, \"type\": \"mesh3d\"}], \"parcoords\": [{\"line\": {\"colorbar\": {\"outlinewidth\": 0, \"ticks\": \"\"}}, \"type\": \"parcoords\"}], \"pie\": [{\"automargin\": true, \"type\": \"pie\"}], \"scatter\": [{\"marker\": {\"colorbar\": {\"outlinewidth\": 0, \"ticks\": \"\"}}, \"type\": \"scatter\"}], \"scatter3d\": [{\"line\": {\"colorbar\": {\"outlinewidth\": 0, \"ticks\": \"\"}}, \"marker\": {\"colorbar\": {\"outlinewidth\": 0, \"ticks\": \"\"}}, \"type\": \"scatter3d\"}], \"scattercarpet\": [{\"marker\": {\"colorbar\": {\"outlinewidth\": 0, \"ticks\": \"\"}}, \"type\": \"scattercarpet\"}], \"scattergeo\": [{\"marker\": {\"colorbar\": {\"outlinewidth\": 0, \"ticks\": \"\"}}, \"type\": \"scattergeo\"}], \"scattergl\": [{\"marker\": {\"colorbar\": {\"outlinewidth\": 0, \"ticks\": \"\"}}, \"type\": \"scattergl\"}], \"scattermapbox\": [{\"marker\": {\"colorbar\": {\"outlinewidth\": 0, \"ticks\": \"\"}}, \"type\": \"scattermapbox\"}], \"scatterpolar\": [{\"marker\": {\"colorbar\": {\"outlinewidth\": 0, \"ticks\": \"\"}}, \"type\": \"scatterpolar\"}], \"scatterpolargl\": [{\"marker\": {\"colorbar\": {\"outlinewidth\": 0, \"ticks\": \"\"}}, \"type\": \"scatterpolargl\"}], \"scatterternary\": [{\"marker\": {\"colorbar\": {\"outlinewidth\": 0, \"ticks\": \"\"}}, \"type\": \"scatterternary\"}], \"surface\": [{\"colorbar\": {\"outlinewidth\": 0, \"ticks\": \"\"}, \"colorscale\": [[0.0, \"#0d0887\"], [0.1111111111111111, \"#46039f\"], [0.2222222222222222, \"#7201a8\"], [0.3333333333333333, \"#9c179e\"], [0.4444444444444444, \"#bd3786\"], [0.5555555555555556, \"#d8576b\"], [0.6666666666666666, \"#ed7953\"], [0.7777777777777778, \"#fb9f3a\"], [0.8888888888888888, \"#fdca26\"], [1.0, \"#f0f921\"]], \"type\": \"surface\"}], \"table\": [{\"cells\": {\"fill\": {\"color\": \"#EBF0F8\"}, \"line\": {\"color\": \"white\"}}, \"header\": {\"fill\": {\"color\": \"#C8D4E3\"}, \"line\": {\"color\": \"white\"}}, \"type\": \"table\"}]}, \"layout\": {\"annotationdefaults\": {\"arrowcolor\": \"#2a3f5f\", \"arrowhead\": 0, \"arrowwidth\": 1}, \"autotypenumbers\": \"strict\", \"coloraxis\": {\"colorbar\": {\"outlinewidth\": 0, \"ticks\": \"\"}}, \"colorscale\": {\"diverging\": [[0, \"#8e0152\"], [0.1, \"#c51b7d\"], [0.2, \"#de77ae\"], [0.3, \"#f1b6da\"], [0.4, \"#fde0ef\"], [0.5, \"#f7f7f7\"], [0.6, \"#e6f5d0\"], [0.7, \"#b8e186\"], [0.8, \"#7fbc41\"], [0.9, \"#4d9221\"], [1, \"#276419\"]], \"sequential\": [[0.0, \"#0d0887\"], [0.1111111111111111, \"#46039f\"], [0.2222222222222222, \"#7201a8\"], [0.3333333333333333, \"#9c179e\"], [0.4444444444444444, \"#bd3786\"], [0.5555555555555556, \"#d8576b\"], [0.6666666666666666, \"#ed7953\"], [0.7777777777777778, \"#fb9f3a\"], [0.8888888888888888, \"#fdca26\"], [1.0, \"#f0f921\"]], \"sequentialminus\": [[0.0, \"#0d0887\"], [0.1111111111111111, \"#46039f\"], [0.2222222222222222, \"#7201a8\"], [0.3333333333333333, \"#9c179e\"], [0.4444444444444444, \"#bd3786\"], [0.5555555555555556, \"#d8576b\"], [0.6666666666666666, \"#ed7953\"], [0.7777777777777778, \"#fb9f3a\"], [0.8888888888888888, \"#fdca26\"], [1.0, \"#f0f921\"]]}, \"colorway\": [\"#636efa\", \"#EF553B\", \"#00cc96\", \"#ab63fa\", \"#FFA15A\", \"#19d3f3\", \"#FF6692\", \"#B6E880\", \"#FF97FF\", \"#FECB52\"], \"font\": {\"color\": \"#2a3f5f\"}, \"geo\": {\"bgcolor\": \"white\", \"lakecolor\": \"white\", \"landcolor\": \"#E5ECF6\", \"showlakes\": true, \"showland\": true, \"subunitcolor\": \"white\"}, \"hoverlabel\": {\"align\": \"left\"}, \"hovermode\": \"closest\", \"mapbox\": {\"style\": \"light\"}, \"paper_bgcolor\": \"white\", \"plot_bgcolor\": \"#E5ECF6\", \"polar\": {\"angularaxis\": {\"gridcolor\": \"white\", \"linecolor\": \"white\", \"ticks\": \"\"}, \"bgcolor\": \"#E5ECF6\", \"radialaxis\": {\"gridcolor\": \"white\", \"linecolor\": \"white\", \"ticks\": \"\"}}, \"scene\": {\"xaxis\": {\"backgroundcolor\": \"#E5ECF6\", \"gridcolor\": \"white\", \"gridwidth\": 2, \"linecolor\": \"white\", \"showbackground\": true, \"ticks\": \"\", \"zerolinecolor\": \"white\"}, \"yaxis\": {\"backgroundcolor\": \"#E5ECF6\", \"gridcolor\": \"white\", \"gridwidth\": 2, \"linecolor\": \"white\", \"showbackground\": true, \"ticks\": \"\", \"zerolinecolor\": \"white\"}, \"zaxis\": {\"backgroundcolor\": \"#E5ECF6\", \"gridcolor\": \"white\", \"gridwidth\": 2, \"linecolor\": \"white\", \"showbackground\": true, \"ticks\": \"\", \"zerolinecolor\": \"white\"}}, \"shapedefaults\": {\"line\": {\"color\": \"#2a3f5f\"}}, \"ternary\": {\"aaxis\": {\"gridcolor\": \"white\", \"linecolor\": \"white\", \"ticks\": \"\"}, \"baxis\": {\"gridcolor\": \"white\", \"linecolor\": \"white\", \"ticks\": \"\"}, \"bgcolor\": \"#E5ECF6\", \"caxis\": {\"gridcolor\": \"white\", \"linecolor\": \"white\", \"ticks\": \"\"}}, \"title\": {\"x\": 0.05}, \"xaxis\": {\"automargin\": true, \"gridcolor\": \"white\", \"linecolor\": \"white\", \"ticks\": \"\", \"title\": {\"standoff\": 15}, \"zerolinecolor\": \"white\", \"zerolinewidth\": 2}, \"yaxis\": {\"automargin\": true, \"gridcolor\": \"white\", \"linecolor\": \"white\", \"ticks\": \"\", \"title\": {\"standoff\": 15}, \"zerolinecolor\": \"white\", \"zerolinewidth\": 2}}}, \"xaxis\": {\"anchor\": \"y\", \"domain\": [0.0, 1.0], \"title\": {\"text\": \"Age\"}}, \"yaxis\": {\"anchor\": \"x\", \"domain\": [0.0, 1.0], \"title\": {\"text\": \"count\"}}},                        {\"responsive\": true}                    ).then(function(){\n",
       "                            \n",
       "var gd = document.getElementById('9e232037-054b-4b5f-90d3-ffdd5c04e901');\n",
       "var x = new MutationObserver(function (mutations, observer) {{\n",
       "        var display = window.getComputedStyle(gd).display;\n",
       "        if (!display || display === 'none') {{\n",
       "            console.log([gd, 'removed!']);\n",
       "            Plotly.purge(gd);\n",
       "            observer.disconnect();\n",
       "        }}\n",
       "}});\n",
       "\n",
       "// Listen for the removal of the full notebook cells\n",
       "var notebookContainer = gd.closest('#notebook-container');\n",
       "if (notebookContainer) {{\n",
       "    x.observe(notebookContainer, {childList: true});\n",
       "}}\n",
       "\n",
       "// Listen for the clearing of the current output cell\n",
       "var outputEl = gd.closest('.output');\n",
       "if (outputEl) {{\n",
       "    x.observe(outputEl, {childList: true});\n",
       "}}\n",
       "\n",
       "                        })                };                });            </script>        </div>"
      ]
     },
     "metadata": {},
     "output_type": "display_data"
    }
   ],
   "source": [
    "#Plot the histogram for Age to get the distribution of the age group\n",
    "#majority of the drug related death victims are aged 25-55 years\n",
    "fig = px.histogram(Drug_Deaths, x=\"Age\", nbins=40, color_discrete_sequence=['indianred'])\n",
    "fig.show()"
   ]
  },
  {
   "cell_type": "markdown",
   "metadata": {},
   "source": [
    "### EDA for Addiction_Treatment"
   ]
  },
  {
   "cell_type": "code",
   "execution_count": 221,
   "metadata": {},
   "outputs": [
    {
     "data": {
      "text/plain": [
       "(array([ 0,  1,  2,  3,  4,  5,  6,  7,  8,  9, 10, 11, 12, 13, 14, 15, 16,\n",
       "        17, 18, 19, 20]),\n",
       " [Text(0, 0, 'Alcohol'),\n",
       "  Text(1, 0, 'Crack'),\n",
       "  Text(2, 0, 'Heroin'),\n",
       "  Text(3, 0, 'Marijuana, Hashish, THC'),\n",
       "  Text(4, 0, 'Other Opiates and Synthetics'),\n",
       "  Text(5, 0, 'Benzodiazepines'),\n",
       "  Text(6, 0, 'Cocaine'),\n",
       "  Text(7, 0, 'Other'),\n",
       "  Text(8, 0, 'PCP'),\n",
       "  Text(9, 0, 'Barbiturates'),\n",
       "  Text(10, 0, 'Inhalants'),\n",
       "  Text(11, 0, 'Non-Prescriptive Methadone'),\n",
       "  Text(12, 0, 'Hallucinogens: LSD, DMS, STP, etc'),\n",
       "  Text(13, 0, 'Amphetamines'),\n",
       "  Text(14, 0, 'Methamphetamines'),\n",
       "  Text(15, 0, 'Over-the-Counter'),\n",
       "  Text(16, 0, 'Other Sedatives or Hypnotics'),\n",
       "  Text(17, 0, 'Other Stimulants'),\n",
       "  Text(18, 0, 'Tranquilizers'),\n",
       "  Text(19, 0, 'Tobacco'),\n",
       "  Text(20, 0, 'Cocaine/Crack')])"
      ]
     },
     "execution_count": 221,
     "metadata": {},
     "output_type": "execute_result"
    },
    {
     "data": {
      "image/png": "[encoded data removed]",
      "text/plain": [
       "<Figure size 842.4x595.44 with 1 Axes>"
      ]
     },
     "metadata": {},
     "output_type": "display_data"
    }
   ],
   "source": [
    "#countplot for the number of people admitted due to different drug use\n",
    "sns.set(rc={'figure.figsize':(11.7,8.27)})\n",
    "g=sns.countplot(x=\"PrimaryDrug\",data=Addiction_Treatment)\n",
    "plt.xticks(rotation=90)"
   ]
  },
  {
   "cell_type": "code",
   "execution_count": null,
   "metadata": {},
   "outputs": [],
   "source": []
  },
  {
   "cell_type": "code",
   "execution_count": null,
   "metadata": {},
   "outputs": [],
   "source": []
  },
  {
   "cell_type": "code",
   "execution_count": null,
   "metadata": {},
   "outputs": [],
   "source": []
  },
  {
   "attachments": {},
   "cell_type": "markdown",
   "metadata": {},
   "source": [
    "### Hypothesis 2\n",
    "Hypothesis 2: People are more likely to die due to accidental death because of Ethanol consumption than drug use due to the consumption of Morphine_NotHeroin."
   ]
  },
  {
   "cell_type": "code",
   "execution_count": null,
   "metadata": {},
   "outputs": [],
   "source": [
    "##Data cleaning"
   ]
  },
  {
   "cell_type": "code",
   "execution_count": 235,
   "metadata": {},
   "outputs": [
    {
     "data": {
      "text/plain": [
       "(2202, 42)"
      ]
     },
     "execution_count": 235,
     "metadata": {},
     "output_type": "execute_result"
    }
   ],
   "source": [
    "Drug_Deaths_Clean.shape"
   ]
  },
  {
   "cell_type": "code",
   "execution_count": 236,
   "metadata": {},
   "outputs": [
    {
     "name": "stderr",
     "output_type": "stream",
     "text": [
      "/Users/gayatrikvr/opt/anaconda3/lib/python3.8/site-packages/pandas/core/indexing.py:1765: SettingWithCopyWarning:\n",
      "\n",
      "\n",
      "A value is trying to be set on a copy of a slice from a DataFrame.\n",
      "Try using .loc[row_indexer,col_indexer] = value instead\n",
      "\n",
      "See the caveats in the documentation: https://pandas.pydata.org/pandas-docs/stable/user_guide/indexing.html#returning-a-view-versus-a-copy\n",
      "\n"
     ]
    }
   ],
   "source": [
    "Drug_Deaths_Clean.loc[Drug_Deaths_Clean.MannerofDeath==\"accident\", \"MannerofDeath\"]=\"Accident\"\n",
    "Drug_Deaths_Clean.loc[Drug_Deaths_Clean.MannerofDeath==\"ACCIDENT\", \"MannerofDeath\"]=\"Accident\""
   ]
  },
  {
   "cell_type": "code",
   "execution_count": 237,
   "metadata": {},
   "outputs": [
    {
     "data": {
      "text/plain": [
       "ID                        0\n",
       "Date                      0\n",
       "DateType                  0\n",
       "Age                       2\n",
       "Sex                       2\n",
       "Race                      8\n",
       "ResidenceCity            75\n",
       "ResidenceCounty         630\n",
       "ResidenceState          614\n",
       "DeathCity                 2\n",
       "DeathCounty            1075\n",
       "Location                 15\n",
       "LocationifOther        1985\n",
       "DescriptionofInjury     755\n",
       "InjuryPlace              43\n",
       "InjuryCity              855\n",
       "InjuryCounty           1811\n",
       "InjuryState            1798\n",
       "COD                       0\n",
       "OtherSignifican        2143\n",
       "Heroin                  967\n",
       "Cocaine                1626\n",
       "Fentanyl               1457\n",
       "FentanylAnalogue       2202\n",
       "Oxycodone              1896\n",
       "Oxymorphone            2160\n",
       "Ethanol                1645\n",
       "Hydrocodone            2147\n",
       "Benzodiazepine         1582\n",
       "Methadone              1995\n",
       "Amphet                 2150\n",
       "Tramad                 2154\n",
       "Morphine_NotHeroin     2174\n",
       "Hydromorphone          2202\n",
       "Other                  1989\n",
       "OpiateNOS              2140\n",
       "AnyOpioid               684\n",
       "MannerofDeath             4\n",
       "DeathCityGeo              0\n",
       "ResidenceCityGeo         43\n",
       "InjuryCityGeo            51\n",
       "FiscalYear                0\n",
       "dtype: int64"
      ]
     },
     "execution_count": 237,
     "metadata": {},
     "output_type": "execute_result"
    }
   ],
   "source": [
    "Drug_Deaths_Clean.isnull().sum()"
   ]
  },
  {
   "cell_type": "code",
   "execution_count": 238,
   "metadata": {},
   "outputs": [
    {
     "data": {
      "text/html": [
       "<div>\n",
       "<style scoped>\n",
       "    .dataframe tbody tr th:only-of-type {\n",
       "        vertical-align: middle;\n",
       "    }\n",
       "\n",
       "    .dataframe tbody tr th {\n",
       "        vertical-align: top;\n",
       "    }\n",
       "\n",
       "    .dataframe thead th {\n",
       "        text-align: right;\n",
       "    }\n",
       "</style>\n",
       "<table border=\"1\" class=\"dataframe\">\n",
       "  <thead>\n",
       "    <tr style=\"text-align: right;\">\n",
       "      <th></th>\n",
       "      <th>ID</th>\n",
       "      <th>Date</th>\n",
       "      <th>DateType</th>\n",
       "      <th>Age</th>\n",
       "      <th>Sex</th>\n",
       "      <th>Race</th>\n",
       "      <th>ResidenceCity</th>\n",
       "      <th>ResidenceCounty</th>\n",
       "      <th>ResidenceState</th>\n",
       "      <th>DeathCity</th>\n",
       "      <th>...</th>\n",
       "      <th>Morphine_NotHeroin</th>\n",
       "      <th>Hydromorphone</th>\n",
       "      <th>Other</th>\n",
       "      <th>OpiateNOS</th>\n",
       "      <th>AnyOpioid</th>\n",
       "      <th>MannerofDeath</th>\n",
       "      <th>DeathCityGeo</th>\n",
       "      <th>ResidenceCityGeo</th>\n",
       "      <th>InjuryCityGeo</th>\n",
       "      <th>FiscalYear</th>\n",
       "    </tr>\n",
       "  </thead>\n",
       "  <tbody>\n",
       "    <tr>\n",
       "      <th>0</th>\n",
       "      <td>14-0273</td>\n",
       "      <td>06/28/2014 12:00:00 AM</td>\n",
       "      <td>DateReported</td>\n",
       "      <td>NaN</td>\n",
       "      <td>NaN</td>\n",
       "      <td>NaN</td>\n",
       "      <td>NaN</td>\n",
       "      <td>NaN</td>\n",
       "      <td>NaN</td>\n",
       "      <td>NaN</td>\n",
       "      <td>...</td>\n",
       "      <td>NaN</td>\n",
       "      <td>NaN</td>\n",
       "      <td>NaN</td>\n",
       "      <td>NaN</td>\n",
       "      <td>NaN</td>\n",
       "      <td>Accident</td>\n",
       "      <td>CT\\n(41.575155, -72.738288)</td>\n",
       "      <td>CT\\n(41.575155, -72.738288)</td>\n",
       "      <td>CT\\n(41.575155, -72.738288)</td>\n",
       "      <td>2014</td>\n",
       "    </tr>\n",
       "    <tr>\n",
       "      <th>2</th>\n",
       "      <td>16-0165</td>\n",
       "      <td>03/13/2016 12:00:00 AM</td>\n",
       "      <td>DateofDeath</td>\n",
       "      <td>30.0</td>\n",
       "      <td>Female</td>\n",
       "      <td>White</td>\n",
       "      <td>SANDY HOOK</td>\n",
       "      <td>FAIRFIELD</td>\n",
       "      <td>CT</td>\n",
       "      <td>DANBURY</td>\n",
       "      <td>...</td>\n",
       "      <td>NaN</td>\n",
       "      <td>NaN</td>\n",
       "      <td>NaN</td>\n",
       "      <td>NaN</td>\n",
       "      <td>Y</td>\n",
       "      <td>Accident</td>\n",
       "      <td>Danbury, CT\\n(41.393666, -73.451539)</td>\n",
       "      <td>SANDY HOOK, CT\\n(41.419998, -73.282501)</td>\n",
       "      <td>NaN</td>\n",
       "      <td>2016</td>\n",
       "    </tr>\n",
       "    <tr>\n",
       "      <th>3</th>\n",
       "      <td>16-0208</td>\n",
       "      <td>03/31/2016 12:00:00 AM</td>\n",
       "      <td>DateofDeath</td>\n",
       "      <td>23.0</td>\n",
       "      <td>Male</td>\n",
       "      <td>White</td>\n",
       "      <td>RYE</td>\n",
       "      <td>WESTCHESTER</td>\n",
       "      <td>NY</td>\n",
       "      <td>GREENWICH</td>\n",
       "      <td>...</td>\n",
       "      <td>NaN</td>\n",
       "      <td>NaN</td>\n",
       "      <td>NaN</td>\n",
       "      <td>NaN</td>\n",
       "      <td>Y</td>\n",
       "      <td>Accident</td>\n",
       "      <td>Greenwich, CT\\n(41.026526, -73.628549)</td>\n",
       "      <td>NaN</td>\n",
       "      <td>NaN</td>\n",
       "      <td>2016</td>\n",
       "    </tr>\n",
       "    <tr>\n",
       "      <th>5</th>\n",
       "      <td>14-0277</td>\n",
       "      <td>06/29/2014 12:00:00 AM</td>\n",
       "      <td>DateofDeath</td>\n",
       "      <td>23.0</td>\n",
       "      <td>Male</td>\n",
       "      <td>White</td>\n",
       "      <td>BRISTOL</td>\n",
       "      <td>NaN</td>\n",
       "      <td>NaN</td>\n",
       "      <td>BRISTOL</td>\n",
       "      <td>...</td>\n",
       "      <td>NaN</td>\n",
       "      <td>NaN</td>\n",
       "      <td>NaN</td>\n",
       "      <td>NaN</td>\n",
       "      <td>NaN</td>\n",
       "      <td>Accident</td>\n",
       "      <td>BRISTOL, CT\\n(41.673037, -72.945791)</td>\n",
       "      <td>BRISTOL, CT\\n(41.673037, -72.945791)</td>\n",
       "      <td>CT\\n(41.575155, -72.738288)</td>\n",
       "      <td>2014</td>\n",
       "    </tr>\n",
       "    <tr>\n",
       "      <th>11</th>\n",
       "      <td>15-0334</td>\n",
       "      <td>07/05/2015 12:00:00 AM</td>\n",
       "      <td>DateReported</td>\n",
       "      <td>49.0</td>\n",
       "      <td>Female</td>\n",
       "      <td>White</td>\n",
       "      <td>NaN</td>\n",
       "      <td>NaN</td>\n",
       "      <td>NaN</td>\n",
       "      <td>NEW HAVEN</td>\n",
       "      <td>...</td>\n",
       "      <td>NaN</td>\n",
       "      <td>NaN</td>\n",
       "      <td>NaN</td>\n",
       "      <td>NaN</td>\n",
       "      <td>Y</td>\n",
       "      <td>Accident</td>\n",
       "      <td>New Haven, CT\\n(41.308252, -72.924161)</td>\n",
       "      <td>CT\\n(41.575155, -72.738288)</td>\n",
       "      <td>CT\\n(41.575155, -72.738288)</td>\n",
       "      <td>2015</td>\n",
       "    </tr>\n",
       "    <tr>\n",
       "      <th>...</th>\n",
       "      <td>...</td>\n",
       "      <td>...</td>\n",
       "      <td>...</td>\n",
       "      <td>...</td>\n",
       "      <td>...</td>\n",
       "      <td>...</td>\n",
       "      <td>...</td>\n",
       "      <td>...</td>\n",
       "      <td>...</td>\n",
       "      <td>...</td>\n",
       "      <td>...</td>\n",
       "      <td>...</td>\n",
       "      <td>...</td>\n",
       "      <td>...</td>\n",
       "      <td>...</td>\n",
       "      <td>...</td>\n",
       "      <td>...</td>\n",
       "      <td>...</td>\n",
       "      <td>...</td>\n",
       "      <td>...</td>\n",
       "      <td>...</td>\n",
       "    </tr>\n",
       "    <tr>\n",
       "      <th>5098</th>\n",
       "      <td>14-0166</td>\n",
       "      <td>04/17/2014 12:00:00 AM</td>\n",
       "      <td>DateofDeath</td>\n",
       "      <td>56.0</td>\n",
       "      <td>Male</td>\n",
       "      <td>White</td>\n",
       "      <td>PLYMOUTH</td>\n",
       "      <td>NaN</td>\n",
       "      <td>NaN</td>\n",
       "      <td>PLYMOUTH</td>\n",
       "      <td>...</td>\n",
       "      <td>NaN</td>\n",
       "      <td>NaN</td>\n",
       "      <td>NaN</td>\n",
       "      <td>NaN</td>\n",
       "      <td>NaN</td>\n",
       "      <td>Accident</td>\n",
       "      <td>PLYMOUTH, CT\\n(41.671982, -73.052909)</td>\n",
       "      <td>PLYMOUTH, CT\\n(41.671982, -73.052909)</td>\n",
       "      <td>CT\\n(41.575155, -72.738288)</td>\n",
       "      <td>2014</td>\n",
       "    </tr>\n",
       "    <tr>\n",
       "      <th>5099</th>\n",
       "      <td>15-0013</td>\n",
       "      <td>01/07/2015 12:00:00 AM</td>\n",
       "      <td>DateReported</td>\n",
       "      <td>45.0</td>\n",
       "      <td>Female</td>\n",
       "      <td>White</td>\n",
       "      <td>WATERBURY</td>\n",
       "      <td>NEW HAVEN</td>\n",
       "      <td>CT</td>\n",
       "      <td>WATERBURY</td>\n",
       "      <td>...</td>\n",
       "      <td>NaN</td>\n",
       "      <td>NaN</td>\n",
       "      <td>NaN</td>\n",
       "      <td>NaN</td>\n",
       "      <td>Y</td>\n",
       "      <td>Accident</td>\n",
       "      <td>WATERBURY, CT\\n(41.554261, -73.043069)</td>\n",
       "      <td>WATERBURY, CT\\n(41.554261, -73.043069)</td>\n",
       "      <td>CT\\n(41.575155, -72.738288)</td>\n",
       "      <td>2015</td>\n",
       "    </tr>\n",
       "    <tr>\n",
       "      <th>5100</th>\n",
       "      <td>15-0466</td>\n",
       "      <td>09/08/2015 12:00:00 AM</td>\n",
       "      <td>DateReported</td>\n",
       "      <td>43.0</td>\n",
       "      <td>Male</td>\n",
       "      <td>White</td>\n",
       "      <td>CHESHIRE</td>\n",
       "      <td>NEW HAVEN</td>\n",
       "      <td>CT</td>\n",
       "      <td>CHESHIRE</td>\n",
       "      <td>...</td>\n",
       "      <td>NaN</td>\n",
       "      <td>NaN</td>\n",
       "      <td>NaN</td>\n",
       "      <td>NaN</td>\n",
       "      <td>NaN</td>\n",
       "      <td>Accident</td>\n",
       "      <td>CHESHIRE, CT\\n(41.498834, -72.901448)</td>\n",
       "      <td>CHESHIRE, CT\\n(41.498834, -72.901448)</td>\n",
       "      <td>CT\\n(41.575155, -72.738288)</td>\n",
       "      <td>2015</td>\n",
       "    </tr>\n",
       "    <tr>\n",
       "      <th>5103</th>\n",
       "      <td>14-0124</td>\n",
       "      <td>03/16/2014 12:00:00 AM</td>\n",
       "      <td>DateofDeath</td>\n",
       "      <td>33.0</td>\n",
       "      <td>Male</td>\n",
       "      <td>White</td>\n",
       "      <td>HARTFORD</td>\n",
       "      <td>NaN</td>\n",
       "      <td>NaN</td>\n",
       "      <td>WINDSOR</td>\n",
       "      <td>...</td>\n",
       "      <td>NaN</td>\n",
       "      <td>NaN</td>\n",
       "      <td>NaN</td>\n",
       "      <td>NaN</td>\n",
       "      <td>NaN</td>\n",
       "      <td>Accident</td>\n",
       "      <td>WINDSOR, CT\\n(41.852781, -72.64379)</td>\n",
       "      <td>HARTFORD, CT\\n(41.765775, -72.673356)</td>\n",
       "      <td>CT\\n(41.575155, -72.738288)</td>\n",
       "      <td>2014</td>\n",
       "    </tr>\n",
       "    <tr>\n",
       "      <th>5104</th>\n",
       "      <td>16-0637</td>\n",
       "      <td>09/15/2016 12:00:00 AM</td>\n",
       "      <td>DateofDeath</td>\n",
       "      <td>33.0</td>\n",
       "      <td>Male</td>\n",
       "      <td>White</td>\n",
       "      <td>THOMASTON</td>\n",
       "      <td>LITCHFIELD</td>\n",
       "      <td>CT</td>\n",
       "      <td>WATERBURY</td>\n",
       "      <td>...</td>\n",
       "      <td>NaN</td>\n",
       "      <td>NaN</td>\n",
       "      <td>NaN</td>\n",
       "      <td>NaN</td>\n",
       "      <td>Y</td>\n",
       "      <td>Accident</td>\n",
       "      <td>WATERBURY, CT\\n(41.554261, -73.043069)</td>\n",
       "      <td>THOMASTON, CT\\n(41.674124, -73.073189)</td>\n",
       "      <td>WATERBURY, CT, CT\\n(41.554261, -73.043069)</td>\n",
       "      <td>2016</td>\n",
       "    </tr>\n",
       "  </tbody>\n",
       "</table>\n",
       "<p>2198 rows × 42 columns</p>\n",
       "</div>"
      ],
      "text/plain": [
       "           ID                    Date      DateType   Age     Sex   Race  \\\n",
       "0     14-0273  06/28/2014 12:00:00 AM  DateReported   NaN     NaN    NaN   \n",
       "2     16-0165  03/13/2016 12:00:00 AM   DateofDeath  30.0  Female  White   \n",
       "3     16-0208  03/31/2016 12:00:00 AM   DateofDeath  23.0    Male  White   \n",
       "5     14-0277  06/29/2014 12:00:00 AM   DateofDeath  23.0    Male  White   \n",
       "11    15-0334  07/05/2015 12:00:00 AM  DateReported  49.0  Female  White   \n",
       "...       ...                     ...           ...   ...     ...    ...   \n",
       "5098  14-0166  04/17/2014 12:00:00 AM   DateofDeath  56.0    Male  White   \n",
       "5099  15-0013  01/07/2015 12:00:00 AM  DateReported  45.0  Female  White   \n",
       "5100  15-0466  09/08/2015 12:00:00 AM  DateReported  43.0    Male  White   \n",
       "5103  14-0124  03/16/2014 12:00:00 AM   DateofDeath  33.0    Male  White   \n",
       "5104  16-0637  09/15/2016 12:00:00 AM   DateofDeath  33.0    Male  White   \n",
       "\n",
       "     ResidenceCity ResidenceCounty ResidenceState  DeathCity  ...  \\\n",
       "0              NaN             NaN            NaN        NaN  ...   \n",
       "2       SANDY HOOK       FAIRFIELD             CT    DANBURY  ...   \n",
       "3              RYE     WESTCHESTER             NY  GREENWICH  ...   \n",
       "5          BRISTOL             NaN            NaN    BRISTOL  ...   \n",
       "11             NaN             NaN            NaN  NEW HAVEN  ...   \n",
       "...            ...             ...            ...        ...  ...   \n",
       "5098      PLYMOUTH             NaN            NaN   PLYMOUTH  ...   \n",
       "5099     WATERBURY       NEW HAVEN             CT  WATERBURY  ...   \n",
       "5100      CHESHIRE       NEW HAVEN             CT   CHESHIRE  ...   \n",
       "5103      HARTFORD             NaN            NaN    WINDSOR  ...   \n",
       "5104     THOMASTON      LITCHFIELD             CT  WATERBURY  ...   \n",
       "\n",
       "     Morphine_NotHeroin Hydromorphone Other OpiateNOS AnyOpioid MannerofDeath  \\\n",
       "0                   NaN           NaN   NaN       NaN       NaN      Accident   \n",
       "2                   NaN           NaN   NaN       NaN         Y      Accident   \n",
       "3                   NaN           NaN   NaN       NaN         Y      Accident   \n",
       "5                   NaN           NaN   NaN       NaN       NaN      Accident   \n",
       "11                  NaN           NaN   NaN       NaN         Y      Accident   \n",
       "...                 ...           ...   ...       ...       ...           ...   \n",
       "5098                NaN           NaN   NaN       NaN       NaN      Accident   \n",
       "5099                NaN           NaN   NaN       NaN         Y      Accident   \n",
       "5100                NaN           NaN   NaN       NaN       NaN      Accident   \n",
       "5103                NaN           NaN   NaN       NaN       NaN      Accident   \n",
       "5104                NaN           NaN   NaN       NaN         Y      Accident   \n",
       "\n",
       "                                DeathCityGeo  \\\n",
       "0                CT\\n(41.575155, -72.738288)   \n",
       "2       Danbury, CT\\n(41.393666, -73.451539)   \n",
       "3     Greenwich, CT\\n(41.026526, -73.628549)   \n",
       "5       BRISTOL, CT\\n(41.673037, -72.945791)   \n",
       "11    New Haven, CT\\n(41.308252, -72.924161)   \n",
       "...                                      ...   \n",
       "5098   PLYMOUTH, CT\\n(41.671982, -73.052909)   \n",
       "5099  WATERBURY, CT\\n(41.554261, -73.043069)   \n",
       "5100   CHESHIRE, CT\\n(41.498834, -72.901448)   \n",
       "5103     WINDSOR, CT\\n(41.852781, -72.64379)   \n",
       "5104  WATERBURY, CT\\n(41.554261, -73.043069)   \n",
       "\n",
       "                             ResidenceCityGeo  \\\n",
       "0                 CT\\n(41.575155, -72.738288)   \n",
       "2     SANDY HOOK, CT\\n(41.419998, -73.282501)   \n",
       "3                                         NaN   \n",
       "5        BRISTOL, CT\\n(41.673037, -72.945791)   \n",
       "11                CT\\n(41.575155, -72.738288)   \n",
       "...                                       ...   \n",
       "5098    PLYMOUTH, CT\\n(41.671982, -73.052909)   \n",
       "5099   WATERBURY, CT\\n(41.554261, -73.043069)   \n",
       "5100    CHESHIRE, CT\\n(41.498834, -72.901448)   \n",
       "5103    HARTFORD, CT\\n(41.765775, -72.673356)   \n",
       "5104   THOMASTON, CT\\n(41.674124, -73.073189)   \n",
       "\n",
       "                                   InjuryCityGeo FiscalYear  \n",
       "0                    CT\\n(41.575155, -72.738288)       2014  \n",
       "2                                            NaN       2016  \n",
       "3                                            NaN       2016  \n",
       "5                    CT\\n(41.575155, -72.738288)       2014  \n",
       "11                   CT\\n(41.575155, -72.738288)       2015  \n",
       "...                                          ...        ...  \n",
       "5098                 CT\\n(41.575155, -72.738288)       2014  \n",
       "5099                 CT\\n(41.575155, -72.738288)       2015  \n",
       "5100                 CT\\n(41.575155, -72.738288)       2015  \n",
       "5103                 CT\\n(41.575155, -72.738288)       2014  \n",
       "5104  WATERBURY, CT, CT\\n(41.554261, -73.043069)       2016  \n",
       "\n",
       "[2198 rows x 42 columns]"
      ]
     },
     "execution_count": 238,
     "metadata": {},
     "output_type": "execute_result"
    }
   ],
   "source": [
    "#Since the column \"MannerofDeath\" contains only 4 missing rows; which is insignificant as compared to the size of the dataset, we can drop the 4 rows\n",
    "Drug_Deaths_Clean.dropna(subset=[\"MannerofDeath\"])"
   ]
  },
  {
   "cell_type": "code",
   "execution_count": 239,
   "metadata": {},
   "outputs": [],
   "source": [
    "Drugs_Grouped=Drug_Deaths_Clean.groupby([\"MannerofDeath\",\"Sex\",\"FiscalYear\"]).agg({\"Morphine_NotHeroin\":\"count\",\"Ethanol\":\"count\"})"
   ]
  },
  {
   "cell_type": "code",
   "execution_count": 240,
   "metadata": {},
   "outputs": [],
   "source": [
    "Drugs_Grouped.reset_index(inplace=True)"
   ]
  },
  {
   "cell_type": "code",
   "execution_count": 241,
   "metadata": {},
   "outputs": [],
   "source": [
    "Drugs_Grouped.drop([6,7],inplace=True)"
   ]
  },
  {
   "cell_type": "code",
   "execution_count": 242,
   "metadata": {},
   "outputs": [
    {
     "data": {
      "text/html": [
       "<div>\n",
       "<style scoped>\n",
       "    .dataframe tbody tr th:only-of-type {\n",
       "        vertical-align: middle;\n",
       "    }\n",
       "\n",
       "    .dataframe tbody tr th {\n",
       "        vertical-align: top;\n",
       "    }\n",
       "\n",
       "    .dataframe thead th {\n",
       "        text-align: right;\n",
       "    }\n",
       "</style>\n",
       "<table border=\"1\" class=\"dataframe\">\n",
       "  <thead>\n",
       "    <tr style=\"text-align: right;\">\n",
       "      <th></th>\n",
       "      <th>MannerofDeath</th>\n",
       "      <th>Sex</th>\n",
       "      <th>FiscalYear</th>\n",
       "      <th>Morphine_NotHeroin</th>\n",
       "      <th>Ethanol</th>\n",
       "    </tr>\n",
       "  </thead>\n",
       "  <tbody>\n",
       "    <tr>\n",
       "      <th>0</th>\n",
       "      <td>Accident</td>\n",
       "      <td>Female</td>\n",
       "      <td>2014</td>\n",
       "      <td>0</td>\n",
       "      <td>29</td>\n",
       "    </tr>\n",
       "    <tr>\n",
       "      <th>1</th>\n",
       "      <td>Accident</td>\n",
       "      <td>Female</td>\n",
       "      <td>2015</td>\n",
       "      <td>5</td>\n",
       "      <td>35</td>\n",
       "    </tr>\n",
       "    <tr>\n",
       "      <th>2</th>\n",
       "      <td>Accident</td>\n",
       "      <td>Female</td>\n",
       "      <td>2016</td>\n",
       "      <td>7</td>\n",
       "      <td>54</td>\n",
       "    </tr>\n",
       "    <tr>\n",
       "      <th>3</th>\n",
       "      <td>Accident</td>\n",
       "      <td>Male</td>\n",
       "      <td>2014</td>\n",
       "      <td>0</td>\n",
       "      <td>97</td>\n",
       "    </tr>\n",
       "    <tr>\n",
       "      <th>4</th>\n",
       "      <td>Accident</td>\n",
       "      <td>Male</td>\n",
       "      <td>2015</td>\n",
       "      <td>7</td>\n",
       "      <td>139</td>\n",
       "    </tr>\n",
       "    <tr>\n",
       "      <th>5</th>\n",
       "      <td>Accident</td>\n",
       "      <td>Male</td>\n",
       "      <td>2016</td>\n",
       "      <td>9</td>\n",
       "      <td>201</td>\n",
       "    </tr>\n",
       "  </tbody>\n",
       "</table>\n",
       "</div>"
      ],
      "text/plain": [
       "  MannerofDeath     Sex  FiscalYear  Morphine_NotHeroin  Ethanol\n",
       "0      Accident  Female        2014                   0       29\n",
       "1      Accident  Female        2015                   5       35\n",
       "2      Accident  Female        2016                   7       54\n",
       "3      Accident    Male        2014                   0       97\n",
       "4      Accident    Male        2015                   7      139\n",
       "5      Accident    Male        2016                   9      201"
      ]
     },
     "execution_count": 242,
     "metadata": {},
     "output_type": "execute_result"
    }
   ],
   "source": [
    "Drugs_Grouped"
   ]
  },
  {
   "cell_type": "code",
   "execution_count": 243,
   "metadata": {},
   "outputs": [],
   "source": [
    "Drugs_Grouped[\"FiscalYear\"]=Drugs_Grouped[\"FiscalYear\"].astype(str)"
   ]
  },
  {
   "cell_type": "code",
   "execution_count": 189,
   "metadata": {},
   "outputs": [
    {
     "data": {
      "application/vnd.plotly.v1+json": {
       "config": {
        "plotlyServerURL": "https://plot.ly"
       },
       "data": [
        {
         "alignmentgroup": "True",
         "hovertemplate": "Sex=Female<br>FiscalYear=%{x}<br>Morphine_NotHeroin=%{y}<br>Ethanol=%{marker.color}<extra></extra>",
         "legendgroup": "",
         "marker": {
          "color": [
           29,
           35,
           54
          ],
          "coloraxis": "coloraxis"
         },
         "name": "",
         "offsetgroup": "",
         "orientation": "v",
         "showlegend": false,
         "textposition": "auto",
         "type": "bar",
         "x": [
          "2014",
          "2015",
          "2016"
         ],
         "xaxis": "x",
         "y": [
          0,
          5,
          7
         ],
         "yaxis": "y"
        },
        {
         "alignmentgroup": "True",
         "hovertemplate": "Sex=Male<br>FiscalYear=%{x}<br>Morphine_NotHeroin=%{y}<br>Ethanol=%{marker.color}<extra></extra>",
         "legendgroup": "",
         "marker": {
          "color": [
           97,
           139,
           201
          ],
          "coloraxis": "coloraxis"
         },
         "name": "",
         "offsetgroup": "",
         "orientation": "v",
         "showlegend": false,
         "textposition": "auto",
         "type": "bar",
         "x": [
          "2014",
          "2015",
          "2016"
         ],
         "xaxis": "x2",
         "y": [
          0,
          7,
          9
         ],
         "yaxis": "y2"
        }
       ],
       "layout": {
        "annotations": [
         {
          "font": {},
          "showarrow": false,
          "text": "Sex=Female",
          "x": 0.245,
          "xanchor": "center",
          "xref": "paper",
          "y": 1,
          "yanchor": "bottom",
          "yref": "paper"
         },
         {
          "font": {},
          "showarrow": false,
          "text": "Sex=Male",
          "x": 0.755,
          "xanchor": "center",
          "xref": "paper",
          "y": 1,
          "yanchor": "bottom",
          "yref": "paper"
         }
        ],
        "barmode": "relative",
        "coloraxis": {
         "colorbar": {
          "title": {
           "text": "Ethanol"
          }
         },
         "colorscale": [
          [
           0,
           "#0d0887"
          ],
          [
           0.1111111111111111,
           "#46039f"
          ],
          [
           0.2222222222222222,
           "#7201a8"
          ],
          [
           0.3333333333333333,
           "#9c179e"
          ],
          [
           0.4444444444444444,
           "#bd3786"
          ],
          [
           0.5555555555555556,
           "#d8576b"
          ],
          [
           0.6666666666666666,
           "#ed7953"
          ],
          [
           0.7777777777777778,
           "#fb9f3a"
          ],
          [
           0.8888888888888888,
           "#fdca26"
          ],
          [
           1,
           "#f0f921"
          ]
         ]
        },
        "legend": {
         "tracegroupgap": 0
        },
        "margin": {
         "t": 60
        },
        "template": {
         "data": {
          "bar": [
           {
            "error_x": {
             "color": "#2a3f5f"
            },
            "error_y": {
             "color": "#2a3f5f"
            },
            "marker": {
             "line": {
              "color": "#E5ECF6",
              "width": 0.5
             }
            },
            "type": "bar"
           }
          ],
          "barpolar": [
           {
            "marker": {
             "line": {
              "color": "#E5ECF6",
              "width": 0.5
             }
            },
            "type": "barpolar"
           }
          ],
          "carpet": [
           {
            "aaxis": {
             "endlinecolor": "#2a3f5f",
             "gridcolor": "white",
             "linecolor": "white",
             "minorgridcolor": "white",
             "startlinecolor": "#2a3f5f"
            },
            "baxis": {
             "endlinecolor": "#2a3f5f",
             "gridcolor": "white",
             "linecolor": "white",
             "minorgridcolor": "white",
             "startlinecolor": "#2a3f5f"
            },
            "type": "carpet"
           }
          ],
          "choropleth": [
           {
            "colorbar": {
             "outlinewidth": 0,
             "ticks": ""
            },
            "type": "choropleth"
           }
          ],
          "contour": [
           {
            "colorbar": {
             "outlinewidth": 0,
             "ticks": ""
            },
            "colorscale": [
             [
              0,
              "#0d0887"
             ],
             [
              0.1111111111111111,
              "#46039f"
             ],
             [
              0.2222222222222222,
              "#7201a8"
             ],
             [
              0.3333333333333333,
              "#9c179e"
             ],
             [
              0.4444444444444444,
              "#bd3786"
             ],
             [
              0.5555555555555556,
              "#d8576b"
             ],
             [
              0.6666666666666666,
              "#ed7953"
             ],
             [
              0.7777777777777778,
              "#fb9f3a"
             ],
             [
              0.8888888888888888,
              "#fdca26"
             ],
             [
              1,
              "#f0f921"
             ]
            ],
            "type": "contour"
           }
          ],
          "contourcarpet": [
           {
            "colorbar": {
             "outlinewidth": 0,
             "ticks": ""
            },
            "type": "contourcarpet"
           }
          ],
          "heatmap": [
           {
            "colorbar": {
             "outlinewidth": 0,
             "ticks": ""
            },
            "colorscale": [
             [
              0,
              "#0d0887"
             ],
             [
              0.1111111111111111,
              "#46039f"
             ],
             [
              0.2222222222222222,
              "#7201a8"
             ],
             [
              0.3333333333333333,
              "#9c179e"
             ],
             [
              0.4444444444444444,
              "#bd3786"
             ],
             [
              0.5555555555555556,
              "#d8576b"
             ],
             [
              0.6666666666666666,
              "#ed7953"
             ],
             [
              0.7777777777777778,
              "#fb9f3a"
             ],
             [
              0.8888888888888888,
              "#fdca26"
             ],
             [
              1,
              "#f0f921"
             ]
            ],
            "type": "heatmap"
           }
          ],
          "heatmapgl": [
           {
            "colorbar": {
             "outlinewidth": 0,
             "ticks": ""
            },
            "colorscale": [
             [
              0,
              "#0d0887"
             ],
             [
              0.1111111111111111,
              "#46039f"
             ],
             [
              0.2222222222222222,
              "#7201a8"
             ],
             [
              0.3333333333333333,
              "#9c179e"
             ],
             [
              0.4444444444444444,
              "#bd3786"
             ],
             [
              0.5555555555555556,
              "#d8576b"
             ],
             [
              0.6666666666666666,
              "#ed7953"
             ],
             [
              0.7777777777777778,
              "#fb9f3a"
             ],
             [
              0.8888888888888888,
              "#fdca26"
             ],
             [
              1,
              "#f0f921"
             ]
            ],
            "type": "heatmapgl"
           }
          ],
          "histogram": [
           {
            "marker": {
             "colorbar": {
              "outlinewidth": 0,
              "ticks": ""
             }
            },
            "type": "histogram"
           }
          ],
          "histogram2d": [
           {
            "colorbar": {
             "outlinewidth": 0,
             "ticks": ""
            },
            "colorscale": [
             [
              0,
              "#0d0887"
             ],
             [
              0.1111111111111111,
              "#46039f"
             ],
             [
              0.2222222222222222,
              "#7201a8"
             ],
             [
              0.3333333333333333,
              "#9c179e"
             ],
             [
              0.4444444444444444,
              "#bd3786"
             ],
             [
              0.5555555555555556,
              "#d8576b"
             ],
             [
              0.6666666666666666,
              "#ed7953"
             ],
             [
              0.7777777777777778,
              "#fb9f3a"
             ],
             [
              0.8888888888888888,
              "#fdca26"
             ],
             [
              1,
              "#f0f921"
             ]
            ],
            "type": "histogram2d"
           }
          ],
          "histogram2dcontour": [
           {
            "colorbar": {
             "outlinewidth": 0,
             "ticks": ""
            },
            "colorscale": [
             [
              0,
              "#0d0887"
             ],
             [
              0.1111111111111111,
              "#46039f"
             ],
             [
              0.2222222222222222,
              "#7201a8"
             ],
             [
              0.3333333333333333,
              "#9c179e"
             ],
             [
              0.4444444444444444,
              "#bd3786"
             ],
             [
              0.5555555555555556,
              "#d8576b"
             ],
             [
              0.6666666666666666,
              "#ed7953"
             ],
             [
              0.7777777777777778,
              "#fb9f3a"
             ],
             [
              0.8888888888888888,
              "#fdca26"
             ],
             [
              1,
              "#f0f921"
             ]
            ],
            "type": "histogram2dcontour"
           }
          ],
          "mesh3d": [
           {
            "colorbar": {
             "outlinewidth": 0,
             "ticks": ""
            },
            "type": "mesh3d"
           }
          ],
          "parcoords": [
           {
            "line": {
             "colorbar": {
              "outlinewidth": 0,
              "ticks": ""
             }
            },
            "type": "parcoords"
           }
          ],
          "pie": [
           {
            "automargin": true,
            "type": "pie"
           }
          ],
          "scatter": [
           {
            "marker": {
             "colorbar": {
              "outlinewidth": 0,
              "ticks": ""
             }
            },
            "type": "scatter"
           }
          ],
          "scatter3d": [
           {
            "line": {
             "colorbar": {
              "outlinewidth": 0,
              "ticks": ""
             }
            },
            "marker": {
             "colorbar": {
              "outlinewidth": 0,
              "ticks": ""
             }
            },
            "type": "scatter3d"
           }
          ],
          "scattercarpet": [
           {
            "marker": {
             "colorbar": {
              "outlinewidth": 0,
              "ticks": ""
             }
            },
            "type": "scattercarpet"
           }
          ],
          "scattergeo": [
           {
            "marker": {
             "colorbar": {
              "outlinewidth": 0,
              "ticks": ""
             }
            },
            "type": "scattergeo"
           }
          ],
          "scattergl": [
           {
            "marker": {
             "colorbar": {
              "outlinewidth": 0,
              "ticks": ""
             }
            },
            "type": "scattergl"
           }
          ],
          "scattermapbox": [
           {
            "marker": {
             "colorbar": {
              "outlinewidth": 0,
              "ticks": ""
             }
            },
            "type": "scattermapbox"
           }
          ],
          "scatterpolar": [
           {
            "marker": {
             "colorbar": {
              "outlinewidth": 0,
              "ticks": ""
             }
            },
            "type": "scatterpolar"
           }
          ],
          "scatterpolargl": [
           {
            "marker": {
             "colorbar": {
              "outlinewidth": 0,
              "ticks": ""
             }
            },
            "type": "scatterpolargl"
           }
          ],
          "scatterternary": [
           {
            "marker": {
             "colorbar": {
              "outlinewidth": 0,
              "ticks": ""
             }
            },
            "type": "scatterternary"
           }
          ],
          "surface": [
           {
            "colorbar": {
             "outlinewidth": 0,
             "ticks": ""
            },
            "colorscale": [
             [
              0,
              "#0d0887"
             ],
             [
              0.1111111111111111,
              "#46039f"
             ],
             [
              0.2222222222222222,
              "#7201a8"
             ],
             [
              0.3333333333333333,
              "#9c179e"
             ],
             [
              0.4444444444444444,
              "#bd3786"
             ],
             [
              0.5555555555555556,
              "#d8576b"
             ],
             [
              0.6666666666666666,
              "#ed7953"
             ],
             [
              0.7777777777777778,
              "#fb9f3a"
             ],
             [
              0.8888888888888888,
              "#fdca26"
             ],
             [
              1,
              "#f0f921"
             ]
            ],
            "type": "surface"
           }
          ],
          "table": [
           {
            "cells": {
             "fill": {
              "color": "#EBF0F8"
             },
             "line": {
              "color": "white"
             }
            },
            "header": {
             "fill": {
              "color": "#C8D4E3"
             },
             "line": {
              "color": "white"
             }
            },
            "type": "table"
           }
          ]
         },
         "layout": {
          "annotationdefaults": {
           "arrowcolor": "#2a3f5f",
           "arrowhead": 0,
           "arrowwidth": 1
          },
          "autotypenumbers": "strict",
          "coloraxis": {
           "colorbar": {
            "outlinewidth": 0,
            "ticks": ""
           }
          },
          "colorscale": {
           "diverging": [
            [
             0,
             "#8e0152"
            ],
            [
             0.1,
             "#c51b7d"
            ],
            [
             0.2,
             "#de77ae"
            ],
            [
             0.3,
             "#f1b6da"
            ],
            [
             0.4,
             "#fde0ef"
            ],
            [
             0.5,
             "#f7f7f7"
            ],
            [
             0.6,
             "#e6f5d0"
            ],
            [
             0.7,
             "#b8e186"
            ],
            [
             0.8,
             "#7fbc41"
            ],
            [
             0.9,
             "#4d9221"
            ],
            [
             1,
             "#276419"
            ]
           ],
           "sequential": [
            [
             0,
             "#0d0887"
            ],
            [
             0.1111111111111111,
             "#46039f"
            ],
            [
             0.2222222222222222,
             "#7201a8"
            ],
            [
             0.3333333333333333,
             "#9c179e"
            ],
            [
             0.4444444444444444,
             "#bd3786"
            ],
            [
             0.5555555555555556,
             "#d8576b"
            ],
            [
             0.6666666666666666,
             "#ed7953"
            ],
            [
             0.7777777777777778,
             "#fb9f3a"
            ],
            [
             0.8888888888888888,
             "#fdca26"
            ],
            [
             1,
             "#f0f921"
            ]
           ],
           "sequentialminus": [
            [
             0,
             "#0d0887"
            ],
            [
             0.1111111111111111,
             "#46039f"
            ],
            [
             0.2222222222222222,
             "#7201a8"
            ],
            [
             0.3333333333333333,
             "#9c179e"
            ],
            [
             0.4444444444444444,
             "#bd3786"
            ],
            [
             0.5555555555555556,
             "#d8576b"
            ],
            [
             0.6666666666666666,
             "#ed7953"
            ],
            [
             0.7777777777777778,
             "#fb9f3a"
            ],
            [
             0.8888888888888888,
             "#fdca26"
            ],
            [
             1,
             "#f0f921"
            ]
           ]
          },
          "colorway": [
           "#636efa",
           "#EF553B",
           "#00cc96",
           "#ab63fa",
           "#FFA15A",
           "#19d3f3",
           "#FF6692",
           "#B6E880",
           "#FF97FF",
           "#FECB52"
          ],
          "font": {
           "color": "#2a3f5f"
          },
          "geo": {
           "bgcolor": "white",
           "lakecolor": "white",
           "landcolor": "#E5ECF6",
           "showlakes": true,
           "showland": true,
           "subunitcolor": "white"
          },
          "hoverlabel": {
           "align": "left"
          },
          "hovermode": "closest",
          "mapbox": {
           "style": "light"
          },
          "paper_bgcolor": "white",
          "plot_bgcolor": "#E5ECF6",
          "polar": {
           "angularaxis": {
            "gridcolor": "white",
            "linecolor": "white",
            "ticks": ""
           },
           "bgcolor": "#E5ECF6",
           "radialaxis": {
            "gridcolor": "white",
            "linecolor": "white",
            "ticks": ""
           }
          },
          "scene": {
           "xaxis": {
            "backgroundcolor": "#E5ECF6",
            "gridcolor": "white",
            "gridwidth": 2,
            "linecolor": "white",
            "showbackground": true,
            "ticks": "",
            "zerolinecolor": "white"
           },
           "yaxis": {
            "backgroundcolor": "#E5ECF6",
            "gridcolor": "white",
            "gridwidth": 2,
            "linecolor": "white",
            "showbackground": true,
            "ticks": "",
            "zerolinecolor": "white"
           },
           "zaxis": {
            "backgroundcolor": "#E5ECF6",
            "gridcolor": "white",
            "gridwidth": 2,
            "linecolor": "white",
            "showbackground": true,
            "ticks": "",
            "zerolinecolor": "white"
           }
          },
          "shapedefaults": {
           "line": {
            "color": "#2a3f5f"
           }
          },
          "ternary": {
           "aaxis": {
            "gridcolor": "white",
            "linecolor": "white",
            "ticks": ""
           },
           "baxis": {
            "gridcolor": "white",
            "linecolor": "white",
            "ticks": ""
           },
           "bgcolor": "#E5ECF6",
           "caxis": {
            "gridcolor": "white",
            "linecolor": "white",
            "ticks": ""
           }
          },
          "title": {
           "x": 0.05
          },
          "xaxis": {
           "automargin": true,
           "gridcolor": "white",
           "linecolor": "white",
           "ticks": "",
           "title": {
            "standoff": 15
           },
           "zerolinecolor": "white",
           "zerolinewidth": 2
          },
          "yaxis": {
           "automargin": true,
           "gridcolor": "white",
           "linecolor": "white",
           "ticks": "",
           "title": {
            "standoff": 15
           },
           "zerolinecolor": "white",
           "zerolinewidth": 2
          }
         }
        },
        "xaxis": {
         "anchor": "y",
         "domain": [
          0,
          0.49
         ],
         "title": {
          "text": "FiscalYear"
         }
        },
        "xaxis2": {
         "anchor": "y2",
         "domain": [
          0.51,
          1
         ],
         "matches": "x",
         "title": {
          "text": "FiscalYear"
         }
        },
        "yaxis": {
         "anchor": "x",
         "domain": [
          0,
          1
         ],
         "title": {
          "text": "Morphine_NotHeroin"
         }
        },
        "yaxis2": {
         "anchor": "x2",
         "domain": [
          0,
          1
         ],
         "matches": "y",
         "showticklabels": false
        }
       }
      },
      "text/html": [
       "<div>                            <div id=\"f12767c3-b1f8-46b4-af72-14ca282f7bfc\" class=\"plotly-graph-div\" style=\"height:525px; width:100%;\"></div>            <script type=\"text/javascript\">                require([\"plotly\"], function(Plotly) {                    window.PLOTLYENV=window.PLOTLYENV || {};                                    if (document.getElementById(\"f12767c3-b1f8-46b4-af72-14ca282f7bfc\")) {                    Plotly.newPlot(                        \"f12767c3-b1f8-46b4-af72-14ca282f7bfc\",                        [{\"alignmentgroup\": \"True\", \"hovertemplate\": \"Sex=Female<br>FiscalYear=%{x}<br>Morphine_NotHeroin=%{y}<br>Ethanol=%{marker.color}<extra></extra>\", \"legendgroup\": \"\", \"marker\": {\"color\": [29, 35, 54], \"coloraxis\": \"coloraxis\"}, \"name\": \"\", \"offsetgroup\": \"\", \"orientation\": \"v\", \"showlegend\": false, \"textposition\": \"auto\", \"type\": \"bar\", \"x\": [\"2014\", \"2015\", \"2016\"], \"xaxis\": \"x\", \"y\": [0, 5, 7], \"yaxis\": \"y\"}, {\"alignmentgroup\": \"True\", \"hovertemplate\": \"Sex=Male<br>FiscalYear=%{x}<br>Morphine_NotHeroin=%{y}<br>Ethanol=%{marker.color}<extra></extra>\", \"legendgroup\": \"\", \"marker\": {\"color\": [97, 139, 201], \"coloraxis\": \"coloraxis\"}, \"name\": \"\", \"offsetgroup\": \"\", \"orientation\": \"v\", \"showlegend\": false, \"textposition\": \"auto\", \"type\": \"bar\", \"x\": [\"2014\", \"2015\", \"2016\"], \"xaxis\": \"x2\", \"y\": [0, 7, 9], \"yaxis\": \"y2\"}],                        {\"annotations\": [{\"font\": {}, \"showarrow\": false, \"text\": \"Sex=Female\", \"x\": 0.245, \"xanchor\": \"center\", \"xref\": \"paper\", \"y\": 1.0, \"yanchor\": \"bottom\", \"yref\": \"paper\"}, {\"font\": {}, \"showarrow\": false, \"text\": \"Sex=Male\", \"x\": 0.755, \"xanchor\": \"center\", \"xref\": \"paper\", \"y\": 1.0, \"yanchor\": \"bottom\", \"yref\": \"paper\"}], \"barmode\": \"relative\", \"coloraxis\": {\"colorbar\": {\"title\": {\"text\": \"Ethanol\"}}, \"colorscale\": [[0.0, \"#0d0887\"], [0.1111111111111111, \"#46039f\"], [0.2222222222222222, \"#7201a8\"], [0.3333333333333333, \"#9c179e\"], [0.4444444444444444, \"#bd3786\"], [0.5555555555555556, \"#d8576b\"], [0.6666666666666666, \"#ed7953\"], [0.7777777777777778, \"#fb9f3a\"], [0.8888888888888888, \"#fdca26\"], [1.0, \"#f0f921\"]]}, \"legend\": {\"tracegroupgap\": 0}, \"margin\": {\"t\": 60}, \"template\": {\"data\": {\"bar\": [{\"error_x\": {\"color\": \"#2a3f5f\"}, \"error_y\": {\"color\": \"#2a3f5f\"}, \"marker\": {\"line\": {\"color\": \"#E5ECF6\", \"width\": 0.5}}, \"type\": \"bar\"}], \"barpolar\": [{\"marker\": {\"line\": {\"color\": \"#E5ECF6\", \"width\": 0.5}}, \"type\": \"barpolar\"}], \"carpet\": [{\"aaxis\": {\"endlinecolor\": \"#2a3f5f\", \"gridcolor\": \"white\", \"linecolor\": \"white\", \"minorgridcolor\": \"white\", \"startlinecolor\": \"#2a3f5f\"}, \"baxis\": {\"endlinecolor\": \"#2a3f5f\", \"gridcolor\": \"white\", \"linecolor\": \"white\", \"minorgridcolor\": \"white\", \"startlinecolor\": \"#2a3f5f\"}, \"type\": \"carpet\"}], \"choropleth\": [{\"colorbar\": {\"outlinewidth\": 0, \"ticks\": \"\"}, \"type\": \"choropleth\"}], \"contour\": [{\"colorbar\": {\"outlinewidth\": 0, \"ticks\": \"\"}, \"colorscale\": [[0.0, \"#0d0887\"], [0.1111111111111111, \"#46039f\"], [0.2222222222222222, \"#7201a8\"], [0.3333333333333333, \"#9c179e\"], [0.4444444444444444, \"#bd3786\"], [0.5555555555555556, \"#d8576b\"], [0.6666666666666666, \"#ed7953\"], [0.7777777777777778, \"#fb9f3a\"], [0.8888888888888888, \"#fdca26\"], [1.0, \"#f0f921\"]], \"type\": \"contour\"}], \"contourcarpet\": [{\"colorbar\": {\"outlinewidth\": 0, \"ticks\": \"\"}, \"type\": \"contourcarpet\"}], \"heatmap\": [{\"colorbar\": {\"outlinewidth\": 0, \"ticks\": \"\"}, \"colorscale\": [[0.0, \"#0d0887\"], [0.1111111111111111, \"#46039f\"], [0.2222222222222222, \"#7201a8\"], [0.3333333333333333, \"#9c179e\"], [0.4444444444444444, \"#bd3786\"], [0.5555555555555556, \"#d8576b\"], [0.6666666666666666, \"#ed7953\"], [0.7777777777777778, \"#fb9f3a\"], [0.8888888888888888, \"#fdca26\"], [1.0, \"#f0f921\"]], \"type\": \"heatmap\"}], \"heatmapgl\": [{\"colorbar\": {\"outlinewidth\": 0, \"ticks\": \"\"}, \"colorscale\": [[0.0, \"#0d0887\"], [0.1111111111111111, \"#46039f\"], [0.2222222222222222, \"#7201a8\"], [0.3333333333333333, \"#9c179e\"], [0.4444444444444444, \"#bd3786\"], [0.5555555555555556, \"#d8576b\"], [0.6666666666666666, \"#ed7953\"], [0.7777777777777778, \"#fb9f3a\"], [0.8888888888888888, \"#fdca26\"], [1.0, \"#f0f921\"]], \"type\": \"heatmapgl\"}], \"histogram\": [{\"marker\": {\"colorbar\": {\"outlinewidth\": 0, \"ticks\": \"\"}}, \"type\": \"histogram\"}], \"histogram2d\": [{\"colorbar\": {\"outlinewidth\": 0, \"ticks\": \"\"}, \"colorscale\": [[0.0, \"#0d0887\"], [0.1111111111111111, \"#46039f\"], [0.2222222222222222, \"#7201a8\"], [0.3333333333333333, \"#9c179e\"], [0.4444444444444444, \"#bd3786\"], [0.5555555555555556, \"#d8576b\"], [0.6666666666666666, \"#ed7953\"], [0.7777777777777778, \"#fb9f3a\"], [0.8888888888888888, \"#fdca26\"], [1.0, \"#f0f921\"]], \"type\": \"histogram2d\"}], \"histogram2dcontour\": [{\"colorbar\": {\"outlinewidth\": 0, \"ticks\": \"\"}, \"colorscale\": [[0.0, \"#0d0887\"], [0.1111111111111111, \"#46039f\"], [0.2222222222222222, \"#7201a8\"], [0.3333333333333333, \"#9c179e\"], [0.4444444444444444, \"#bd3786\"], [0.5555555555555556, \"#d8576b\"], [0.6666666666666666, \"#ed7953\"], [0.7777777777777778, \"#fb9f3a\"], [0.8888888888888888, \"#fdca26\"], [1.0, \"#f0f921\"]], \"type\": \"histogram2dcontour\"}], \"mesh3d\": [{\"colorbar\": {\"outlinewidth\": 0, \"ticks\": \"\"}, \"type\": \"mesh3d\"}], \"parcoords\": [{\"line\": {\"colorbar\": {\"outlinewidth\": 0, \"ticks\": \"\"}}, \"type\": \"parcoords\"}], \"pie\": [{\"automargin\": true, \"type\": \"pie\"}], \"scatter\": [{\"marker\": {\"colorbar\": {\"outlinewidth\": 0, \"ticks\": \"\"}}, \"type\": \"scatter\"}], \"scatter3d\": [{\"line\": {\"colorbar\": {\"outlinewidth\": 0, \"ticks\": \"\"}}, \"marker\": {\"colorbar\": {\"outlinewidth\": 0, \"ticks\": \"\"}}, \"type\": \"scatter3d\"}], \"scattercarpet\": [{\"marker\": {\"colorbar\": {\"outlinewidth\": 0, \"ticks\": \"\"}}, \"type\": \"scattercarpet\"}], \"scattergeo\": [{\"marker\": {\"colorbar\": {\"outlinewidth\": 0, \"ticks\": \"\"}}, \"type\": \"scattergeo\"}], \"scattergl\": [{\"marker\": {\"colorbar\": {\"outlinewidth\": 0, \"ticks\": \"\"}}, \"type\": \"scattergl\"}], \"scattermapbox\": [{\"marker\": {\"colorbar\": {\"outlinewidth\": 0, \"ticks\": \"\"}}, \"type\": \"scattermapbox\"}], \"scatterpolar\": [{\"marker\": {\"colorbar\": {\"outlinewidth\": 0, \"ticks\": \"\"}}, \"type\": \"scatterpolar\"}], \"scatterpolargl\": [{\"marker\": {\"colorbar\": {\"outlinewidth\": 0, \"ticks\": \"\"}}, \"type\": \"scatterpolargl\"}], \"scatterternary\": [{\"marker\": {\"colorbar\": {\"outlinewidth\": 0, \"ticks\": \"\"}}, \"type\": \"scatterternary\"}], \"surface\": [{\"colorbar\": {\"outlinewidth\": 0, \"ticks\": \"\"}, \"colorscale\": [[0.0, \"#0d0887\"], [0.1111111111111111, \"#46039f\"], [0.2222222222222222, \"#7201a8\"], [0.3333333333333333, \"#9c179e\"], [0.4444444444444444, \"#bd3786\"], [0.5555555555555556, \"#d8576b\"], [0.6666666666666666, \"#ed7953\"], [0.7777777777777778, \"#fb9f3a\"], [0.8888888888888888, \"#fdca26\"], [1.0, \"#f0f921\"]], \"type\": \"surface\"}], \"table\": [{\"cells\": {\"fill\": {\"color\": \"#EBF0F8\"}, \"line\": {\"color\": \"white\"}}, \"header\": {\"fill\": {\"color\": \"#C8D4E3\"}, \"line\": {\"color\": \"white\"}}, \"type\": \"table\"}]}, \"layout\": {\"annotationdefaults\": {\"arrowcolor\": \"#2a3f5f\", \"arrowhead\": 0, \"arrowwidth\": 1}, \"autotypenumbers\": \"strict\", \"coloraxis\": {\"colorbar\": {\"outlinewidth\": 0, \"ticks\": \"\"}}, \"colorscale\": {\"diverging\": [[0, \"#8e0152\"], [0.1, \"#c51b7d\"], [0.2, \"#de77ae\"], [0.3, \"#f1b6da\"], [0.4, \"#fde0ef\"], [0.5, \"#f7f7f7\"], [0.6, \"#e6f5d0\"], [0.7, \"#b8e186\"], [0.8, \"#7fbc41\"], [0.9, \"#4d9221\"], [1, \"#276419\"]], \"sequential\": [[0.0, \"#0d0887\"], [0.1111111111111111, \"#46039f\"], [0.2222222222222222, \"#7201a8\"], [0.3333333333333333, \"#9c179e\"], [0.4444444444444444, \"#bd3786\"], [0.5555555555555556, \"#d8576b\"], [0.6666666666666666, \"#ed7953\"], [0.7777777777777778, \"#fb9f3a\"], [0.8888888888888888, \"#fdca26\"], [1.0, \"#f0f921\"]], \"sequentialminus\": [[0.0, \"#0d0887\"], [0.1111111111111111, \"#46039f\"], [0.2222222222222222, \"#7201a8\"], [0.3333333333333333, \"#9c179e\"], [0.4444444444444444, \"#bd3786\"], [0.5555555555555556, \"#d8576b\"], [0.6666666666666666, \"#ed7953\"], [0.7777777777777778, \"#fb9f3a\"], [0.8888888888888888, \"#fdca26\"], [1.0, \"#f0f921\"]]}, \"colorway\": [\"#636efa\", \"#EF553B\", \"#00cc96\", \"#ab63fa\", \"#FFA15A\", \"#19d3f3\", \"#FF6692\", \"#B6E880\", \"#FF97FF\", \"#FECB52\"], \"font\": {\"color\": \"#2a3f5f\"}, \"geo\": {\"bgcolor\": \"white\", \"lakecolor\": \"white\", \"landcolor\": \"#E5ECF6\", \"showlakes\": true, \"showland\": true, \"subunitcolor\": \"white\"}, \"hoverlabel\": {\"align\": \"left\"}, \"hovermode\": \"closest\", \"mapbox\": {\"style\": \"light\"}, \"paper_bgcolor\": \"white\", \"plot_bgcolor\": \"#E5ECF6\", \"polar\": {\"angularaxis\": {\"gridcolor\": \"white\", \"linecolor\": \"white\", \"ticks\": \"\"}, \"bgcolor\": \"#E5ECF6\", \"radialaxis\": {\"gridcolor\": \"white\", \"linecolor\": \"white\", \"ticks\": \"\"}}, \"scene\": {\"xaxis\": {\"backgroundcolor\": \"#E5ECF6\", \"gridcolor\": \"white\", \"gridwidth\": 2, \"linecolor\": \"white\", \"showbackground\": true, \"ticks\": \"\", \"zerolinecolor\": \"white\"}, \"yaxis\": {\"backgroundcolor\": \"#E5ECF6\", \"gridcolor\": \"white\", \"gridwidth\": 2, \"linecolor\": \"white\", \"showbackground\": true, \"ticks\": \"\", \"zerolinecolor\": \"white\"}, \"zaxis\": {\"backgroundcolor\": \"#E5ECF6\", \"gridcolor\": \"white\", \"gridwidth\": 2, \"linecolor\": \"white\", \"showbackground\": true, \"ticks\": \"\", \"zerolinecolor\": \"white\"}}, \"shapedefaults\": {\"line\": {\"color\": \"#2a3f5f\"}}, \"ternary\": {\"aaxis\": {\"gridcolor\": \"white\", \"linecolor\": \"white\", \"ticks\": \"\"}, \"baxis\": {\"gridcolor\": \"white\", \"linecolor\": \"white\", \"ticks\": \"\"}, \"bgcolor\": \"#E5ECF6\", \"caxis\": {\"gridcolor\": \"white\", \"linecolor\": \"white\", \"ticks\": \"\"}}, \"title\": {\"x\": 0.05}, \"xaxis\": {\"automargin\": true, \"gridcolor\": \"white\", \"linecolor\": \"white\", \"ticks\": \"\", \"title\": {\"standoff\": 15}, \"zerolinecolor\": \"white\", \"zerolinewidth\": 2}, \"yaxis\": {\"automargin\": true, \"gridcolor\": \"white\", \"linecolor\": \"white\", \"ticks\": \"\", \"title\": {\"standoff\": 15}, \"zerolinecolor\": \"white\", \"zerolinewidth\": 2}}}, \"xaxis\": {\"anchor\": \"y\", \"domain\": [0.0, 0.49], \"title\": {\"text\": \"FiscalYear\"}}, \"xaxis2\": {\"anchor\": \"y2\", \"domain\": [0.51, 1.0], \"matches\": \"x\", \"title\": {\"text\": \"FiscalYear\"}}, \"yaxis\": {\"anchor\": \"x\", \"domain\": [0.0, 1.0], \"title\": {\"text\": \"Morphine_NotHeroin\"}}, \"yaxis2\": {\"anchor\": \"x2\", \"domain\": [0.0, 1.0], \"matches\": \"y\", \"showticklabels\": false}},                        {\"responsive\": true}                    ).then(function(){\n",
       "                            \n",
       "var gd = document.getElementById('f12767c3-b1f8-46b4-af72-14ca282f7bfc');\n",
       "var x = new MutationObserver(function (mutations, observer) {{\n",
       "        var display = window.getComputedStyle(gd).display;\n",
       "        if (!display || display === 'none') {{\n",
       "            console.log([gd, 'removed!']);\n",
       "            Plotly.purge(gd);\n",
       "            observer.disconnect();\n",
       "        }}\n",
       "}});\n",
       "\n",
       "// Listen for the removal of the full notebook cells\n",
       "var notebookContainer = gd.closest('#notebook-container');\n",
       "if (notebookContainer) {{\n",
       "    x.observe(notebookContainer, {childList: true});\n",
       "}}\n",
       "\n",
       "// Listen for the clearing of the current output cell\n",
       "var outputEl = gd.closest('.output');\n",
       "if (outputEl) {{\n",
       "    x.observe(outputEl, {childList: true});\n",
       "}}\n",
       "\n",
       "                        })                };                });            </script>        </div>"
      ]
     },
     "metadata": {},
     "output_type": "display_data"
    }
   ],
   "source": [
    "# Number of Morphine_NotHeroin deaths for male and female population\n",
    "fig = px.bar(Drugs_Grouped, x=\"FiscalYear\", y=\"Morphine_NotHeroin\",facet_col=\"Sex\", color=\"Ethanol\",color_discrete_sequence=px.colors.diverging.Spectral[-2::-1])\n",
    "fig.show()"
   ]
  },
  {
   "cell_type": "code",
   "execution_count": 190,
   "metadata": {},
   "outputs": [
    {
     "data": {
      "application/vnd.plotly.v1+json": {
       "config": {
        "plotlyServerURL": "https://plot.ly"
       },
       "data": [
        {
         "alignmentgroup": "True",
         "hovertemplate": "Sex=Female<br>FiscalYear=%{x}<br>Ethanol=%{marker.color}<extra></extra>",
         "legendgroup": "",
         "marker": {
          "color": [
           29,
           35,
           54
          ],
          "coloraxis": "coloraxis"
         },
         "name": "",
         "offsetgroup": "",
         "orientation": "v",
         "showlegend": false,
         "textposition": "auto",
         "type": "bar",
         "x": [
          "2014",
          "2015",
          "2016"
         ],
         "xaxis": "x",
         "y": [
          29,
          35,
          54
         ],
         "yaxis": "y"
        },
        {
         "alignmentgroup": "True",
         "hovertemplate": "Sex=Male<br>FiscalYear=%{x}<br>Ethanol=%{marker.color}<extra></extra>",
         "legendgroup": "",
         "marker": {
          "color": [
           97,
           139,
           201
          ],
          "coloraxis": "coloraxis"
         },
         "name": "",
         "offsetgroup": "",
         "orientation": "v",
         "showlegend": false,
         "textposition": "auto",
         "type": "bar",
         "x": [
          "2014",
          "2015",
          "2016"
         ],
         "xaxis": "x2",
         "y": [
          97,
          139,
          201
         ],
         "yaxis": "y2"
        }
       ],
       "layout": {
        "annotations": [
         {
          "font": {},
          "showarrow": false,
          "text": "Sex=Female",
          "x": 0.245,
          "xanchor": "center",
          "xref": "paper",
          "y": 1,
          "yanchor": "bottom",
          "yref": "paper"
         },
         {
          "font": {},
          "showarrow": false,
          "text": "Sex=Male",
          "x": 0.755,
          "xanchor": "center",
          "xref": "paper",
          "y": 1,
          "yanchor": "bottom",
          "yref": "paper"
         }
        ],
        "barmode": "relative",
        "coloraxis": {
         "colorbar": {
          "title": {
           "text": "Ethanol"
          }
         },
         "colorscale": [
          [
           0,
           "#0d0887"
          ],
          [
           0.1111111111111111,
           "#46039f"
          ],
          [
           0.2222222222222222,
           "#7201a8"
          ],
          [
           0.3333333333333333,
           "#9c179e"
          ],
          [
           0.4444444444444444,
           "#bd3786"
          ],
          [
           0.5555555555555556,
           "#d8576b"
          ],
          [
           0.6666666666666666,
           "#ed7953"
          ],
          [
           0.7777777777777778,
           "#fb9f3a"
          ],
          [
           0.8888888888888888,
           "#fdca26"
          ],
          [
           1,
           "#f0f921"
          ]
         ]
        },
        "legend": {
         "tracegroupgap": 0
        },
        "margin": {
         "t": 60
        },
        "template": {
         "data": {
          "bar": [
           {
            "error_x": {
             "color": "#2a3f5f"
            },
            "error_y": {
             "color": "#2a3f5f"
            },
            "marker": {
             "line": {
              "color": "#E5ECF6",
              "width": 0.5
             }
            },
            "type": "bar"
           }
          ],
          "barpolar": [
           {
            "marker": {
             "line": {
              "color": "#E5ECF6",
              "width": 0.5
             }
            },
            "type": "barpolar"
           }
          ],
          "carpet": [
           {
            "aaxis": {
             "endlinecolor": "#2a3f5f",
             "gridcolor": "white",
             "linecolor": "white",
             "minorgridcolor": "white",
             "startlinecolor": "#2a3f5f"
            },
            "baxis": {
             "endlinecolor": "#2a3f5f",
             "gridcolor": "white",
             "linecolor": "white",
             "minorgridcolor": "white",
             "startlinecolor": "#2a3f5f"
            },
            "type": "carpet"
           }
          ],
          "choropleth": [
           {
            "colorbar": {
             "outlinewidth": 0,
             "ticks": ""
            },
            "type": "choropleth"
           }
          ],
          "contour": [
           {
            "colorbar": {
             "outlinewidth": 0,
             "ticks": ""
            },
            "colorscale": [
             [
              0,
              "#0d0887"
             ],
             [
              0.1111111111111111,
              "#46039f"
             ],
             [
              0.2222222222222222,
              "#7201a8"
             ],
             [
              0.3333333333333333,
              "#9c179e"
             ],
             [
              0.4444444444444444,
              "#bd3786"
             ],
             [
              0.5555555555555556,
              "#d8576b"
             ],
             [
              0.6666666666666666,
              "#ed7953"
             ],
             [
              0.7777777777777778,
              "#fb9f3a"
             ],
             [
              0.8888888888888888,
              "#fdca26"
             ],
             [
              1,
              "#f0f921"
             ]
            ],
            "type": "contour"
           }
          ],
          "contourcarpet": [
           {
            "colorbar": {
             "outlinewidth": 0,
             "ticks": ""
            },
            "type": "contourcarpet"
           }
          ],
          "heatmap": [
           {
            "colorbar": {
             "outlinewidth": 0,
             "ticks": ""
            },
            "colorscale": [
             [
              0,
              "#0d0887"
             ],
             [
              0.1111111111111111,
              "#46039f"
             ],
             [
              0.2222222222222222,
              "#7201a8"
             ],
             [
              0.3333333333333333,
              "#9c179e"
             ],
             [
              0.4444444444444444,
              "#bd3786"
             ],
             [
              0.5555555555555556,
              "#d8576b"
             ],
             [
              0.6666666666666666,
              "#ed7953"
             ],
             [
              0.7777777777777778,
              "#fb9f3a"
             ],
             [
              0.8888888888888888,
              "#fdca26"
             ],
             [
              1,
              "#f0f921"
             ]
            ],
            "type": "heatmap"
           }
          ],
          "heatmapgl": [
           {
            "colorbar": {
             "outlinewidth": 0,
             "ticks": ""
            },
            "colorscale": [
             [
              0,
              "#0d0887"
             ],
             [
              0.1111111111111111,
              "#46039f"
             ],
             [
              0.2222222222222222,
              "#7201a8"
             ],
             [
              0.3333333333333333,
              "#9c179e"
             ],
             [
              0.4444444444444444,
              "#bd3786"
             ],
             [
              0.5555555555555556,
              "#d8576b"
             ],
             [
              0.6666666666666666,
              "#ed7953"
             ],
             [
              0.7777777777777778,
              "#fb9f3a"
             ],
             [
              0.8888888888888888,
              "#fdca26"
             ],
             [
              1,
              "#f0f921"
             ]
            ],
            "type": "heatmapgl"
           }
          ],
          "histogram": [
           {
            "marker": {
             "colorbar": {
              "outlinewidth": 0,
              "ticks": ""
             }
            },
            "type": "histogram"
           }
          ],
          "histogram2d": [
           {
            "colorbar": {
             "outlinewidth": 0,
             "ticks": ""
            },
            "colorscale": [
             [
              0,
              "#0d0887"
             ],
             [
              0.1111111111111111,
              "#46039f"
             ],
             [
              0.2222222222222222,
              "#7201a8"
             ],
             [
              0.3333333333333333,
              "#9c179e"
             ],
             [
              0.4444444444444444,
              "#bd3786"
             ],
             [
              0.5555555555555556,
              "#d8576b"
             ],
             [
              0.6666666666666666,
              "#ed7953"
             ],
             [
              0.7777777777777778,
              "#fb9f3a"
             ],
             [
              0.8888888888888888,
              "#fdca26"
             ],
             [
              1,
              "#f0f921"
             ]
            ],
            "type": "histogram2d"
           }
          ],
          "histogram2dcontour": [
           {
            "colorbar": {
             "outlinewidth": 0,
             "ticks": ""
            },
            "colorscale": [
             [
              0,
              "#0d0887"
             ],
             [
              0.1111111111111111,
              "#46039f"
             ],
             [
              0.2222222222222222,
              "#7201a8"
             ],
             [
              0.3333333333333333,
              "#9c179e"
             ],
             [
              0.4444444444444444,
              "#bd3786"
             ],
             [
              0.5555555555555556,
              "#d8576b"
             ],
             [
              0.6666666666666666,
              "#ed7953"
             ],
             [
              0.7777777777777778,
              "#fb9f3a"
             ],
             [
              0.8888888888888888,
              "#fdca26"
             ],
             [
              1,
              "#f0f921"
             ]
            ],
            "type": "histogram2dcontour"
           }
          ],
          "mesh3d": [
           {
            "colorbar": {
             "outlinewidth": 0,
             "ticks": ""
            },
            "type": "mesh3d"
           }
          ],
          "parcoords": [
           {
            "line": {
             "colorbar": {
              "outlinewidth": 0,
              "ticks": ""
             }
            },
            "type": "parcoords"
           }
          ],
          "pie": [
           {
            "automargin": true,
            "type": "pie"
           }
          ],
          "scatter": [
           {
            "marker": {
             "colorbar": {
              "outlinewidth": 0,
              "ticks": ""
             }
            },
            "type": "scatter"
           }
          ],
          "scatter3d": [
           {
            "line": {
             "colorbar": {
              "outlinewidth": 0,
              "ticks": ""
             }
            },
            "marker": {
             "colorbar": {
              "outlinewidth": 0,
              "ticks": ""
             }
            },
            "type": "scatter3d"
           }
          ],
          "scattercarpet": [
           {
            "marker": {
             "colorbar": {
              "outlinewidth": 0,
              "ticks": ""
             }
            },
            "type": "scattercarpet"
           }
          ],
          "scattergeo": [
           {
            "marker": {
             "colorbar": {
              "outlinewidth": 0,
              "ticks": ""
             }
            },
            "type": "scattergeo"
           }
          ],
          "scattergl": [
           {
            "marker": {
             "colorbar": {
              "outlinewidth": 0,
              "ticks": ""
             }
            },
            "type": "scattergl"
           }
          ],
          "scattermapbox": [
           {
            "marker": {
             "colorbar": {
              "outlinewidth": 0,
              "ticks": ""
             }
            },
            "type": "scattermapbox"
           }
          ],
          "scatterpolar": [
           {
            "marker": {
             "colorbar": {
              "outlinewidth": 0,
              "ticks": ""
             }
            },
            "type": "scatterpolar"
           }
          ],
          "scatterpolargl": [
           {
            "marker": {
             "colorbar": {
              "outlinewidth": 0,
              "ticks": ""
             }
            },
            "type": "scatterpolargl"
           }
          ],
          "scatterternary": [
           {
            "marker": {
             "colorbar": {
              "outlinewidth": 0,
              "ticks": ""
             }
            },
            "type": "scatterternary"
           }
          ],
          "surface": [
           {
            "colorbar": {
             "outlinewidth": 0,
             "ticks": ""
            },
            "colorscale": [
             [
              0,
              "#0d0887"
             ],
             [
              0.1111111111111111,
              "#46039f"
             ],
             [
              0.2222222222222222,
              "#7201a8"
             ],
             [
              0.3333333333333333,
              "#9c179e"
             ],
             [
              0.4444444444444444,
              "#bd3786"
             ],
             [
              0.5555555555555556,
              "#d8576b"
             ],
             [
              0.6666666666666666,
              "#ed7953"
             ],
             [
              0.7777777777777778,
              "#fb9f3a"
             ],
             [
              0.8888888888888888,
              "#fdca26"
             ],
             [
              1,
              "#f0f921"
             ]
            ],
            "type": "surface"
           }
          ],
          "table": [
           {
            "cells": {
             "fill": {
              "color": "#EBF0F8"
             },
             "line": {
              "color": "white"
             }
            },
            "header": {
             "fill": {
              "color": "#C8D4E3"
             },
             "line": {
              "color": "white"
             }
            },
            "type": "table"
           }
          ]
         },
         "layout": {
          "annotationdefaults": {
           "arrowcolor": "#2a3f5f",
           "arrowhead": 0,
           "arrowwidth": 1
          },
          "autotypenumbers": "strict",
          "coloraxis": {
           "colorbar": {
            "outlinewidth": 0,
            "ticks": ""
           }
          },
          "colorscale": {
           "diverging": [
            [
             0,
             "#8e0152"
            ],
            [
             0.1,
             "#c51b7d"
            ],
            [
             0.2,
             "#de77ae"
            ],
            [
             0.3,
             "#f1b6da"
            ],
            [
             0.4,
             "#fde0ef"
            ],
            [
             0.5,
             "#f7f7f7"
            ],
            [
             0.6,
             "#e6f5d0"
            ],
            [
             0.7,
             "#b8e186"
            ],
            [
             0.8,
             "#7fbc41"
            ],
            [
             0.9,
             "#4d9221"
            ],
            [
             1,
             "#276419"
            ]
           ],
           "sequential": [
            [
             0,
             "#0d0887"
            ],
            [
             0.1111111111111111,
             "#46039f"
            ],
            [
             0.2222222222222222,
             "#7201a8"
            ],
            [
             0.3333333333333333,
             "#9c179e"
            ],
            [
             0.4444444444444444,
             "#bd3786"
            ],
            [
             0.5555555555555556,
             "#d8576b"
            ],
            [
             0.6666666666666666,
             "#ed7953"
            ],
            [
             0.7777777777777778,
             "#fb9f3a"
            ],
            [
             0.8888888888888888,
             "#fdca26"
            ],
            [
             1,
             "#f0f921"
            ]
           ],
           "sequentialminus": [
            [
             0,
             "#0d0887"
            ],
            [
             0.1111111111111111,
             "#46039f"
            ],
            [
             0.2222222222222222,
             "#7201a8"
            ],
            [
             0.3333333333333333,
             "#9c179e"
            ],
            [
             0.4444444444444444,
             "#bd3786"
            ],
            [
             0.5555555555555556,
             "#d8576b"
            ],
            [
             0.6666666666666666,
             "#ed7953"
            ],
            [
             0.7777777777777778,
             "#fb9f3a"
            ],
            [
             0.8888888888888888,
             "#fdca26"
            ],
            [
             1,
             "#f0f921"
            ]
           ]
          },
          "colorway": [
           "#636efa",
           "#EF553B",
           "#00cc96",
           "#ab63fa",
           "#FFA15A",
           "#19d3f3",
           "#FF6692",
           "#B6E880",
           "#FF97FF",
           "#FECB52"
          ],
          "font": {
           "color": "#2a3f5f"
          },
          "geo": {
           "bgcolor": "white",
           "lakecolor": "white",
           "landcolor": "#E5ECF6",
           "showlakes": true,
           "showland": true,
           "subunitcolor": "white"
          },
          "hoverlabel": {
           "align": "left"
          },
          "hovermode": "closest",
          "mapbox": {
           "style": "light"
          },
          "paper_bgcolor": "white",
          "plot_bgcolor": "#E5ECF6",
          "polar": {
           "angularaxis": {
            "gridcolor": "white",
            "linecolor": "white",
            "ticks": ""
           },
           "bgcolor": "#E5ECF6",
           "radialaxis": {
            "gridcolor": "white",
            "linecolor": "white",
            "ticks": ""
           }
          },
          "scene": {
           "xaxis": {
            "backgroundcolor": "#E5ECF6",
            "gridcolor": "white",
            "gridwidth": 2,
            "linecolor": "white",
            "showbackground": true,
            "ticks": "",
            "zerolinecolor": "white"
           },
           "yaxis": {
            "backgroundcolor": "#E5ECF6",
            "gridcolor": "white",
            "gridwidth": 2,
            "linecolor": "white",
            "showbackground": true,
            "ticks": "",
            "zerolinecolor": "white"
           },
           "zaxis": {
            "backgroundcolor": "#E5ECF6",
            "gridcolor": "white",
            "gridwidth": 2,
            "linecolor": "white",
            "showbackground": true,
            "ticks": "",
            "zerolinecolor": "white"
           }
          },
          "shapedefaults": {
           "line": {
            "color": "#2a3f5f"
           }
          },
          "ternary": {
           "aaxis": {
            "gridcolor": "white",
            "linecolor": "white",
            "ticks": ""
           },
           "baxis": {
            "gridcolor": "white",
            "linecolor": "white",
            "ticks": ""
           },
           "bgcolor": "#E5ECF6",
           "caxis": {
            "gridcolor": "white",
            "linecolor": "white",
            "ticks": ""
           }
          },
          "title": {
           "x": 0.05
          },
          "xaxis": {
           "automargin": true,
           "gridcolor": "white",
           "linecolor": "white",
           "ticks": "",
           "title": {
            "standoff": 15
           },
           "zerolinecolor": "white",
           "zerolinewidth": 2
          },
          "yaxis": {
           "automargin": true,
           "gridcolor": "white",
           "linecolor": "white",
           "ticks": "",
           "title": {
            "standoff": 15
           },
           "zerolinecolor": "white",
           "zerolinewidth": 2
          }
         }
        },
        "xaxis": {
         "anchor": "y",
         "domain": [
          0,
          0.49
         ],
         "title": {
          "text": "FiscalYear"
         }
        },
        "xaxis2": {
         "anchor": "y2",
         "domain": [
          0.51,
          1
         ],
         "matches": "x",
         "title": {
          "text": "FiscalYear"
         }
        },
        "yaxis": {
         "anchor": "x",
         "domain": [
          0,
          1
         ],
         "title": {
          "text": "Ethanol"
         }
        },
        "yaxis2": {
         "anchor": "x2",
         "domain": [
          0,
          1
         ],
         "matches": "y",
         "showticklabels": false
        }
       }
      },
      "text/html": [
       "<div>                            <div id=\"4e863747-4181-47e4-aca0-f46d36f43a97\" class=\"plotly-graph-div\" style=\"height:525px; width:100%;\"></div>            <script type=\"text/javascript\">                require([\"plotly\"], function(Plotly) {                    window.PLOTLYENV=window.PLOTLYENV || {};                                    if (document.getElementById(\"4e863747-4181-47e4-aca0-f46d36f43a97\")) {                    Plotly.newPlot(                        \"4e863747-4181-47e4-aca0-f46d36f43a97\",                        [{\"alignmentgroup\": \"True\", \"hovertemplate\": \"Sex=Female<br>FiscalYear=%{x}<br>Ethanol=%{marker.color}<extra></extra>\", \"legendgroup\": \"\", \"marker\": {\"color\": [29, 35, 54], \"coloraxis\": \"coloraxis\"}, \"name\": \"\", \"offsetgroup\": \"\", \"orientation\": \"v\", \"showlegend\": false, \"textposition\": \"auto\", \"type\": \"bar\", \"x\": [\"2014\", \"2015\", \"2016\"], \"xaxis\": \"x\", \"y\": [29, 35, 54], \"yaxis\": \"y\"}, {\"alignmentgroup\": \"True\", \"hovertemplate\": \"Sex=Male<br>FiscalYear=%{x}<br>Ethanol=%{marker.color}<extra></extra>\", \"legendgroup\": \"\", \"marker\": {\"color\": [97, 139, 201], \"coloraxis\": \"coloraxis\"}, \"name\": \"\", \"offsetgroup\": \"\", \"orientation\": \"v\", \"showlegend\": false, \"textposition\": \"auto\", \"type\": \"bar\", \"x\": [\"2014\", \"2015\", \"2016\"], \"xaxis\": \"x2\", \"y\": [97, 139, 201], \"yaxis\": \"y2\"}],                        {\"annotations\": [{\"font\": {}, \"showarrow\": false, \"text\": \"Sex=Female\", \"x\": 0.245, \"xanchor\": \"center\", \"xref\": \"paper\", \"y\": 1.0, \"yanchor\": \"bottom\", \"yref\": \"paper\"}, {\"font\": {}, \"showarrow\": false, \"text\": \"Sex=Male\", \"x\": 0.755, \"xanchor\": \"center\", \"xref\": \"paper\", \"y\": 1.0, \"yanchor\": \"bottom\", \"yref\": \"paper\"}], \"barmode\": \"relative\", \"coloraxis\": {\"colorbar\": {\"title\": {\"text\": \"Ethanol\"}}, \"colorscale\": [[0.0, \"#0d0887\"], [0.1111111111111111, \"#46039f\"], [0.2222222222222222, \"#7201a8\"], [0.3333333333333333, \"#9c179e\"], [0.4444444444444444, \"#bd3786\"], [0.5555555555555556, \"#d8576b\"], [0.6666666666666666, \"#ed7953\"], [0.7777777777777778, \"#fb9f3a\"], [0.8888888888888888, \"#fdca26\"], [1.0, \"#f0f921\"]]}, \"legend\": {\"tracegroupgap\": 0}, \"margin\": {\"t\": 60}, \"template\": {\"data\": {\"bar\": [{\"error_x\": {\"color\": \"#2a3f5f\"}, \"error_y\": {\"color\": \"#2a3f5f\"}, \"marker\": {\"line\": {\"color\": \"#E5ECF6\", \"width\": 0.5}}, \"type\": \"bar\"}], \"barpolar\": [{\"marker\": {\"line\": {\"color\": \"#E5ECF6\", \"width\": 0.5}}, \"type\": \"barpolar\"}], \"carpet\": [{\"aaxis\": {\"endlinecolor\": \"#2a3f5f\", \"gridcolor\": \"white\", \"linecolor\": \"white\", \"minorgridcolor\": \"white\", \"startlinecolor\": \"#2a3f5f\"}, \"baxis\": {\"endlinecolor\": \"#2a3f5f\", \"gridcolor\": \"white\", \"linecolor\": \"white\", \"minorgridcolor\": \"white\", \"startlinecolor\": \"#2a3f5f\"}, \"type\": \"carpet\"}], \"choropleth\": [{\"colorbar\": {\"outlinewidth\": 0, \"ticks\": \"\"}, \"type\": \"choropleth\"}], \"contour\": [{\"colorbar\": {\"outlinewidth\": 0, \"ticks\": \"\"}, \"colorscale\": [[0.0, \"#0d0887\"], [0.1111111111111111, \"#46039f\"], [0.2222222222222222, \"#7201a8\"], [0.3333333333333333, \"#9c179e\"], [0.4444444444444444, \"#bd3786\"], [0.5555555555555556, \"#d8576b\"], [0.6666666666666666, \"#ed7953\"], [0.7777777777777778, \"#fb9f3a\"], [0.8888888888888888, \"#fdca26\"], [1.0, \"#f0f921\"]], \"type\": \"contour\"}], \"contourcarpet\": [{\"colorbar\": {\"outlinewidth\": 0, \"ticks\": \"\"}, \"type\": \"contourcarpet\"}], \"heatmap\": [{\"colorbar\": {\"outlinewidth\": 0, \"ticks\": \"\"}, \"colorscale\": [[0.0, \"#0d0887\"], [0.1111111111111111, \"#46039f\"], [0.2222222222222222, \"#7201a8\"], [0.3333333333333333, \"#9c179e\"], [0.4444444444444444, \"#bd3786\"], [0.5555555555555556, \"#d8576b\"], [0.6666666666666666, \"#ed7953\"], [0.7777777777777778, \"#fb9f3a\"], [0.8888888888888888, \"#fdca26\"], [1.0, \"#f0f921\"]], \"type\": \"heatmap\"}], \"heatmapgl\": [{\"colorbar\": {\"outlinewidth\": 0, \"ticks\": \"\"}, \"colorscale\": [[0.0, \"#0d0887\"], [0.1111111111111111, \"#46039f\"], [0.2222222222222222, \"#7201a8\"], [0.3333333333333333, \"#9c179e\"], [0.4444444444444444, \"#bd3786\"], [0.5555555555555556, \"#d8576b\"], [0.6666666666666666, \"#ed7953\"], [0.7777777777777778, \"#fb9f3a\"], [0.8888888888888888, \"#fdca26\"], [1.0, \"#f0f921\"]], \"type\": \"heatmapgl\"}], \"histogram\": [{\"marker\": {\"colorbar\": {\"outlinewidth\": 0, \"ticks\": \"\"}}, \"type\": \"histogram\"}], \"histogram2d\": [{\"colorbar\": {\"outlinewidth\": 0, \"ticks\": \"\"}, \"colorscale\": [[0.0, \"#0d0887\"], [0.1111111111111111, \"#46039f\"], [0.2222222222222222, \"#7201a8\"], [0.3333333333333333, \"#9c179e\"], [0.4444444444444444, \"#bd3786\"], [0.5555555555555556, \"#d8576b\"], [0.6666666666666666, \"#ed7953\"], [0.7777777777777778, \"#fb9f3a\"], [0.8888888888888888, \"#fdca26\"], [1.0, \"#f0f921\"]], \"type\": \"histogram2d\"}], \"histogram2dcontour\": [{\"colorbar\": {\"outlinewidth\": 0, \"ticks\": \"\"}, \"colorscale\": [[0.0, \"#0d0887\"], [0.1111111111111111, \"#46039f\"], [0.2222222222222222, \"#7201a8\"], [0.3333333333333333, \"#9c179e\"], [0.4444444444444444, \"#bd3786\"], [0.5555555555555556, \"#d8576b\"], [0.6666666666666666, \"#ed7953\"], [0.7777777777777778, \"#fb9f3a\"], [0.8888888888888888, \"#fdca26\"], [1.0, \"#f0f921\"]], \"type\": \"histogram2dcontour\"}], \"mesh3d\": [{\"colorbar\": {\"outlinewidth\": 0, \"ticks\": \"\"}, \"type\": \"mesh3d\"}], \"parcoords\": [{\"line\": {\"colorbar\": {\"outlinewidth\": 0, \"ticks\": \"\"}}, \"type\": \"parcoords\"}], \"pie\": [{\"automargin\": true, \"type\": \"pie\"}], \"scatter\": [{\"marker\": {\"colorbar\": {\"outlinewidth\": 0, \"ticks\": \"\"}}, \"type\": \"scatter\"}], \"scatter3d\": [{\"line\": {\"colorbar\": {\"outlinewidth\": 0, \"ticks\": \"\"}}, \"marker\": {\"colorbar\": {\"outlinewidth\": 0, \"ticks\": \"\"}}, \"type\": \"scatter3d\"}], \"scattercarpet\": [{\"marker\": {\"colorbar\": {\"outlinewidth\": 0, \"ticks\": \"\"}}, \"type\": \"scattercarpet\"}], \"scattergeo\": [{\"marker\": {\"colorbar\": {\"outlinewidth\": 0, \"ticks\": \"\"}}, \"type\": \"scattergeo\"}], \"scattergl\": [{\"marker\": {\"colorbar\": {\"outlinewidth\": 0, \"ticks\": \"\"}}, \"type\": \"scattergl\"}], \"scattermapbox\": [{\"marker\": {\"colorbar\": {\"outlinewidth\": 0, \"ticks\": \"\"}}, \"type\": \"scattermapbox\"}], \"scatterpolar\": [{\"marker\": {\"colorbar\": {\"outlinewidth\": 0, \"ticks\": \"\"}}, \"type\": \"scatterpolar\"}], \"scatterpolargl\": [{\"marker\": {\"colorbar\": {\"outlinewidth\": 0, \"ticks\": \"\"}}, \"type\": \"scatterpolargl\"}], \"scatterternary\": [{\"marker\": {\"colorbar\": {\"outlinewidth\": 0, \"ticks\": \"\"}}, \"type\": \"scatterternary\"}], \"surface\": [{\"colorbar\": {\"outlinewidth\": 0, \"ticks\": \"\"}, \"colorscale\": [[0.0, \"#0d0887\"], [0.1111111111111111, \"#46039f\"], [0.2222222222222222, \"#7201a8\"], [0.3333333333333333, \"#9c179e\"], [0.4444444444444444, \"#bd3786\"], [0.5555555555555556, \"#d8576b\"], [0.6666666666666666, \"#ed7953\"], [0.7777777777777778, \"#fb9f3a\"], [0.8888888888888888, \"#fdca26\"], [1.0, \"#f0f921\"]], \"type\": \"surface\"}], \"table\": [{\"cells\": {\"fill\": {\"color\": \"#EBF0F8\"}, \"line\": {\"color\": \"white\"}}, \"header\": {\"fill\": {\"color\": \"#C8D4E3\"}, \"line\": {\"color\": \"white\"}}, \"type\": \"table\"}]}, \"layout\": {\"annotationdefaults\": {\"arrowcolor\": \"#2a3f5f\", \"arrowhead\": 0, \"arrowwidth\": 1}, \"autotypenumbers\": \"strict\", \"coloraxis\": {\"colorbar\": {\"outlinewidth\": 0, \"ticks\": \"\"}}, \"colorscale\": {\"diverging\": [[0, \"#8e0152\"], [0.1, \"#c51b7d\"], [0.2, \"#de77ae\"], [0.3, \"#f1b6da\"], [0.4, \"#fde0ef\"], [0.5, \"#f7f7f7\"], [0.6, \"#e6f5d0\"], [0.7, \"#b8e186\"], [0.8, \"#7fbc41\"], [0.9, \"#4d9221\"], [1, \"#276419\"]], \"sequential\": [[0.0, \"#0d0887\"], [0.1111111111111111, \"#46039f\"], [0.2222222222222222, \"#7201a8\"], [0.3333333333333333, \"#9c179e\"], [0.4444444444444444, \"#bd3786\"], [0.5555555555555556, \"#d8576b\"], [0.6666666666666666, \"#ed7953\"], [0.7777777777777778, \"#fb9f3a\"], [0.8888888888888888, \"#fdca26\"], [1.0, \"#f0f921\"]], \"sequentialminus\": [[0.0, \"#0d0887\"], [0.1111111111111111, \"#46039f\"], [0.2222222222222222, \"#7201a8\"], [0.3333333333333333, \"#9c179e\"], [0.4444444444444444, \"#bd3786\"], [0.5555555555555556, \"#d8576b\"], [0.6666666666666666, \"#ed7953\"], [0.7777777777777778, \"#fb9f3a\"], [0.8888888888888888, \"#fdca26\"], [1.0, \"#f0f921\"]]}, \"colorway\": [\"#636efa\", \"#EF553B\", \"#00cc96\", \"#ab63fa\", \"#FFA15A\", \"#19d3f3\", \"#FF6692\", \"#B6E880\", \"#FF97FF\", \"#FECB52\"], \"font\": {\"color\": \"#2a3f5f\"}, \"geo\": {\"bgcolor\": \"white\", \"lakecolor\": \"white\", \"landcolor\": \"#E5ECF6\", \"showlakes\": true, \"showland\": true, \"subunitcolor\": \"white\"}, \"hoverlabel\": {\"align\": \"left\"}, \"hovermode\": \"closest\", \"mapbox\": {\"style\": \"light\"}, \"paper_bgcolor\": \"white\", \"plot_bgcolor\": \"#E5ECF6\", \"polar\": {\"angularaxis\": {\"gridcolor\": \"white\", \"linecolor\": \"white\", \"ticks\": \"\"}, \"bgcolor\": \"#E5ECF6\", \"radialaxis\": {\"gridcolor\": \"white\", \"linecolor\": \"white\", \"ticks\": \"\"}}, \"scene\": {\"xaxis\": {\"backgroundcolor\": \"#E5ECF6\", \"gridcolor\": \"white\", \"gridwidth\": 2, \"linecolor\": \"white\", \"showbackground\": true, \"ticks\": \"\", \"zerolinecolor\": \"white\"}, \"yaxis\": {\"backgroundcolor\": \"#E5ECF6\", \"gridcolor\": \"white\", \"gridwidth\": 2, \"linecolor\": \"white\", \"showbackground\": true, \"ticks\": \"\", \"zerolinecolor\": \"white\"}, \"zaxis\": {\"backgroundcolor\": \"#E5ECF6\", \"gridcolor\": \"white\", \"gridwidth\": 2, \"linecolor\": \"white\", \"showbackground\": true, \"ticks\": \"\", \"zerolinecolor\": \"white\"}}, \"shapedefaults\": {\"line\": {\"color\": \"#2a3f5f\"}}, \"ternary\": {\"aaxis\": {\"gridcolor\": \"white\", \"linecolor\": \"white\", \"ticks\": \"\"}, \"baxis\": {\"gridcolor\": \"white\", \"linecolor\": \"white\", \"ticks\": \"\"}, \"bgcolor\": \"#E5ECF6\", \"caxis\": {\"gridcolor\": \"white\", \"linecolor\": \"white\", \"ticks\": \"\"}}, \"title\": {\"x\": 0.05}, \"xaxis\": {\"automargin\": true, \"gridcolor\": \"white\", \"linecolor\": \"white\", \"ticks\": \"\", \"title\": {\"standoff\": 15}, \"zerolinecolor\": \"white\", \"zerolinewidth\": 2}, \"yaxis\": {\"automargin\": true, \"gridcolor\": \"white\", \"linecolor\": \"white\", \"ticks\": \"\", \"title\": {\"standoff\": 15}, \"zerolinecolor\": \"white\", \"zerolinewidth\": 2}}}, \"xaxis\": {\"anchor\": \"y\", \"domain\": [0.0, 0.49], \"title\": {\"text\": \"FiscalYear\"}}, \"xaxis2\": {\"anchor\": \"y2\", \"domain\": [0.51, 1.0], \"matches\": \"x\", \"title\": {\"text\": \"FiscalYear\"}}, \"yaxis\": {\"anchor\": \"x\", \"domain\": [0.0, 1.0], \"title\": {\"text\": \"Ethanol\"}}, \"yaxis2\": {\"anchor\": \"x2\", \"domain\": [0.0, 1.0], \"matches\": \"y\", \"showticklabels\": false}},                        {\"responsive\": true}                    ).then(function(){\n",
       "                            \n",
       "var gd = document.getElementById('4e863747-4181-47e4-aca0-f46d36f43a97');\n",
       "var x = new MutationObserver(function (mutations, observer) {{\n",
       "        var display = window.getComputedStyle(gd).display;\n",
       "        if (!display || display === 'none') {{\n",
       "            console.log([gd, 'removed!']);\n",
       "            Plotly.purge(gd);\n",
       "            observer.disconnect();\n",
       "        }}\n",
       "}});\n",
       "\n",
       "// Listen for the removal of the full notebook cells\n",
       "var notebookContainer = gd.closest('#notebook-container');\n",
       "if (notebookContainer) {{\n",
       "    x.observe(notebookContainer, {childList: true});\n",
       "}}\n",
       "\n",
       "// Listen for the clearing of the current output cell\n",
       "var outputEl = gd.closest('.output');\n",
       "if (outputEl) {{\n",
       "    x.observe(outputEl, {childList: true});\n",
       "}}\n",
       "\n",
       "                        })                };                });            </script>        </div>"
      ]
     },
     "metadata": {},
     "output_type": "display_data"
    }
   ],
   "source": [
    "#Number of Ethanol deaths for male and female population\n",
    "fig = px.bar(Drugs_Grouped, x=\"FiscalYear\", y=\"Ethanol\",facet_col=\"Sex\", color=\"Ethanol\",color_discrete_sequence=px.colors.diverging.Spectral[-2::-1])\n",
    "fig.show()"
   ]
  },
  {
   "cell_type": "code",
   "execution_count": 244,
   "metadata": {},
   "outputs": [
    {
     "data": {
      "application/vnd.plotly.v1+json": {
       "config": {
        "plotlyServerURL": "https://plot.ly"
       },
       "data": [
        {
         "alignmentgroup": "True",
         "hovertemplate": "variable=Ethanol<br>FiscalYear=%{x}<br>value=%{y}<extra></extra>",
         "legendgroup": "Ethanol",
         "marker": {
          "color": "#636efa"
         },
         "name": "Ethanol",
         "offsetgroup": "Ethanol",
         "orientation": "v",
         "showlegend": true,
         "textposition": "auto",
         "type": "bar",
         "x": [
          "2014",
          "2015",
          "2016",
          "2014",
          "2015",
          "2016"
         ],
         "xaxis": "x",
         "y": [
          29,
          35,
          54,
          97,
          139,
          201
         ],
         "yaxis": "y"
        },
        {
         "alignmentgroup": "True",
         "hovertemplate": "variable=Morphine_NotHeroin<br>FiscalYear=%{x}<br>value=%{y}<extra></extra>",
         "legendgroup": "Morphine_NotHeroin",
         "marker": {
          "color": "#EF553B"
         },
         "name": "Morphine_NotHeroin",
         "offsetgroup": "Morphine_NotHeroin",
         "orientation": "v",
         "showlegend": true,
         "textposition": "auto",
         "type": "bar",
         "x": [
          "2014",
          "2015",
          "2016",
          "2014",
          "2015",
          "2016"
         ],
         "xaxis": "x",
         "y": [
          0,
          5,
          7,
          0,
          7,
          9
         ],
         "yaxis": "y"
        }
       ],
       "layout": {
        "barmode": "relative",
        "legend": {
         "title": {
          "text": "variable"
         },
         "tracegroupgap": 0
        },
        "template": {
         "data": {
          "bar": [
           {
            "error_x": {
             "color": "#2a3f5f"
            },
            "error_y": {
             "color": "#2a3f5f"
            },
            "marker": {
             "line": {
              "color": "#E5ECF6",
              "width": 0.5
             }
            },
            "type": "bar"
           }
          ],
          "barpolar": [
           {
            "marker": {
             "line": {
              "color": "#E5ECF6",
              "width": 0.5
             }
            },
            "type": "barpolar"
           }
          ],
          "carpet": [
           {
            "aaxis": {
             "endlinecolor": "#2a3f5f",
             "gridcolor": "white",
             "linecolor": "white",
             "minorgridcolor": "white",
             "startlinecolor": "#2a3f5f"
            },
            "baxis": {
             "endlinecolor": "#2a3f5f",
             "gridcolor": "white",
             "linecolor": "white",
             "minorgridcolor": "white",
             "startlinecolor": "#2a3f5f"
            },
            "type": "carpet"
           }
          ],
          "choropleth": [
           {
            "colorbar": {
             "outlinewidth": 0,
             "ticks": ""
            },
            "type": "choropleth"
           }
          ],
          "contour": [
           {
            "colorbar": {
             "outlinewidth": 0,
             "ticks": ""
            },
            "colorscale": [
             [
              0,
              "#0d0887"
             ],
             [
              0.1111111111111111,
              "#46039f"
             ],
             [
              0.2222222222222222,
              "#7201a8"
             ],
             [
              0.3333333333333333,
              "#9c179e"
             ],
             [
              0.4444444444444444,
              "#bd3786"
             ],
             [
              0.5555555555555556,
              "#d8576b"
             ],
             [
              0.6666666666666666,
              "#ed7953"
             ],
             [
              0.7777777777777778,
              "#fb9f3a"
             ],
             [
              0.8888888888888888,
              "#fdca26"
             ],
             [
              1,
              "#f0f921"
             ]
            ],
            "type": "contour"
           }
          ],
          "contourcarpet": [
           {
            "colorbar": {
             "outlinewidth": 0,
             "ticks": ""
            },
            "type": "contourcarpet"
           }
          ],
          "heatmap": [
           {
            "colorbar": {
             "outlinewidth": 0,
             "ticks": ""
            },
            "colorscale": [
             [
              0,
              "#0d0887"
             ],
             [
              0.1111111111111111,
              "#46039f"
             ],
             [
              0.2222222222222222,
              "#7201a8"
             ],
             [
              0.3333333333333333,
              "#9c179e"
             ],
             [
              0.4444444444444444,
              "#bd3786"
             ],
             [
              0.5555555555555556,
              "#d8576b"
             ],
             [
              0.6666666666666666,
              "#ed7953"
             ],
             [
              0.7777777777777778,
              "#fb9f3a"
             ],
             [
              0.8888888888888888,
              "#fdca26"
             ],
             [
              1,
              "#f0f921"
             ]
            ],
            "type": "heatmap"
           }
          ],
          "heatmapgl": [
           {
            "colorbar": {
             "outlinewidth": 0,
             "ticks": ""
            },
            "colorscale": [
             [
              0,
              "#0d0887"
             ],
             [
              0.1111111111111111,
              "#46039f"
             ],
             [
              0.2222222222222222,
              "#7201a8"
             ],
             [
              0.3333333333333333,
              "#9c179e"
             ],
             [
              0.4444444444444444,
              "#bd3786"
             ],
             [
              0.5555555555555556,
              "#d8576b"
             ],
             [
              0.6666666666666666,
              "#ed7953"
             ],
             [
              0.7777777777777778,
              "#fb9f3a"
             ],
             [
              0.8888888888888888,
              "#fdca26"
             ],
             [
              1,
              "#f0f921"
             ]
            ],
            "type": "heatmapgl"
           }
          ],
          "histogram": [
           {
            "marker": {
             "colorbar": {
              "outlinewidth": 0,
              "ticks": ""
             }
            },
            "type": "histogram"
           }
          ],
          "histogram2d": [
           {
            "colorbar": {
             "outlinewidth": 0,
             "ticks": ""
            },
            "colorscale": [
             [
              0,
              "#0d0887"
             ],
             [
              0.1111111111111111,
              "#46039f"
             ],
             [
              0.2222222222222222,
              "#7201a8"
             ],
             [
              0.3333333333333333,
              "#9c179e"
             ],
             [
              0.4444444444444444,
              "#bd3786"
             ],
             [
              0.5555555555555556,
              "#d8576b"
             ],
             [
              0.6666666666666666,
              "#ed7953"
             ],
             [
              0.7777777777777778,
              "#fb9f3a"
             ],
             [
              0.8888888888888888,
              "#fdca26"
             ],
             [
              1,
              "#f0f921"
             ]
            ],
            "type": "histogram2d"
           }
          ],
          "histogram2dcontour": [
           {
            "colorbar": {
             "outlinewidth": 0,
             "ticks": ""
            },
            "colorscale": [
             [
              0,
              "#0d0887"
             ],
             [
              0.1111111111111111,
              "#46039f"
             ],
             [
              0.2222222222222222,
              "#7201a8"
             ],
             [
              0.3333333333333333,
              "#9c179e"
             ],
             [
              0.4444444444444444,
              "#bd3786"
             ],
             [
              0.5555555555555556,
              "#d8576b"
             ],
             [
              0.6666666666666666,
              "#ed7953"
             ],
             [
              0.7777777777777778,
              "#fb9f3a"
             ],
             [
              0.8888888888888888,
              "#fdca26"
             ],
             [
              1,
              "#f0f921"
             ]
            ],
            "type": "histogram2dcontour"
           }
          ],
          "mesh3d": [
           {
            "colorbar": {
             "outlinewidth": 0,
             "ticks": ""
            },
            "type": "mesh3d"
           }
          ],
          "parcoords": [
           {
            "line": {
             "colorbar": {
              "outlinewidth": 0,
              "ticks": ""
             }
            },
            "type": "parcoords"
           }
          ],
          "pie": [
           {
            "automargin": true,
            "type": "pie"
           }
          ],
          "scatter": [
           {
            "marker": {
             "colorbar": {
              "outlinewidth": 0,
              "ticks": ""
             }
            },
            "type": "scatter"
           }
          ],
          "scatter3d": [
           {
            "line": {
             "colorbar": {
              "outlinewidth": 0,
              "ticks": ""
             }
            },
            "marker": {
             "colorbar": {
              "outlinewidth": 0,
              "ticks": ""
             }
            },
            "type": "scatter3d"
           }
          ],
          "scattercarpet": [
           {
            "marker": {
             "colorbar": {
              "outlinewidth": 0,
              "ticks": ""
             }
            },
            "type": "scattercarpet"
           }
          ],
          "scattergeo": [
           {
            "marker": {
             "colorbar": {
              "outlinewidth": 0,
              "ticks": ""
             }
            },
            "type": "scattergeo"
           }
          ],
          "scattergl": [
           {
            "marker": {
             "colorbar": {
              "outlinewidth": 0,
              "ticks": ""
             }
            },
            "type": "scattergl"
           }
          ],
          "scattermapbox": [
           {
            "marker": {
             "colorbar": {
              "outlinewidth": 0,
              "ticks": ""
             }
            },
            "type": "scattermapbox"
           }
          ],
          "scatterpolar": [
           {
            "marker": {
             "colorbar": {
              "outlinewidth": 0,
              "ticks": ""
             }
            },
            "type": "scatterpolar"
           }
          ],
          "scatterpolargl": [
           {
            "marker": {
             "colorbar": {
              "outlinewidth": 0,
              "ticks": ""
             }
            },
            "type": "scatterpolargl"
           }
          ],
          "scatterternary": [
           {
            "marker": {
             "colorbar": {
              "outlinewidth": 0,
              "ticks": ""
             }
            },
            "type": "scatterternary"
           }
          ],
          "surface": [
           {
            "colorbar": {
             "outlinewidth": 0,
             "ticks": ""
            },
            "colorscale": [
             [
              0,
              "#0d0887"
             ],
             [
              0.1111111111111111,
              "#46039f"
             ],
             [
              0.2222222222222222,
              "#7201a8"
             ],
             [
              0.3333333333333333,
              "#9c179e"
             ],
             [
              0.4444444444444444,
              "#bd3786"
             ],
             [
              0.5555555555555556,
              "#d8576b"
             ],
             [
              0.6666666666666666,
              "#ed7953"
             ],
             [
              0.7777777777777778,
              "#fb9f3a"
             ],
             [
              0.8888888888888888,
              "#fdca26"
             ],
             [
              1,
              "#f0f921"
             ]
            ],
            "type": "surface"
           }
          ],
          "table": [
           {
            "cells": {
             "fill": {
              "color": "#EBF0F8"
             },
             "line": {
              "color": "white"
             }
            },
            "header": {
             "fill": {
              "color": "#C8D4E3"
             },
             "line": {
              "color": "white"
             }
            },
            "type": "table"
           }
          ]
         },
         "layout": {
          "annotationdefaults": {
           "arrowcolor": "#2a3f5f",
           "arrowhead": 0,
           "arrowwidth": 1
          },
          "autotypenumbers": "strict",
          "coloraxis": {
           "colorbar": {
            "outlinewidth": 0,
            "ticks": ""
           }
          },
          "colorscale": {
           "diverging": [
            [
             0,
             "#8e0152"
            ],
            [
             0.1,
             "#c51b7d"
            ],
            [
             0.2,
             "#de77ae"
            ],
            [
             0.3,
             "#f1b6da"
            ],
            [
             0.4,
             "#fde0ef"
            ],
            [
             0.5,
             "#f7f7f7"
            ],
            [
             0.6,
             "#e6f5d0"
            ],
            [
             0.7,
             "#b8e186"
            ],
            [
             0.8,
             "#7fbc41"
            ],
            [
             0.9,
             "#4d9221"
            ],
            [
             1,
             "#276419"
            ]
           ],
           "sequential": [
            [
             0,
             "#0d0887"
            ],
            [
             0.1111111111111111,
             "#46039f"
            ],
            [
             0.2222222222222222,
             "#7201a8"
            ],
            [
             0.3333333333333333,
             "#9c179e"
            ],
            [
             0.4444444444444444,
             "#bd3786"
            ],
            [
             0.5555555555555556,
             "#d8576b"
            ],
            [
             0.6666666666666666,
             "#ed7953"
            ],
            [
             0.7777777777777778,
             "#fb9f3a"
            ],
            [
             0.8888888888888888,
             "#fdca26"
            ],
            [
             1,
             "#f0f921"
            ]
           ],
           "sequentialminus": [
            [
             0,
             "#0d0887"
            ],
            [
             0.1111111111111111,
             "#46039f"
            ],
            [
             0.2222222222222222,
             "#7201a8"
            ],
            [
             0.3333333333333333,
             "#9c179e"
            ],
            [
             0.4444444444444444,
             "#bd3786"
            ],
            [
             0.5555555555555556,
             "#d8576b"
            ],
            [
             0.6666666666666666,
             "#ed7953"
            ],
            [
             0.7777777777777778,
             "#fb9f3a"
            ],
            [
             0.8888888888888888,
             "#fdca26"
            ],
            [
             1,
             "#f0f921"
            ]
           ]
          },
          "colorway": [
           "#636efa",
           "#EF553B",
           "#00cc96",
           "#ab63fa",
           "#FFA15A",
           "#19d3f3",
           "#FF6692",
           "#B6E880",
           "#FF97FF",
           "#FECB52"
          ],
          "font": {
           "color": "#2a3f5f"
          },
          "geo": {
           "bgcolor": "white",
           "lakecolor": "white",
           "landcolor": "#E5ECF6",
           "showlakes": true,
           "showland": true,
           "subunitcolor": "white"
          },
          "hoverlabel": {
           "align": "left"
          },
          "hovermode": "closest",
          "mapbox": {
           "style": "light"
          },
          "paper_bgcolor": "white",
          "plot_bgcolor": "#E5ECF6",
          "polar": {
           "angularaxis": {
            "gridcolor": "white",
            "linecolor": "white",
            "ticks": ""
           },
           "bgcolor": "#E5ECF6",
           "radialaxis": {
            "gridcolor": "white",
            "linecolor": "white",
            "ticks": ""
           }
          },
          "scene": {
           "xaxis": {
            "backgroundcolor": "#E5ECF6",
            "gridcolor": "white",
            "gridwidth": 2,
            "linecolor": "white",
            "showbackground": true,
            "ticks": "",
            "zerolinecolor": "white"
           },
           "yaxis": {
            "backgroundcolor": "#E5ECF6",
            "gridcolor": "white",
            "gridwidth": 2,
            "linecolor": "white",
            "showbackground": true,
            "ticks": "",
            "zerolinecolor": "white"
           },
           "zaxis": {
            "backgroundcolor": "#E5ECF6",
            "gridcolor": "white",
            "gridwidth": 2,
            "linecolor": "white",
            "showbackground": true,
            "ticks": "",
            "zerolinecolor": "white"
           }
          },
          "shapedefaults": {
           "line": {
            "color": "#2a3f5f"
           }
          },
          "ternary": {
           "aaxis": {
            "gridcolor": "white",
            "linecolor": "white",
            "ticks": ""
           },
           "baxis": {
            "gridcolor": "white",
            "linecolor": "white",
            "ticks": ""
           },
           "bgcolor": "#E5ECF6",
           "caxis": {
            "gridcolor": "white",
            "linecolor": "white",
            "ticks": ""
           }
          },
          "title": {
           "x": 0.05
          },
          "xaxis": {
           "automargin": true,
           "gridcolor": "white",
           "linecolor": "white",
           "ticks": "",
           "title": {
            "standoff": 15
           },
           "zerolinecolor": "white",
           "zerolinewidth": 2
          },
          "yaxis": {
           "automargin": true,
           "gridcolor": "white",
           "linecolor": "white",
           "ticks": "",
           "title": {
            "standoff": 15
           },
           "zerolinecolor": "white",
           "zerolinewidth": 2
          }
         }
        },
        "title": {
         "text": "Number of deaths per fiscal year"
        },
        "xaxis": {
         "anchor": "y",
         "domain": [
          0,
          1
         ],
         "title": {
          "text": "FiscalYear"
         }
        },
        "yaxis": {
         "anchor": "x",
         "domain": [
          0,
          1
         ],
         "title": {
          "text": "value"
         }
        }
       }
      },
      "text/html": [
       "<div>                            <div id=\"ed79f571-c915-4c2e-804f-d3e72259c0a9\" class=\"plotly-graph-div\" style=\"height:525px; width:100%;\"></div>            <script type=\"text/javascript\">                require([\"plotly\"], function(Plotly) {                    window.PLOTLYENV=window.PLOTLYENV || {};                                    if (document.getElementById(\"ed79f571-c915-4c2e-804f-d3e72259c0a9\")) {                    Plotly.newPlot(                        \"ed79f571-c915-4c2e-804f-d3e72259c0a9\",                        [{\"alignmentgroup\": \"True\", \"hovertemplate\": \"variable=Ethanol<br>FiscalYear=%{x}<br>value=%{y}<extra></extra>\", \"legendgroup\": \"Ethanol\", \"marker\": {\"color\": \"#636efa\"}, \"name\": \"Ethanol\", \"offsetgroup\": \"Ethanol\", \"orientation\": \"v\", \"showlegend\": true, \"textposition\": \"auto\", \"type\": \"bar\", \"x\": [\"2014\", \"2015\", \"2016\", \"2014\", \"2015\", \"2016\"], \"xaxis\": \"x\", \"y\": [29, 35, 54, 97, 139, 201], \"yaxis\": \"y\"}, {\"alignmentgroup\": \"True\", \"hovertemplate\": \"variable=Morphine_NotHeroin<br>FiscalYear=%{x}<br>value=%{y}<extra></extra>\", \"legendgroup\": \"Morphine_NotHeroin\", \"marker\": {\"color\": \"#EF553B\"}, \"name\": \"Morphine_NotHeroin\", \"offsetgroup\": \"Morphine_NotHeroin\", \"orientation\": \"v\", \"showlegend\": true, \"textposition\": \"auto\", \"type\": \"bar\", \"x\": [\"2014\", \"2015\", \"2016\", \"2014\", \"2015\", \"2016\"], \"xaxis\": \"x\", \"y\": [0, 5, 7, 0, 7, 9], \"yaxis\": \"y\"}],                        {\"barmode\": \"relative\", \"legend\": {\"title\": {\"text\": \"variable\"}, \"tracegroupgap\": 0}, \"template\": {\"data\": {\"bar\": [{\"error_x\": {\"color\": \"#2a3f5f\"}, \"error_y\": {\"color\": \"#2a3f5f\"}, \"marker\": {\"line\": {\"color\": \"#E5ECF6\", \"width\": 0.5}}, \"type\": \"bar\"}], \"barpolar\": [{\"marker\": {\"line\": {\"color\": \"#E5ECF6\", \"width\": 0.5}}, \"type\": \"barpolar\"}], \"carpet\": [{\"aaxis\": {\"endlinecolor\": \"#2a3f5f\", \"gridcolor\": \"white\", \"linecolor\": \"white\", \"minorgridcolor\": \"white\", \"startlinecolor\": \"#2a3f5f\"}, \"baxis\": {\"endlinecolor\": \"#2a3f5f\", \"gridcolor\": \"white\", \"linecolor\": \"white\", \"minorgridcolor\": \"white\", \"startlinecolor\": \"#2a3f5f\"}, \"type\": \"carpet\"}], \"choropleth\": [{\"colorbar\": {\"outlinewidth\": 0, \"ticks\": \"\"}, \"type\": \"choropleth\"}], \"contour\": [{\"colorbar\": {\"outlinewidth\": 0, \"ticks\": \"\"}, \"colorscale\": [[0.0, \"#0d0887\"], [0.1111111111111111, \"#46039f\"], [0.2222222222222222, \"#7201a8\"], [0.3333333333333333, \"#9c179e\"], [0.4444444444444444, \"#bd3786\"], [0.5555555555555556, \"#d8576b\"], [0.6666666666666666, \"#ed7953\"], [0.7777777777777778, \"#fb9f3a\"], [0.8888888888888888, \"#fdca26\"], [1.0, \"#f0f921\"]], \"type\": \"contour\"}], \"contourcarpet\": [{\"colorbar\": {\"outlinewidth\": 0, \"ticks\": \"\"}, \"type\": \"contourcarpet\"}], \"heatmap\": [{\"colorbar\": {\"outlinewidth\": 0, \"ticks\": \"\"}, \"colorscale\": [[0.0, \"#0d0887\"], [0.1111111111111111, \"#46039f\"], [0.2222222222222222, \"#7201a8\"], [0.3333333333333333, \"#9c179e\"], [0.4444444444444444, \"#bd3786\"], [0.5555555555555556, \"#d8576b\"], [0.6666666666666666, \"#ed7953\"], [0.7777777777777778, \"#fb9f3a\"], [0.8888888888888888, \"#fdca26\"], [1.0, \"#f0f921\"]], \"type\": \"heatmap\"}], \"heatmapgl\": [{\"colorbar\": {\"outlinewidth\": 0, \"ticks\": \"\"}, \"colorscale\": [[0.0, \"#0d0887\"], [0.1111111111111111, \"#46039f\"], [0.2222222222222222, \"#7201a8\"], [0.3333333333333333, \"#9c179e\"], [0.4444444444444444, \"#bd3786\"], [0.5555555555555556, \"#d8576b\"], [0.6666666666666666, \"#ed7953\"], [0.7777777777777778, \"#fb9f3a\"], [0.8888888888888888, \"#fdca26\"], [1.0, \"#f0f921\"]], \"type\": \"heatmapgl\"}], \"histogram\": [{\"marker\": {\"colorbar\": {\"outlinewidth\": 0, \"ticks\": \"\"}}, \"type\": \"histogram\"}], \"histogram2d\": [{\"colorbar\": {\"outlinewidth\": 0, \"ticks\": \"\"}, \"colorscale\": [[0.0, \"#0d0887\"], [0.1111111111111111, \"#46039f\"], [0.2222222222222222, \"#7201a8\"], [0.3333333333333333, \"#9c179e\"], [0.4444444444444444, \"#bd3786\"], [0.5555555555555556, \"#d8576b\"], [0.6666666666666666, \"#ed7953\"], [0.7777777777777778, \"#fb9f3a\"], [0.8888888888888888, \"#fdca26\"], [1.0, \"#f0f921\"]], \"type\": \"histogram2d\"}], \"histogram2dcontour\": [{\"colorbar\": {\"outlinewidth\": 0, \"ticks\": \"\"}, \"colorscale\": [[0.0, \"#0d0887\"], [0.1111111111111111, \"#46039f\"], [0.2222222222222222, \"#7201a8\"], [0.3333333333333333, \"#9c179e\"], [0.4444444444444444, \"#bd3786\"], [0.5555555555555556, \"#d8576b\"], [0.6666666666666666, \"#ed7953\"], [0.7777777777777778, \"#fb9f3a\"], [0.8888888888888888, \"#fdca26\"], [1.0, \"#f0f921\"]], \"type\": \"histogram2dcontour\"}], \"mesh3d\": [{\"colorbar\": {\"outlinewidth\": 0, \"ticks\": \"\"}, \"type\": \"mesh3d\"}], \"parcoords\": [{\"line\": {\"colorbar\": {\"outlinewidth\": 0, \"ticks\": \"\"}}, \"type\": \"parcoords\"}], \"pie\": [{\"automargin\": true, \"type\": \"pie\"}], \"scatter\": [{\"marker\": {\"colorbar\": {\"outlinewidth\": 0, \"ticks\": \"\"}}, \"type\": \"scatter\"}], \"scatter3d\": [{\"line\": {\"colorbar\": {\"outlinewidth\": 0, \"ticks\": \"\"}}, \"marker\": {\"colorbar\": {\"outlinewidth\": 0, \"ticks\": \"\"}}, \"type\": \"scatter3d\"}], \"scattercarpet\": [{\"marker\": {\"colorbar\": {\"outlinewidth\": 0, \"ticks\": \"\"}}, \"type\": \"scattercarpet\"}], \"scattergeo\": [{\"marker\": {\"colorbar\": {\"outlinewidth\": 0, \"ticks\": \"\"}}, \"type\": \"scattergeo\"}], \"scattergl\": [{\"marker\": {\"colorbar\": {\"outlinewidth\": 0, \"ticks\": \"\"}}, \"type\": \"scattergl\"}], \"scattermapbox\": [{\"marker\": {\"colorbar\": {\"outlinewidth\": 0, \"ticks\": \"\"}}, \"type\": \"scattermapbox\"}], \"scatterpolar\": [{\"marker\": {\"colorbar\": {\"outlinewidth\": 0, \"ticks\": \"\"}}, \"type\": \"scatterpolar\"}], \"scatterpolargl\": [{\"marker\": {\"colorbar\": {\"outlinewidth\": 0, \"ticks\": \"\"}}, \"type\": \"scatterpolargl\"}], \"scatterternary\": [{\"marker\": {\"colorbar\": {\"outlinewidth\": 0, \"ticks\": \"\"}}, \"type\": \"scatterternary\"}], \"surface\": [{\"colorbar\": {\"outlinewidth\": 0, \"ticks\": \"\"}, \"colorscale\": [[0.0, \"#0d0887\"], [0.1111111111111111, \"#46039f\"], [0.2222222222222222, \"#7201a8\"], [0.3333333333333333, \"#9c179e\"], [0.4444444444444444, \"#bd3786\"], [0.5555555555555556, \"#d8576b\"], [0.6666666666666666, \"#ed7953\"], [0.7777777777777778, \"#fb9f3a\"], [0.8888888888888888, \"#fdca26\"], [1.0, \"#f0f921\"]], \"type\": \"surface\"}], \"table\": [{\"cells\": {\"fill\": {\"color\": \"#EBF0F8\"}, \"line\": {\"color\": \"white\"}}, \"header\": {\"fill\": {\"color\": \"#C8D4E3\"}, \"line\": {\"color\": \"white\"}}, \"type\": \"table\"}]}, \"layout\": {\"annotationdefaults\": {\"arrowcolor\": \"#2a3f5f\", \"arrowhead\": 0, \"arrowwidth\": 1}, \"autotypenumbers\": \"strict\", \"coloraxis\": {\"colorbar\": {\"outlinewidth\": 0, \"ticks\": \"\"}}, \"colorscale\": {\"diverging\": [[0, \"#8e0152\"], [0.1, \"#c51b7d\"], [0.2, \"#de77ae\"], [0.3, \"#f1b6da\"], [0.4, \"#fde0ef\"], [0.5, \"#f7f7f7\"], [0.6, \"#e6f5d0\"], [0.7, \"#b8e186\"], [0.8, \"#7fbc41\"], [0.9, \"#4d9221\"], [1, \"#276419\"]], \"sequential\": [[0.0, \"#0d0887\"], [0.1111111111111111, \"#46039f\"], [0.2222222222222222, \"#7201a8\"], [0.3333333333333333, \"#9c179e\"], [0.4444444444444444, \"#bd3786\"], [0.5555555555555556, \"#d8576b\"], [0.6666666666666666, \"#ed7953\"], [0.7777777777777778, \"#fb9f3a\"], [0.8888888888888888, \"#fdca26\"], [1.0, \"#f0f921\"]], \"sequentialminus\": [[0.0, \"#0d0887\"], [0.1111111111111111, \"#46039f\"], [0.2222222222222222, \"#7201a8\"], [0.3333333333333333, \"#9c179e\"], [0.4444444444444444, \"#bd3786\"], [0.5555555555555556, \"#d8576b\"], [0.6666666666666666, \"#ed7953\"], [0.7777777777777778, \"#fb9f3a\"], [0.8888888888888888, \"#fdca26\"], [1.0, \"#f0f921\"]]}, \"colorway\": [\"#636efa\", \"#EF553B\", \"#00cc96\", \"#ab63fa\", \"#FFA15A\", \"#19d3f3\", \"#FF6692\", \"#B6E880\", \"#FF97FF\", \"#FECB52\"], \"font\": {\"color\": \"#2a3f5f\"}, \"geo\": {\"bgcolor\": \"white\", \"lakecolor\": \"white\", \"landcolor\": \"#E5ECF6\", \"showlakes\": true, \"showland\": true, \"subunitcolor\": \"white\"}, \"hoverlabel\": {\"align\": \"left\"}, \"hovermode\": \"closest\", \"mapbox\": {\"style\": \"light\"}, \"paper_bgcolor\": \"white\", \"plot_bgcolor\": \"#E5ECF6\", \"polar\": {\"angularaxis\": {\"gridcolor\": \"white\", \"linecolor\": \"white\", \"ticks\": \"\"}, \"bgcolor\": \"#E5ECF6\", \"radialaxis\": {\"gridcolor\": \"white\", \"linecolor\": \"white\", \"ticks\": \"\"}}, \"scene\": {\"xaxis\": {\"backgroundcolor\": \"#E5ECF6\", \"gridcolor\": \"white\", \"gridwidth\": 2, \"linecolor\": \"white\", \"showbackground\": true, \"ticks\": \"\", \"zerolinecolor\": \"white\"}, \"yaxis\": {\"backgroundcolor\": \"#E5ECF6\", \"gridcolor\": \"white\", \"gridwidth\": 2, \"linecolor\": \"white\", \"showbackground\": true, \"ticks\": \"\", \"zerolinecolor\": \"white\"}, \"zaxis\": {\"backgroundcolor\": \"#E5ECF6\", \"gridcolor\": \"white\", \"gridwidth\": 2, \"linecolor\": \"white\", \"showbackground\": true, \"ticks\": \"\", \"zerolinecolor\": \"white\"}}, \"shapedefaults\": {\"line\": {\"color\": \"#2a3f5f\"}}, \"ternary\": {\"aaxis\": {\"gridcolor\": \"white\", \"linecolor\": \"white\", \"ticks\": \"\"}, \"baxis\": {\"gridcolor\": \"white\", \"linecolor\": \"white\", \"ticks\": \"\"}, \"bgcolor\": \"#E5ECF6\", \"caxis\": {\"gridcolor\": \"white\", \"linecolor\": \"white\", \"ticks\": \"\"}}, \"title\": {\"x\": 0.05}, \"xaxis\": {\"automargin\": true, \"gridcolor\": \"white\", \"linecolor\": \"white\", \"ticks\": \"\", \"title\": {\"standoff\": 15}, \"zerolinecolor\": \"white\", \"zerolinewidth\": 2}, \"yaxis\": {\"automargin\": true, \"gridcolor\": \"white\", \"linecolor\": \"white\", \"ticks\": \"\", \"title\": {\"standoff\": 15}, \"zerolinecolor\": \"white\", \"zerolinewidth\": 2}}}, \"title\": {\"text\": \"Number of deaths per fiscal year\"}, \"xaxis\": {\"anchor\": \"y\", \"domain\": [0.0, 1.0], \"title\": {\"text\": \"FiscalYear\"}}, \"yaxis\": {\"anchor\": \"x\", \"domain\": [0.0, 1.0], \"title\": {\"text\": \"value\"}}},                        {\"responsive\": true}                    ).then(function(){\n",
       "                            \n",
       "var gd = document.getElementById('ed79f571-c915-4c2e-804f-d3e72259c0a9');\n",
       "var x = new MutationObserver(function (mutations, observer) {{\n",
       "        var display = window.getComputedStyle(gd).display;\n",
       "        if (!display || display === 'none') {{\n",
       "            console.log([gd, 'removed!']);\n",
       "            Plotly.purge(gd);\n",
       "            observer.disconnect();\n",
       "        }}\n",
       "}});\n",
       "\n",
       "// Listen for the removal of the full notebook cells\n",
       "var notebookContainer = gd.closest('#notebook-container');\n",
       "if (notebookContainer) {{\n",
       "    x.observe(notebookContainer, {childList: true});\n",
       "}}\n",
       "\n",
       "// Listen for the clearing of the current output cell\n",
       "var outputEl = gd.closest('.output');\n",
       "if (outputEl) {{\n",
       "    x.observe(outputEl, {childList: true});\n",
       "}}\n",
       "\n",
       "                        })                };                });            </script>        </div>"
      ]
     },
     "metadata": {},
     "output_type": "display_data"
    }
   ],
   "source": [
    "#Stacked plot of \"Ethanol\", \"Morphine_NotHeroin\" related deaths as per Fiscal year\n",
    "fig = px.bar(Drugs_Grouped, x=\"FiscalYear\", y=[\"Ethanol\", \"Morphine_NotHeroin\"], title=\"Number of deaths per fiscal year\")\n",
    "fig.show()"
   ]
  },
  {
   "cell_type": "code",
   "execution_count": 245,
   "metadata": {},
   "outputs": [
    {
     "data": {
      "application/vnd.plotly.v1+json": {
       "config": {
        "plotlyServerURL": "https://plot.ly"
       },
       "data": [
        {
         "alignmentgroup": "True",
         "hovertemplate": "variable=Ethanol<br>Sex=%{x}<br>value=%{y}<extra></extra>",
         "legendgroup": "Ethanol",
         "marker": {
          "color": "#636efa"
         },
         "name": "Ethanol",
         "offsetgroup": "Ethanol",
         "orientation": "v",
         "showlegend": true,
         "textposition": "auto",
         "type": "bar",
         "x": [
          "Female",
          "Female",
          "Female",
          "Male",
          "Male",
          "Male"
         ],
         "xaxis": "x",
         "y": [
          29,
          35,
          54,
          97,
          139,
          201
         ],
         "yaxis": "y"
        },
        {
         "alignmentgroup": "True",
         "hovertemplate": "variable=Morphine_NotHeroin<br>Sex=%{x}<br>value=%{y}<extra></extra>",
         "legendgroup": "Morphine_NotHeroin",
         "marker": {
          "color": "#EF553B"
         },
         "name": "Morphine_NotHeroin",
         "offsetgroup": "Morphine_NotHeroin",
         "orientation": "v",
         "showlegend": true,
         "textposition": "auto",
         "type": "bar",
         "x": [
          "Female",
          "Female",
          "Female",
          "Male",
          "Male",
          "Male"
         ],
         "xaxis": "x",
         "y": [
          0,
          5,
          7,
          0,
          7,
          9
         ],
         "yaxis": "y"
        }
       ],
       "layout": {
        "barmode": "relative",
        "legend": {
         "title": {
          "text": "variable"
         },
         "tracegroupgap": 0
        },
        "template": {
         "data": {
          "bar": [
           {
            "error_x": {
             "color": "#2a3f5f"
            },
            "error_y": {
             "color": "#2a3f5f"
            },
            "marker": {
             "line": {
              "color": "#E5ECF6",
              "width": 0.5
             }
            },
            "type": "bar"
           }
          ],
          "barpolar": [
           {
            "marker": {
             "line": {
              "color": "#E5ECF6",
              "width": 0.5
             }
            },
            "type": "barpolar"
           }
          ],
          "carpet": [
           {
            "aaxis": {
             "endlinecolor": "#2a3f5f",
             "gridcolor": "white",
             "linecolor": "white",
             "minorgridcolor": "white",
             "startlinecolor": "#2a3f5f"
            },
            "baxis": {
             "endlinecolor": "#2a3f5f",
             "gridcolor": "white",
             "linecolor": "white",
             "minorgridcolor": "white",
             "startlinecolor": "#2a3f5f"
            },
            "type": "carpet"
           }
          ],
          "choropleth": [
           {
            "colorbar": {
             "outlinewidth": 0,
             "ticks": ""
            },
            "type": "choropleth"
           }
          ],
          "contour": [
           {
            "colorbar": {
             "outlinewidth": 0,
             "ticks": ""
            },
            "colorscale": [
             [
              0,
              "#0d0887"
             ],
             [
              0.1111111111111111,
              "#46039f"
             ],
             [
              0.2222222222222222,
              "#7201a8"
             ],
             [
              0.3333333333333333,
              "#9c179e"
             ],
             [
              0.4444444444444444,
              "#bd3786"
             ],
             [
              0.5555555555555556,
              "#d8576b"
             ],
             [
              0.6666666666666666,
              "#ed7953"
             ],
             [
              0.7777777777777778,
              "#fb9f3a"
             ],
             [
              0.8888888888888888,
              "#fdca26"
             ],
             [
              1,
              "#f0f921"
             ]
            ],
            "type": "contour"
           }
          ],
          "contourcarpet": [
           {
            "colorbar": {
             "outlinewidth": 0,
             "ticks": ""
            },
            "type": "contourcarpet"
           }
          ],
          "heatmap": [
           {
            "colorbar": {
             "outlinewidth": 0,
             "ticks": ""
            },
            "colorscale": [
             [
              0,
              "#0d0887"
             ],
             [
              0.1111111111111111,
              "#46039f"
             ],
             [
              0.2222222222222222,
              "#7201a8"
             ],
             [
              0.3333333333333333,
              "#9c179e"
             ],
             [
              0.4444444444444444,
              "#bd3786"
             ],
             [
              0.5555555555555556,
              "#d8576b"
             ],
             [
              0.6666666666666666,
              "#ed7953"
             ],
             [
              0.7777777777777778,
              "#fb9f3a"
             ],
             [
              0.8888888888888888,
              "#fdca26"
             ],
             [
              1,
              "#f0f921"
             ]
            ],
            "type": "heatmap"
           }
          ],
          "heatmapgl": [
           {
            "colorbar": {
             "outlinewidth": 0,
             "ticks": ""
            },
            "colorscale": [
             [
              0,
              "#0d0887"
             ],
             [
              0.1111111111111111,
              "#46039f"
             ],
             [
              0.2222222222222222,
              "#7201a8"
             ],
             [
              0.3333333333333333,
              "#9c179e"
             ],
             [
              0.4444444444444444,
              "#bd3786"
             ],
             [
              0.5555555555555556,
              "#d8576b"
             ],
             [
              0.6666666666666666,
              "#ed7953"
             ],
             [
              0.7777777777777778,
              "#fb9f3a"
             ],
             [
              0.8888888888888888,
              "#fdca26"
             ],
             [
              1,
              "#f0f921"
             ]
            ],
            "type": "heatmapgl"
           }
          ],
          "histogram": [
           {
            "marker": {
             "colorbar": {
              "outlinewidth": 0,
              "ticks": ""
             }
            },
            "type": "histogram"
           }
          ],
          "histogram2d": [
           {
            "colorbar": {
             "outlinewidth": 0,
             "ticks": ""
            },
            "colorscale": [
             [
              0,
              "#0d0887"
             ],
             [
              0.1111111111111111,
              "#46039f"
             ],
             [
              0.2222222222222222,
              "#7201a8"
             ],
             [
              0.3333333333333333,
              "#9c179e"
             ],
             [
              0.4444444444444444,
              "#bd3786"
             ],
             [
              0.5555555555555556,
              "#d8576b"
             ],
             [
              0.6666666666666666,
              "#ed7953"
             ],
             [
              0.7777777777777778,
              "#fb9f3a"
             ],
             [
              0.8888888888888888,
              "#fdca26"
             ],
             [
              1,
              "#f0f921"
             ]
            ],
            "type": "histogram2d"
           }
          ],
          "histogram2dcontour": [
           {
            "colorbar": {
             "outlinewidth": 0,
             "ticks": ""
            },
            "colorscale": [
             [
              0,
              "#0d0887"
             ],
             [
              0.1111111111111111,
              "#46039f"
             ],
             [
              0.2222222222222222,
              "#7201a8"
             ],
             [
              0.3333333333333333,
              "#9c179e"
             ],
             [
              0.4444444444444444,
              "#bd3786"
             ],
             [
              0.5555555555555556,
              "#d8576b"
             ],
             [
              0.6666666666666666,
              "#ed7953"
             ],
             [
              0.7777777777777778,
              "#fb9f3a"
             ],
             [
              0.8888888888888888,
              "#fdca26"
             ],
             [
              1,
              "#f0f921"
             ]
            ],
            "type": "histogram2dcontour"
           }
          ],
          "mesh3d": [
           {
            "colorbar": {
             "outlinewidth": 0,
             "ticks": ""
            },
            "type": "mesh3d"
           }
          ],
          "parcoords": [
           {
            "line": {
             "colorbar": {
              "outlinewidth": 0,
              "ticks": ""
             }
            },
            "type": "parcoords"
           }
          ],
          "pie": [
           {
            "automargin": true,
            "type": "pie"
           }
          ],
          "scatter": [
           {
            "marker": {
             "colorbar": {
              "outlinewidth": 0,
              "ticks": ""
             }
            },
            "type": "scatter"
           }
          ],
          "scatter3d": [
           {
            "line": {
             "colorbar": {
              "outlinewidth": 0,
              "ticks": ""
             }
            },
            "marker": {
             "colorbar": {
              "outlinewidth": 0,
              "ticks": ""
             }
            },
            "type": "scatter3d"
           }
          ],
          "scattercarpet": [
           {
            "marker": {
             "colorbar": {
              "outlinewidth": 0,
              "ticks": ""
             }
            },
            "type": "scattercarpet"
           }
          ],
          "scattergeo": [
           {
            "marker": {
             "colorbar": {
              "outlinewidth": 0,
              "ticks": ""
             }
            },
            "type": "scattergeo"
           }
          ],
          "scattergl": [
           {
            "marker": {
             "colorbar": {
              "outlinewidth": 0,
              "ticks": ""
             }
            },
            "type": "scattergl"
           }
          ],
          "scattermapbox": [
           {
            "marker": {
             "colorbar": {
              "outlinewidth": 0,
              "ticks": ""
             }
            },
            "type": "scattermapbox"
           }
          ],
          "scatterpolar": [
           {
            "marker": {
             "colorbar": {
              "outlinewidth": 0,
              "ticks": ""
             }
            },
            "type": "scatterpolar"
           }
          ],
          "scatterpolargl": [
           {
            "marker": {
             "colorbar": {
              "outlinewidth": 0,
              "ticks": ""
             }
            },
            "type": "scatterpolargl"
           }
          ],
          "scatterternary": [
           {
            "marker": {
             "colorbar": {
              "outlinewidth": 0,
              "ticks": ""
             }
            },
            "type": "scatterternary"
           }
          ],
          "surface": [
           {
            "colorbar": {
             "outlinewidth": 0,
             "ticks": ""
            },
            "colorscale": [
             [
              0,
              "#0d0887"
             ],
             [
              0.1111111111111111,
              "#46039f"
             ],
             [
              0.2222222222222222,
              "#7201a8"
             ],
             [
              0.3333333333333333,
              "#9c179e"
             ],
             [
              0.4444444444444444,
              "#bd3786"
             ],
             [
              0.5555555555555556,
              "#d8576b"
             ],
             [
              0.6666666666666666,
              "#ed7953"
             ],
             [
              0.7777777777777778,
              "#fb9f3a"
             ],
             [
              0.8888888888888888,
              "#fdca26"
             ],
             [
              1,
              "#f0f921"
             ]
            ],
            "type": "surface"
           }
          ],
          "table": [
           {
            "cells": {
             "fill": {
              "color": "#EBF0F8"
             },
             "line": {
              "color": "white"
             }
            },
            "header": {
             "fill": {
              "color": "#C8D4E3"
             },
             "line": {
              "color": "white"
             }
            },
            "type": "table"
           }
          ]
         },
         "layout": {
          "annotationdefaults": {
           "arrowcolor": "#2a3f5f",
           "arrowhead": 0,
           "arrowwidth": 1
          },
          "autotypenumbers": "strict",
          "coloraxis": {
           "colorbar": {
            "outlinewidth": 0,
            "ticks": ""
           }
          },
          "colorscale": {
           "diverging": [
            [
             0,
             "#8e0152"
            ],
            [
             0.1,
             "#c51b7d"
            ],
            [
             0.2,
             "#de77ae"
            ],
            [
             0.3,
             "#f1b6da"
            ],
            [
             0.4,
             "#fde0ef"
            ],
            [
             0.5,
             "#f7f7f7"
            ],
            [
             0.6,
             "#e6f5d0"
            ],
            [
             0.7,
             "#b8e186"
            ],
            [
             0.8,
             "#7fbc41"
            ],
            [
             0.9,
             "#4d9221"
            ],
            [
             1,
             "#276419"
            ]
           ],
           "sequential": [
            [
             0,
             "#0d0887"
            ],
            [
             0.1111111111111111,
             "#46039f"
            ],
            [
             0.2222222222222222,
             "#7201a8"
            ],
            [
             0.3333333333333333,
             "#9c179e"
            ],
            [
             0.4444444444444444,
             "#bd3786"
            ],
            [
             0.5555555555555556,
             "#d8576b"
            ],
            [
             0.6666666666666666,
             "#ed7953"
            ],
            [
             0.7777777777777778,
             "#fb9f3a"
            ],
            [
             0.8888888888888888,
             "#fdca26"
            ],
            [
             1,
             "#f0f921"
            ]
           ],
           "sequentialminus": [
            [
             0,
             "#0d0887"
            ],
            [
             0.1111111111111111,
             "#46039f"
            ],
            [
             0.2222222222222222,
             "#7201a8"
            ],
            [
             0.3333333333333333,
             "#9c179e"
            ],
            [
             0.4444444444444444,
             "#bd3786"
            ],
            [
             0.5555555555555556,
             "#d8576b"
            ],
            [
             0.6666666666666666,
             "#ed7953"
            ],
            [
             0.7777777777777778,
             "#fb9f3a"
            ],
            [
             0.8888888888888888,
             "#fdca26"
            ],
            [
             1,
             "#f0f921"
            ]
           ]
          },
          "colorway": [
           "#636efa",
           "#EF553B",
           "#00cc96",
           "#ab63fa",
           "#FFA15A",
           "#19d3f3",
           "#FF6692",
           "#B6E880",
           "#FF97FF",
           "#FECB52"
          ],
          "font": {
           "color": "#2a3f5f"
          },
          "geo": {
           "bgcolor": "white",
           "lakecolor": "white",
           "landcolor": "#E5ECF6",
           "showlakes": true,
           "showland": true,
           "subunitcolor": "white"
          },
          "hoverlabel": {
           "align": "left"
          },
          "hovermode": "closest",
          "mapbox": {
           "style": "light"
          },
          "paper_bgcolor": "white",
          "plot_bgcolor": "#E5ECF6",
          "polar": {
           "angularaxis": {
            "gridcolor": "white",
            "linecolor": "white",
            "ticks": ""
           },
           "bgcolor": "#E5ECF6",
           "radialaxis": {
            "gridcolor": "white",
            "linecolor": "white",
            "ticks": ""
           }
          },
          "scene": {
           "xaxis": {
            "backgroundcolor": "#E5ECF6",
            "gridcolor": "white",
            "gridwidth": 2,
            "linecolor": "white",
            "showbackground": true,
            "ticks": "",
            "zerolinecolor": "white"
           },
           "yaxis": {
            "backgroundcolor": "#E5ECF6",
            "gridcolor": "white",
            "gridwidth": 2,
            "linecolor": "white",
            "showbackground": true,
            "ticks": "",
            "zerolinecolor": "white"
           },
           "zaxis": {
            "backgroundcolor": "#E5ECF6",
            "gridcolor": "white",
            "gridwidth": 2,
            "linecolor": "white",
            "showbackground": true,
            "ticks": "",
            "zerolinecolor": "white"
           }
          },
          "shapedefaults": {
           "line": {
            "color": "#2a3f5f"
           }
          },
          "ternary": {
           "aaxis": {
            "gridcolor": "white",
            "linecolor": "white",
            "ticks": ""
           },
           "baxis": {
            "gridcolor": "white",
            "linecolor": "white",
            "ticks": ""
           },
           "bgcolor": "#E5ECF6",
           "caxis": {
            "gridcolor": "white",
            "linecolor": "white",
            "ticks": ""
           }
          },
          "title": {
           "x": 0.05
          },
          "xaxis": {
           "automargin": true,
           "gridcolor": "white",
           "linecolor": "white",
           "ticks": "",
           "title": {
            "standoff": 15
           },
           "zerolinecolor": "white",
           "zerolinewidth": 2
          },
          "yaxis": {
           "automargin": true,
           "gridcolor": "white",
           "linecolor": "white",
           "ticks": "",
           "title": {
            "standoff": 15
           },
           "zerolinecolor": "white",
           "zerolinewidth": 2
          }
         }
        },
        "title": {
         "text": "Number of deaths per gender"
        },
        "xaxis": {
         "anchor": "y",
         "domain": [
          0,
          1
         ],
         "title": {
          "text": "Sex"
         }
        },
        "yaxis": {
         "anchor": "x",
         "domain": [
          0,
          1
         ],
         "title": {
          "text": "value"
         }
        }
       }
      },
      "text/html": [
       "<div>                            <div id=\"709bf92f-804c-4891-bb95-d23b1712754d\" class=\"plotly-graph-div\" style=\"height:525px; width:100%;\"></div>            <script type=\"text/javascript\">                require([\"plotly\"], function(Plotly) {                    window.PLOTLYENV=window.PLOTLYENV || {};                                    if (document.getElementById(\"709bf92f-804c-4891-bb95-d23b1712754d\")) {                    Plotly.newPlot(                        \"709bf92f-804c-4891-bb95-d23b1712754d\",                        [{\"alignmentgroup\": \"True\", \"hovertemplate\": \"variable=Ethanol<br>Sex=%{x}<br>value=%{y}<extra></extra>\", \"legendgroup\": \"Ethanol\", \"marker\": {\"color\": \"#636efa\"}, \"name\": \"Ethanol\", \"offsetgroup\": \"Ethanol\", \"orientation\": \"v\", \"showlegend\": true, \"textposition\": \"auto\", \"type\": \"bar\", \"x\": [\"Female\", \"Female\", \"Female\", \"Male\", \"Male\", \"Male\"], \"xaxis\": \"x\", \"y\": [29, 35, 54, 97, 139, 201], \"yaxis\": \"y\"}, {\"alignmentgroup\": \"True\", \"hovertemplate\": \"variable=Morphine_NotHeroin<br>Sex=%{x}<br>value=%{y}<extra></extra>\", \"legendgroup\": \"Morphine_NotHeroin\", \"marker\": {\"color\": \"#EF553B\"}, \"name\": \"Morphine_NotHeroin\", \"offsetgroup\": \"Morphine_NotHeroin\", \"orientation\": \"v\", \"showlegend\": true, \"textposition\": \"auto\", \"type\": \"bar\", \"x\": [\"Female\", \"Female\", \"Female\", \"Male\", \"Male\", \"Male\"], \"xaxis\": \"x\", \"y\": [0, 5, 7, 0, 7, 9], \"yaxis\": \"y\"}],                        {\"barmode\": \"relative\", \"legend\": {\"title\": {\"text\": \"variable\"}, \"tracegroupgap\": 0}, \"template\": {\"data\": {\"bar\": [{\"error_x\": {\"color\": \"#2a3f5f\"}, \"error_y\": {\"color\": \"#2a3f5f\"}, \"marker\": {\"line\": {\"color\": \"#E5ECF6\", \"width\": 0.5}}, \"type\": \"bar\"}], \"barpolar\": [{\"marker\": {\"line\": {\"color\": \"#E5ECF6\", \"width\": 0.5}}, \"type\": \"barpolar\"}], \"carpet\": [{\"aaxis\": {\"endlinecolor\": \"#2a3f5f\", \"gridcolor\": \"white\", \"linecolor\": \"white\", \"minorgridcolor\": \"white\", \"startlinecolor\": \"#2a3f5f\"}, \"baxis\": {\"endlinecolor\": \"#2a3f5f\", \"gridcolor\": \"white\", \"linecolor\": \"white\", \"minorgridcolor\": \"white\", \"startlinecolor\": \"#2a3f5f\"}, \"type\": \"carpet\"}], \"choropleth\": [{\"colorbar\": {\"outlinewidth\": 0, \"ticks\": \"\"}, \"type\": \"choropleth\"}], \"contour\": [{\"colorbar\": {\"outlinewidth\": 0, \"ticks\": \"\"}, \"colorscale\": [[0.0, \"#0d0887\"], [0.1111111111111111, \"#46039f\"], [0.2222222222222222, \"#7201a8\"], [0.3333333333333333, \"#9c179e\"], [0.4444444444444444, \"#bd3786\"], [0.5555555555555556, \"#d8576b\"], [0.6666666666666666, \"#ed7953\"], [0.7777777777777778, \"#fb9f3a\"], [0.8888888888888888, \"#fdca26\"], [1.0, \"#f0f921\"]], \"type\": \"contour\"}], \"contourcarpet\": [{\"colorbar\": {\"outlinewidth\": 0, \"ticks\": \"\"}, \"type\": \"contourcarpet\"}], \"heatmap\": [{\"colorbar\": {\"outlinewidth\": 0, \"ticks\": \"\"}, \"colorscale\": [[0.0, \"#0d0887\"], [0.1111111111111111, \"#46039f\"], [0.2222222222222222, \"#7201a8\"], [0.3333333333333333, \"#9c179e\"], [0.4444444444444444, \"#bd3786\"], [0.5555555555555556, \"#d8576b\"], [0.6666666666666666, \"#ed7953\"], [0.7777777777777778, \"#fb9f3a\"], [0.8888888888888888, \"#fdca26\"], [1.0, \"#f0f921\"]], \"type\": \"heatmap\"}], \"heatmapgl\": [{\"colorbar\": {\"outlinewidth\": 0, \"ticks\": \"\"}, \"colorscale\": [[0.0, \"#0d0887\"], [0.1111111111111111, \"#46039f\"], [0.2222222222222222, \"#7201a8\"], [0.3333333333333333, \"#9c179e\"], [0.4444444444444444, \"#bd3786\"], [0.5555555555555556, \"#d8576b\"], [0.6666666666666666, \"#ed7953\"], [0.7777777777777778, \"#fb9f3a\"], [0.8888888888888888, \"#fdca26\"], [1.0, \"#f0f921\"]], \"type\": \"heatmapgl\"}], \"histogram\": [{\"marker\": {\"colorbar\": {\"outlinewidth\": 0, \"ticks\": \"\"}}, \"type\": \"histogram\"}], \"histogram2d\": [{\"colorbar\": {\"outlinewidth\": 0, \"ticks\": \"\"}, \"colorscale\": [[0.0, \"#0d0887\"], [0.1111111111111111, \"#46039f\"], [0.2222222222222222, \"#7201a8\"], [0.3333333333333333, \"#9c179e\"], [0.4444444444444444, \"#bd3786\"], [0.5555555555555556, \"#d8576b\"], [0.6666666666666666, \"#ed7953\"], [0.7777777777777778, \"#fb9f3a\"], [0.8888888888888888, \"#fdca26\"], [1.0, \"#f0f921\"]], \"type\": \"histogram2d\"}], \"histogram2dcontour\": [{\"colorbar\": {\"outlinewidth\": 0, \"ticks\": \"\"}, \"colorscale\": [[0.0, \"#0d0887\"], [0.1111111111111111, \"#46039f\"], [0.2222222222222222, \"#7201a8\"], [0.3333333333333333, \"#9c179e\"], [0.4444444444444444, \"#bd3786\"], [0.5555555555555556, \"#d8576b\"], [0.6666666666666666, \"#ed7953\"], [0.7777777777777778, \"#fb9f3a\"], [0.8888888888888888, \"#fdca26\"], [1.0, \"#f0f921\"]], \"type\": \"histogram2dcontour\"}], \"mesh3d\": [{\"colorbar\": {\"outlinewidth\": 0, \"ticks\": \"\"}, \"type\": \"mesh3d\"}], \"parcoords\": [{\"line\": {\"colorbar\": {\"outlinewidth\": 0, \"ticks\": \"\"}}, \"type\": \"parcoords\"}], \"pie\": [{\"automargin\": true, \"type\": \"pie\"}], \"scatter\": [{\"marker\": {\"colorbar\": {\"outlinewidth\": 0, \"ticks\": \"\"}}, \"type\": \"scatter\"}], \"scatter3d\": [{\"line\": {\"colorbar\": {\"outlinewidth\": 0, \"ticks\": \"\"}}, \"marker\": {\"colorbar\": {\"outlinewidth\": 0, \"ticks\": \"\"}}, \"type\": \"scatter3d\"}], \"scattercarpet\": [{\"marker\": {\"colorbar\": {\"outlinewidth\": 0, \"ticks\": \"\"}}, \"type\": \"scattercarpet\"}], \"scattergeo\": [{\"marker\": {\"colorbar\": {\"outlinewidth\": 0, \"ticks\": \"\"}}, \"type\": \"scattergeo\"}], \"scattergl\": [{\"marker\": {\"colorbar\": {\"outlinewidth\": 0, \"ticks\": \"\"}}, \"type\": \"scattergl\"}], \"scattermapbox\": [{\"marker\": {\"colorbar\": {\"outlinewidth\": 0, \"ticks\": \"\"}}, \"type\": \"scattermapbox\"}], \"scatterpolar\": [{\"marker\": {\"colorbar\": {\"outlinewidth\": 0, \"ticks\": \"\"}}, \"type\": \"scatterpolar\"}], \"scatterpolargl\": [{\"marker\": {\"colorbar\": {\"outlinewidth\": 0, \"ticks\": \"\"}}, \"type\": \"scatterpolargl\"}], \"scatterternary\": [{\"marker\": {\"colorbar\": {\"outlinewidth\": 0, \"ticks\": \"\"}}, \"type\": \"scatterternary\"}], \"surface\": [{\"colorbar\": {\"outlinewidth\": 0, \"ticks\": \"\"}, \"colorscale\": [[0.0, \"#0d0887\"], [0.1111111111111111, \"#46039f\"], [0.2222222222222222, \"#7201a8\"], [0.3333333333333333, \"#9c179e\"], [0.4444444444444444, \"#bd3786\"], [0.5555555555555556, \"#d8576b\"], [0.6666666666666666, \"#ed7953\"], [0.7777777777777778, \"#fb9f3a\"], [0.8888888888888888, \"#fdca26\"], [1.0, \"#f0f921\"]], \"type\": \"surface\"}], \"table\": [{\"cells\": {\"fill\": {\"color\": \"#EBF0F8\"}, \"line\": {\"color\": \"white\"}}, \"header\": {\"fill\": {\"color\": \"#C8D4E3\"}, \"line\": {\"color\": \"white\"}}, \"type\": \"table\"}]}, \"layout\": {\"annotationdefaults\": {\"arrowcolor\": \"#2a3f5f\", \"arrowhead\": 0, \"arrowwidth\": 1}, \"autotypenumbers\": \"strict\", \"coloraxis\": {\"colorbar\": {\"outlinewidth\": 0, \"ticks\": \"\"}}, \"colorscale\": {\"diverging\": [[0, \"#8e0152\"], [0.1, \"#c51b7d\"], [0.2, \"#de77ae\"], [0.3, \"#f1b6da\"], [0.4, \"#fde0ef\"], [0.5, \"#f7f7f7\"], [0.6, \"#e6f5d0\"], [0.7, \"#b8e186\"], [0.8, \"#7fbc41\"], [0.9, \"#4d9221\"], [1, \"#276419\"]], \"sequential\": [[0.0, \"#0d0887\"], [0.1111111111111111, \"#46039f\"], [0.2222222222222222, \"#7201a8\"], [0.3333333333333333, \"#9c179e\"], [0.4444444444444444, \"#bd3786\"], [0.5555555555555556, \"#d8576b\"], [0.6666666666666666, \"#ed7953\"], [0.7777777777777778, \"#fb9f3a\"], [0.8888888888888888, \"#fdca26\"], [1.0, \"#f0f921\"]], \"sequentialminus\": [[0.0, \"#0d0887\"], [0.1111111111111111, \"#46039f\"], [0.2222222222222222, \"#7201a8\"], [0.3333333333333333, \"#9c179e\"], [0.4444444444444444, \"#bd3786\"], [0.5555555555555556, \"#d8576b\"], [0.6666666666666666, \"#ed7953\"], [0.7777777777777778, \"#fb9f3a\"], [0.8888888888888888, \"#fdca26\"], [1.0, \"#f0f921\"]]}, \"colorway\": [\"#636efa\", \"#EF553B\", \"#00cc96\", \"#ab63fa\", \"#FFA15A\", \"#19d3f3\", \"#FF6692\", \"#B6E880\", \"#FF97FF\", \"#FECB52\"], \"font\": {\"color\": \"#2a3f5f\"}, \"geo\": {\"bgcolor\": \"white\", \"lakecolor\": \"white\", \"landcolor\": \"#E5ECF6\", \"showlakes\": true, \"showland\": true, \"subunitcolor\": \"white\"}, \"hoverlabel\": {\"align\": \"left\"}, \"hovermode\": \"closest\", \"mapbox\": {\"style\": \"light\"}, \"paper_bgcolor\": \"white\", \"plot_bgcolor\": \"#E5ECF6\", \"polar\": {\"angularaxis\": {\"gridcolor\": \"white\", \"linecolor\": \"white\", \"ticks\": \"\"}, \"bgcolor\": \"#E5ECF6\", \"radialaxis\": {\"gridcolor\": \"white\", \"linecolor\": \"white\", \"ticks\": \"\"}}, \"scene\": {\"xaxis\": {\"backgroundcolor\": \"#E5ECF6\", \"gridcolor\": \"white\", \"gridwidth\": 2, \"linecolor\": \"white\", \"showbackground\": true, \"ticks\": \"\", \"zerolinecolor\": \"white\"}, \"yaxis\": {\"backgroundcolor\": \"#E5ECF6\", \"gridcolor\": \"white\", \"gridwidth\": 2, \"linecolor\": \"white\", \"showbackground\": true, \"ticks\": \"\", \"zerolinecolor\": \"white\"}, \"zaxis\": {\"backgroundcolor\": \"#E5ECF6\", \"gridcolor\": \"white\", \"gridwidth\": 2, \"linecolor\": \"white\", \"showbackground\": true, \"ticks\": \"\", \"zerolinecolor\": \"white\"}}, \"shapedefaults\": {\"line\": {\"color\": \"#2a3f5f\"}}, \"ternary\": {\"aaxis\": {\"gridcolor\": \"white\", \"linecolor\": \"white\", \"ticks\": \"\"}, \"baxis\": {\"gridcolor\": \"white\", \"linecolor\": \"white\", \"ticks\": \"\"}, \"bgcolor\": \"#E5ECF6\", \"caxis\": {\"gridcolor\": \"white\", \"linecolor\": \"white\", \"ticks\": \"\"}}, \"title\": {\"x\": 0.05}, \"xaxis\": {\"automargin\": true, \"gridcolor\": \"white\", \"linecolor\": \"white\", \"ticks\": \"\", \"title\": {\"standoff\": 15}, \"zerolinecolor\": \"white\", \"zerolinewidth\": 2}, \"yaxis\": {\"automargin\": true, \"gridcolor\": \"white\", \"linecolor\": \"white\", \"ticks\": \"\", \"title\": {\"standoff\": 15}, \"zerolinecolor\": \"white\", \"zerolinewidth\": 2}}}, \"title\": {\"text\": \"Number of deaths per gender\"}, \"xaxis\": {\"anchor\": \"y\", \"domain\": [0.0, 1.0], \"title\": {\"text\": \"Sex\"}}, \"yaxis\": {\"anchor\": \"x\", \"domain\": [0.0, 1.0], \"title\": {\"text\": \"value\"}}},                        {\"responsive\": true}                    ).then(function(){\n",
       "                            \n",
       "var gd = document.getElementById('709bf92f-804c-4891-bb95-d23b1712754d');\n",
       "var x = new MutationObserver(function (mutations, observer) {{\n",
       "        var display = window.getComputedStyle(gd).display;\n",
       "        if (!display || display === 'none') {{\n",
       "            console.log([gd, 'removed!']);\n",
       "            Plotly.purge(gd);\n",
       "            observer.disconnect();\n",
       "        }}\n",
       "}});\n",
       "\n",
       "// Listen for the removal of the full notebook cells\n",
       "var notebookContainer = gd.closest('#notebook-container');\n",
       "if (notebookContainer) {{\n",
       "    x.observe(notebookContainer, {childList: true});\n",
       "}}\n",
       "\n",
       "// Listen for the clearing of the current output cell\n",
       "var outputEl = gd.closest('.output');\n",
       "if (outputEl) {{\n",
       "    x.observe(outputEl, {childList: true});\n",
       "}}\n",
       "\n",
       "                        })                };                });            </script>        </div>"
      ]
     },
     "metadata": {},
     "output_type": "display_data"
    }
   ],
   "source": [
    "#Stacked plot of \"Ethanol\", \"Morphine_NotHeroin\" related deaths as per Gender\n",
    "fig = px.bar(Drugs_Grouped, x=\"Sex\", y=[\"Ethanol\", \"Morphine_NotHeroin\"], title=\"Number of deaths per gender\")\n",
    "fig.show()"
   ]
  },
  {
   "cell_type": "code",
   "execution_count": 201,
   "metadata": {},
   "outputs": [
    {
     "name": "stdout",
     "output_type": "stream",
     "text": [
      "Total Ethanol deaths 555\n",
      "Total Morphine_NotHeroin deaths 28\n"
     ]
    }
   ],
   "source": [
    "#Total number of deaths\n",
    "Ethanol_sum=Drugs_Grouped[\"Ethanol\"].sum()\n",
    "Morphine_NotHeroin_sum=Drugs_Grouped[\"Morphine_NotHeroin\"].sum()\n",
    "print(\"Total Ethanol deaths {}\".format(Ethanol_sum))\n",
    "print(\"Total Morphine_NotHeroin deaths {}\".format(Morphine_NotHeroin_sum))"
   ]
  },
  {
   "cell_type": "code",
   "execution_count": 246,
   "metadata": {},
   "outputs": [
    {
     "data": {
      "text/plain": [
       "94.95495495495496"
      ]
     },
     "execution_count": 246,
     "metadata": {},
     "output_type": "execute_result"
    }
   ],
   "source": [
    "#Percentage by which Morphine_NotHeroin deaths are greater than ethanol deaths\n",
    "(Ethanol_sum-Morphine_NotHeroin_sum)/Ethanol_sum*100"
   ]
  },
  {
   "cell_type": "code",
   "execution_count": null,
   "metadata": {},
   "outputs": [],
   "source": [
    "Since there are 94.9% more deaths due to the consumption of alcohol, this proves the hypothesis"
   ]
  },
  {
   "cell_type": "markdown",
   "metadata": {},
   "source": [
    "## Hypothesis I :\n",
    "The proportion of deaths vs the total number of people admitted for the consumption of the drug Heroin is greater than the proportion of deaths vs the total number of people admitted for the consumption of the drug Cocaine."
   ]
  },
  {
   "cell_type": "markdown",
   "metadata": {},
   "source": [
    "Extracting Date Col as a seperate Col for Admissions File"
   ]
  },
  {
   "cell_type": "code",
   "execution_count": 234,
   "metadata": {},
   "outputs": [],
   "source": [
    "Drug_Deaths = extract_year(Drug_Deaths) # calling the function to get year col in Drug Deaths \n",
    "# Creating a new dataframe to store the date for years 2014-2016\n",
    "\n",
    "Drug_Deaths_Clean = Drug_Deaths[(Drug_Deaths.FiscalYear == 2014) | (Drug_Deaths.FiscalYear == 2015) | (Drug_Deaths.FiscalYear == 2016)]"
   ]
  },
  {
   "cell_type": "code",
   "execution_count": 226,
   "metadata": {},
   "outputs": [
    {
     "data": {
      "text/html": [
       "<div>\n",
       "<style scoped>\n",
       "    .dataframe tbody tr th:only-of-type {\n",
       "        vertical-align: middle;\n",
       "    }\n",
       "\n",
       "    .dataframe tbody tr th {\n",
       "        vertical-align: top;\n",
       "    }\n",
       "\n",
       "    .dataframe thead th {\n",
       "        text-align: right;\n",
       "    }\n",
       "</style>\n",
       "<table border=\"1\" class=\"dataframe\">\n",
       "  <thead>\n",
       "    <tr style=\"text-align: right;\">\n",
       "      <th></th>\n",
       "      <th>ID</th>\n",
       "      <th>Date</th>\n",
       "      <th>DateType</th>\n",
       "      <th>Age</th>\n",
       "      <th>Sex</th>\n",
       "      <th>Race</th>\n",
       "      <th>ResidenceCity</th>\n",
       "      <th>ResidenceCounty</th>\n",
       "      <th>ResidenceState</th>\n",
       "      <th>DeathCity</th>\n",
       "      <th>...</th>\n",
       "      <th>Morphine_NotHeroin</th>\n",
       "      <th>Hydromorphone</th>\n",
       "      <th>Other</th>\n",
       "      <th>OpiateNOS</th>\n",
       "      <th>AnyOpioid</th>\n",
       "      <th>MannerofDeath</th>\n",
       "      <th>DeathCityGeo</th>\n",
       "      <th>ResidenceCityGeo</th>\n",
       "      <th>InjuryCityGeo</th>\n",
       "      <th>FiscalYear</th>\n",
       "    </tr>\n",
       "  </thead>\n",
       "  <tbody>\n",
       "    <tr>\n",
       "      <th>0</th>\n",
       "      <td>14-0273</td>\n",
       "      <td>06/28/2014 12:00:00 AM</td>\n",
       "      <td>DateReported</td>\n",
       "      <td>NaN</td>\n",
       "      <td>NaN</td>\n",
       "      <td>NaN</td>\n",
       "      <td>NaN</td>\n",
       "      <td>NaN</td>\n",
       "      <td>NaN</td>\n",
       "      <td>NaN</td>\n",
       "      <td>...</td>\n",
       "      <td>NaN</td>\n",
       "      <td>NaN</td>\n",
       "      <td>NaN</td>\n",
       "      <td>NaN</td>\n",
       "      <td>NaN</td>\n",
       "      <td>Accident</td>\n",
       "      <td>CT\\n(41.575155, -72.738288)</td>\n",
       "      <td>CT\\n(41.575155, -72.738288)</td>\n",
       "      <td>CT\\n(41.575155, -72.738288)</td>\n",
       "      <td>2014</td>\n",
       "    </tr>\n",
       "    <tr>\n",
       "      <th>2</th>\n",
       "      <td>16-0165</td>\n",
       "      <td>03/13/2016 12:00:00 AM</td>\n",
       "      <td>DateofDeath</td>\n",
       "      <td>30.0</td>\n",
       "      <td>Female</td>\n",
       "      <td>White</td>\n",
       "      <td>SANDY HOOK</td>\n",
       "      <td>FAIRFIELD</td>\n",
       "      <td>CT</td>\n",
       "      <td>DANBURY</td>\n",
       "      <td>...</td>\n",
       "      <td>NaN</td>\n",
       "      <td>NaN</td>\n",
       "      <td>NaN</td>\n",
       "      <td>NaN</td>\n",
       "      <td>Y</td>\n",
       "      <td>Accident</td>\n",
       "      <td>Danbury, CT\\n(41.393666, -73.451539)</td>\n",
       "      <td>SANDY HOOK, CT\\n(41.419998, -73.282501)</td>\n",
       "      <td>NaN</td>\n",
       "      <td>2016</td>\n",
       "    </tr>\n",
       "    <tr>\n",
       "      <th>3</th>\n",
       "      <td>16-0208</td>\n",
       "      <td>03/31/2016 12:00:00 AM</td>\n",
       "      <td>DateofDeath</td>\n",
       "      <td>23.0</td>\n",
       "      <td>Male</td>\n",
       "      <td>White</td>\n",
       "      <td>RYE</td>\n",
       "      <td>WESTCHESTER</td>\n",
       "      <td>NY</td>\n",
       "      <td>GREENWICH</td>\n",
       "      <td>...</td>\n",
       "      <td>NaN</td>\n",
       "      <td>NaN</td>\n",
       "      <td>NaN</td>\n",
       "      <td>NaN</td>\n",
       "      <td>Y</td>\n",
       "      <td>Accident</td>\n",
       "      <td>Greenwich, CT\\n(41.026526, -73.628549)</td>\n",
       "      <td>NaN</td>\n",
       "      <td>NaN</td>\n",
       "      <td>2016</td>\n",
       "    </tr>\n",
       "    <tr>\n",
       "      <th>5</th>\n",
       "      <td>14-0277</td>\n",
       "      <td>06/29/2014 12:00:00 AM</td>\n",
       "      <td>DateofDeath</td>\n",
       "      <td>23.0</td>\n",
       "      <td>Male</td>\n",
       "      <td>White</td>\n",
       "      <td>BRISTOL</td>\n",
       "      <td>NaN</td>\n",
       "      <td>NaN</td>\n",
       "      <td>BRISTOL</td>\n",
       "      <td>...</td>\n",
       "      <td>NaN</td>\n",
       "      <td>NaN</td>\n",
       "      <td>NaN</td>\n",
       "      <td>NaN</td>\n",
       "      <td>NaN</td>\n",
       "      <td>Accident</td>\n",
       "      <td>BRISTOL, CT\\n(41.673037, -72.945791)</td>\n",
       "      <td>BRISTOL, CT\\n(41.673037, -72.945791)</td>\n",
       "      <td>CT\\n(41.575155, -72.738288)</td>\n",
       "      <td>2014</td>\n",
       "    </tr>\n",
       "    <tr>\n",
       "      <th>11</th>\n",
       "      <td>15-0334</td>\n",
       "      <td>07/05/2015 12:00:00 AM</td>\n",
       "      <td>DateReported</td>\n",
       "      <td>49.0</td>\n",
       "      <td>Female</td>\n",
       "      <td>White</td>\n",
       "      <td>NaN</td>\n",
       "      <td>NaN</td>\n",
       "      <td>NaN</td>\n",
       "      <td>NEW HAVEN</td>\n",
       "      <td>...</td>\n",
       "      <td>NaN</td>\n",
       "      <td>NaN</td>\n",
       "      <td>NaN</td>\n",
       "      <td>NaN</td>\n",
       "      <td>Y</td>\n",
       "      <td>Accident</td>\n",
       "      <td>New Haven, CT\\n(41.308252, -72.924161)</td>\n",
       "      <td>CT\\n(41.575155, -72.738288)</td>\n",
       "      <td>CT\\n(41.575155, -72.738288)</td>\n",
       "      <td>2015</td>\n",
       "    </tr>\n",
       "  </tbody>\n",
       "</table>\n",
       "<p>5 rows × 42 columns</p>\n",
       "</div>"
      ],
      "text/plain": [
       "         ID                    Date      DateType   Age     Sex   Race  \\\n",
       "0   14-0273  06/28/2014 12:00:00 AM  DateReported   NaN     NaN    NaN   \n",
       "2   16-0165  03/13/2016 12:00:00 AM   DateofDeath  30.0  Female  White   \n",
       "3   16-0208  03/31/2016 12:00:00 AM   DateofDeath  23.0    Male  White   \n",
       "5   14-0277  06/29/2014 12:00:00 AM   DateofDeath  23.0    Male  White   \n",
       "11  15-0334  07/05/2015 12:00:00 AM  DateReported  49.0  Female  White   \n",
       "\n",
       "   ResidenceCity ResidenceCounty ResidenceState  DeathCity  ...  \\\n",
       "0            NaN             NaN            NaN        NaN  ...   \n",
       "2     SANDY HOOK       FAIRFIELD             CT    DANBURY  ...   \n",
       "3            RYE     WESTCHESTER             NY  GREENWICH  ...   \n",
       "5        BRISTOL             NaN            NaN    BRISTOL  ...   \n",
       "11           NaN             NaN            NaN  NEW HAVEN  ...   \n",
       "\n",
       "   Morphine_NotHeroin Hydromorphone Other OpiateNOS AnyOpioid MannerofDeath  \\\n",
       "0                 NaN           NaN   NaN       NaN       NaN      Accident   \n",
       "2                 NaN           NaN   NaN       NaN         Y      Accident   \n",
       "3                 NaN           NaN   NaN       NaN         Y      Accident   \n",
       "5                 NaN           NaN   NaN       NaN       NaN      Accident   \n",
       "11                NaN           NaN   NaN       NaN         Y      Accident   \n",
       "\n",
       "                              DeathCityGeo  \\\n",
       "0              CT\\n(41.575155, -72.738288)   \n",
       "2     Danbury, CT\\n(41.393666, -73.451539)   \n",
       "3   Greenwich, CT\\n(41.026526, -73.628549)   \n",
       "5     BRISTOL, CT\\n(41.673037, -72.945791)   \n",
       "11  New Haven, CT\\n(41.308252, -72.924161)   \n",
       "\n",
       "                           ResidenceCityGeo                InjuryCityGeo  \\\n",
       "0               CT\\n(41.575155, -72.738288)  CT\\n(41.575155, -72.738288)   \n",
       "2   SANDY HOOK, CT\\n(41.419998, -73.282501)                          NaN   \n",
       "3                                       NaN                          NaN   \n",
       "5      BRISTOL, CT\\n(41.673037, -72.945791)  CT\\n(41.575155, -72.738288)   \n",
       "11              CT\\n(41.575155, -72.738288)  CT\\n(41.575155, -72.738288)   \n",
       "\n",
       "   FiscalYear  \n",
       "0        2014  \n",
       "2        2016  \n",
       "3        2016  \n",
       "5        2014  \n",
       "11       2015  \n",
       "\n",
       "[5 rows x 42 columns]"
      ]
     },
     "execution_count": 226,
     "metadata": {},
     "output_type": "execute_result"
    }
   ],
   "source": [
    "Drug_Deaths_Clean.head()"
   ]
  },
  {
   "cell_type": "code",
   "execution_count": null,
   "metadata": {},
   "outputs": [],
   "source": []
  }
 ],
 "metadata": {
  "kernelspec": {
   "display_name": "Python 3",
   "language": "python",
   "name": "python3"
  },
  "language_info": {
   "codemirror_mode": {
    "name": "ipython",
    "version": 3
   },
   "file_extension": ".py",
   "mimetype": "text/x-python",
   "name": "python",
   "nbconvert_exporter": "python",
   "pygments_lexer": "ipython3",
   "version": "3.8.5"
  }
 },
 "nbformat": 4,
 "nbformat_minor": 4
}
